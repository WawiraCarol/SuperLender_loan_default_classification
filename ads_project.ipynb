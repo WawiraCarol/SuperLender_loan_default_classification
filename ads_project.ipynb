{
 "cells": [
  {
   "cell_type": "code",
   "execution_count": 107,
   "metadata": {
    "scrolled": true
   },
   "outputs": [],
   "source": [
    "#import files\n",
    "\n",
    "import pandas as pd\n",
    "import numpy as np\n",
    "import seaborn as sns\n",
    "import datetime as dt\n",
    "import matplotlib.pyplot as plt\n",
    "from collections import Counter\n",
    "import random\n",
    "import itertools\n",
    "import datetime as dt                        \n",
    "from scipy import stats  \n",
    "from IPython.display import display          \n",
    "import warnings                                \n",
    "warnings.filterwarnings('ignore') \n",
    "import os                  \n",
    "import gc   \n",
    "from sklearn.svm import SVC\n",
    "from sklearn.ensemble import RandomForestClassifier\n",
    "from xgboost import XGBClassifier"
   ]
  },
  {
   "cell_type": "code",
   "execution_count": 108,
   "metadata": {},
   "outputs": [],
   "source": [
    "#import files and format date data\n",
    "\n",
    "loans = pd.read_csv('previousloans.csv', parse_dates=['approveddate','creationdate','closeddate','firstduedate','firstrepaiddate'])\n",
    "performance = pd.read_csv('performance.csv', parse_dates=['approveddate','creationdate'])\n",
    "demographics = pd.read_csv('demographics.csv', parse_dates=['birthdate'])\n"
   ]
  },
  {
   "cell_type": "code",
   "execution_count": 109,
   "metadata": {},
   "outputs": [
    {
     "data": {
      "text/html": [
       "<div>\n",
       "<style scoped>\n",
       "    .dataframe tbody tr th:only-of-type {\n",
       "        vertical-align: middle;\n",
       "    }\n",
       "\n",
       "    .dataframe tbody tr th {\n",
       "        vertical-align: top;\n",
       "    }\n",
       "\n",
       "    .dataframe thead th {\n",
       "        text-align: right;\n",
       "    }\n",
       "</style>\n",
       "<table border=\"1\" class=\"dataframe\">\n",
       "  <thead>\n",
       "    <tr style=\"text-align: right;\">\n",
       "      <th></th>\n",
       "      <th>customerid</th>\n",
       "      <th>systemloanid</th>\n",
       "      <th>loannumber</th>\n",
       "      <th>approveddate</th>\n",
       "      <th>creationdate</th>\n",
       "      <th>loanamount</th>\n",
       "      <th>totaldue</th>\n",
       "      <th>termdays</th>\n",
       "      <th>referredby</th>\n",
       "      <th>good_bad_flag</th>\n",
       "    </tr>\n",
       "  </thead>\n",
       "  <tbody>\n",
       "    <tr>\n",
       "      <th>0</th>\n",
       "      <td>8a2a81a74ce8c05d014cfb32a0da1049</td>\n",
       "      <td>301994762</td>\n",
       "      <td>12</td>\n",
       "      <td>2017-07-25 08:22:56</td>\n",
       "      <td>2017-07-25 07:22:47</td>\n",
       "      <td>30000.0</td>\n",
       "      <td>34500.0</td>\n",
       "      <td>30</td>\n",
       "      <td>NaN</td>\n",
       "      <td>Good</td>\n",
       "    </tr>\n",
       "    <tr>\n",
       "      <th>1</th>\n",
       "      <td>8a85886e54beabf90154c0a29ae757c0</td>\n",
       "      <td>301965204</td>\n",
       "      <td>2</td>\n",
       "      <td>2017-07-05 17:04:41</td>\n",
       "      <td>2017-07-05 16:04:18</td>\n",
       "      <td>15000.0</td>\n",
       "      <td>17250.0</td>\n",
       "      <td>30</td>\n",
       "      <td>NaN</td>\n",
       "      <td>Good</td>\n",
       "    </tr>\n",
       "    <tr>\n",
       "      <th>2</th>\n",
       "      <td>8a8588f35438fe12015444567666018e</td>\n",
       "      <td>301966580</td>\n",
       "      <td>7</td>\n",
       "      <td>2017-07-06 14:52:57</td>\n",
       "      <td>2017-07-06 13:52:51</td>\n",
       "      <td>20000.0</td>\n",
       "      <td>22250.0</td>\n",
       "      <td>15</td>\n",
       "      <td>NaN</td>\n",
       "      <td>Good</td>\n",
       "    </tr>\n",
       "    <tr>\n",
       "      <th>3</th>\n",
       "      <td>8a85890754145ace015429211b513e16</td>\n",
       "      <td>301999343</td>\n",
       "      <td>3</td>\n",
       "      <td>2017-07-27 19:00:41</td>\n",
       "      <td>2017-07-27 18:00:35</td>\n",
       "      <td>10000.0</td>\n",
       "      <td>11500.0</td>\n",
       "      <td>15</td>\n",
       "      <td>NaN</td>\n",
       "      <td>Good</td>\n",
       "    </tr>\n",
       "    <tr>\n",
       "      <th>4</th>\n",
       "      <td>8a858970548359cc0154883481981866</td>\n",
       "      <td>301962360</td>\n",
       "      <td>9</td>\n",
       "      <td>2017-07-03 23:42:45</td>\n",
       "      <td>2017-07-03 22:42:39</td>\n",
       "      <td>40000.0</td>\n",
       "      <td>44000.0</td>\n",
       "      <td>30</td>\n",
       "      <td>NaN</td>\n",
       "      <td>Good</td>\n",
       "    </tr>\n",
       "  </tbody>\n",
       "</table>\n",
       "</div>"
      ],
      "text/plain": [
       "                         customerid  systemloanid  loannumber  \\\n",
       "0  8a2a81a74ce8c05d014cfb32a0da1049     301994762          12   \n",
       "1  8a85886e54beabf90154c0a29ae757c0     301965204           2   \n",
       "2  8a8588f35438fe12015444567666018e     301966580           7   \n",
       "3  8a85890754145ace015429211b513e16     301999343           3   \n",
       "4  8a858970548359cc0154883481981866     301962360           9   \n",
       "\n",
       "         approveddate        creationdate  loanamount  totaldue  termdays  \\\n",
       "0 2017-07-25 08:22:56 2017-07-25 07:22:47     30000.0   34500.0        30   \n",
       "1 2017-07-05 17:04:41 2017-07-05 16:04:18     15000.0   17250.0        30   \n",
       "2 2017-07-06 14:52:57 2017-07-06 13:52:51     20000.0   22250.0        15   \n",
       "3 2017-07-27 19:00:41 2017-07-27 18:00:35     10000.0   11500.0        15   \n",
       "4 2017-07-03 23:42:45 2017-07-03 22:42:39     40000.0   44000.0        30   \n",
       "\n",
       "  referredby good_bad_flag  \n",
       "0        NaN          Good  \n",
       "1        NaN          Good  \n",
       "2        NaN          Good  \n",
       "3        NaN          Good  \n",
       "4        NaN          Good  "
      ]
     },
     "execution_count": 109,
     "metadata": {},
     "output_type": "execute_result"
    }
   ],
   "source": [
    "performance.head()\n"
   ]
  },
  {
   "cell_type": "code",
   "execution_count": 110,
   "metadata": {},
   "outputs": [
    {
     "data": {
      "text/html": [
       "<div>\n",
       "<style scoped>\n",
       "    .dataframe tbody tr th:only-of-type {\n",
       "        vertical-align: middle;\n",
       "    }\n",
       "\n",
       "    .dataframe tbody tr th {\n",
       "        vertical-align: top;\n",
       "    }\n",
       "\n",
       "    .dataframe thead th {\n",
       "        text-align: right;\n",
       "    }\n",
       "</style>\n",
       "<table border=\"1\" class=\"dataframe\">\n",
       "  <thead>\n",
       "    <tr style=\"text-align: right;\">\n",
       "      <th></th>\n",
       "      <th>customerid</th>\n",
       "      <th>systemloanid</th>\n",
       "      <th>loannumber</th>\n",
       "      <th>approveddate</th>\n",
       "      <th>creationdate</th>\n",
       "      <th>loanamount</th>\n",
       "      <th>totaldue</th>\n",
       "      <th>termdays</th>\n",
       "      <th>referredby</th>\n",
       "      <th>good_bad_flag</th>\n",
       "    </tr>\n",
       "  </thead>\n",
       "  <tbody>\n",
       "    <tr>\n",
       "      <th>4363</th>\n",
       "      <td>8a858e6d58b0cc520158beeb14b22a5a</td>\n",
       "      <td>302003163</td>\n",
       "      <td>2</td>\n",
       "      <td>2017-07-30 09:19:42</td>\n",
       "      <td>2017-07-30 08:18:30</td>\n",
       "      <td>10000.0</td>\n",
       "      <td>13000.0</td>\n",
       "      <td>30</td>\n",
       "      <td>NaN</td>\n",
       "      <td>Bad</td>\n",
       "    </tr>\n",
       "    <tr>\n",
       "      <th>4364</th>\n",
       "      <td>8a858ee85cf400f5015cf44ab1c42d5c</td>\n",
       "      <td>301998967</td>\n",
       "      <td>2</td>\n",
       "      <td>2017-07-27 15:35:47</td>\n",
       "      <td>2017-07-27 14:35:40</td>\n",
       "      <td>10000.0</td>\n",
       "      <td>13000.0</td>\n",
       "      <td>30</td>\n",
       "      <td>NaN</td>\n",
       "      <td>Bad</td>\n",
       "    </tr>\n",
       "    <tr>\n",
       "      <th>4365</th>\n",
       "      <td>8a858f365b2547f3015b284597147c94</td>\n",
       "      <td>301995576</td>\n",
       "      <td>3</td>\n",
       "      <td>2017-07-25 16:25:57</td>\n",
       "      <td>2017-07-25 15:24:47</td>\n",
       "      <td>10000.0</td>\n",
       "      <td>11500.0</td>\n",
       "      <td>15</td>\n",
       "      <td>NaN</td>\n",
       "      <td>Bad</td>\n",
       "    </tr>\n",
       "    <tr>\n",
       "      <th>4366</th>\n",
       "      <td>8a858f935ca09667015ca0ee3bc63f51</td>\n",
       "      <td>301977679</td>\n",
       "      <td>2</td>\n",
       "      <td>2017-07-14 13:50:27</td>\n",
       "      <td>2017-07-14 12:50:21</td>\n",
       "      <td>10000.0</td>\n",
       "      <td>13000.0</td>\n",
       "      <td>30</td>\n",
       "      <td>8a858eda5c8863ff015c9dead65807bb</td>\n",
       "      <td>Bad</td>\n",
       "    </tr>\n",
       "    <tr>\n",
       "      <th>4367</th>\n",
       "      <td>8a858fd458639fcc015868eb14b542ad</td>\n",
       "      <td>301967124</td>\n",
       "      <td>8</td>\n",
       "      <td>2017-07-06 21:01:06</td>\n",
       "      <td>2017-07-06 20:01:01</td>\n",
       "      <td>30000.0</td>\n",
       "      <td>34500.0</td>\n",
       "      <td>30</td>\n",
       "      <td>NaN</td>\n",
       "      <td>Bad</td>\n",
       "    </tr>\n",
       "  </tbody>\n",
       "</table>\n",
       "</div>"
      ],
      "text/plain": [
       "                            customerid  systemloanid  loannumber  \\\n",
       "4363  8a858e6d58b0cc520158beeb14b22a5a     302003163           2   \n",
       "4364  8a858ee85cf400f5015cf44ab1c42d5c     301998967           2   \n",
       "4365  8a858f365b2547f3015b284597147c94     301995576           3   \n",
       "4366  8a858f935ca09667015ca0ee3bc63f51     301977679           2   \n",
       "4367  8a858fd458639fcc015868eb14b542ad     301967124           8   \n",
       "\n",
       "            approveddate        creationdate  loanamount  totaldue  termdays  \\\n",
       "4363 2017-07-30 09:19:42 2017-07-30 08:18:30     10000.0   13000.0        30   \n",
       "4364 2017-07-27 15:35:47 2017-07-27 14:35:40     10000.0   13000.0        30   \n",
       "4365 2017-07-25 16:25:57 2017-07-25 15:24:47     10000.0   11500.0        15   \n",
       "4366 2017-07-14 13:50:27 2017-07-14 12:50:21     10000.0   13000.0        30   \n",
       "4367 2017-07-06 21:01:06 2017-07-06 20:01:01     30000.0   34500.0        30   \n",
       "\n",
       "                            referredby good_bad_flag  \n",
       "4363                               NaN           Bad  \n",
       "4364                               NaN           Bad  \n",
       "4365                               NaN           Bad  \n",
       "4366  8a858eda5c8863ff015c9dead65807bb           Bad  \n",
       "4367                               NaN           Bad  "
      ]
     },
     "execution_count": 110,
     "metadata": {},
     "output_type": "execute_result"
    }
   ],
   "source": [
    "performance.tail()"
   ]
  },
  {
   "cell_type": "code",
   "execution_count": 111,
   "metadata": {},
   "outputs": [
    {
     "data": {
      "text/html": [
       "<div>\n",
       "<style scoped>\n",
       "    .dataframe tbody tr th:only-of-type {\n",
       "        vertical-align: middle;\n",
       "    }\n",
       "\n",
       "    .dataframe tbody tr th {\n",
       "        vertical-align: top;\n",
       "    }\n",
       "\n",
       "    .dataframe thead th {\n",
       "        text-align: right;\n",
       "    }\n",
       "</style>\n",
       "<table border=\"1\" class=\"dataframe\">\n",
       "  <thead>\n",
       "    <tr style=\"text-align: right;\">\n",
       "      <th></th>\n",
       "      <th>customerid</th>\n",
       "      <th>birthdate</th>\n",
       "      <th>bank_account_type</th>\n",
       "      <th>longitude_gps</th>\n",
       "      <th>latitude_gps</th>\n",
       "      <th>bank_name_clients</th>\n",
       "      <th>bank_branch_clients</th>\n",
       "      <th>employment_status_clients</th>\n",
       "      <th>level_of_education_clients</th>\n",
       "    </tr>\n",
       "  </thead>\n",
       "  <tbody>\n",
       "    <tr>\n",
       "      <th>0</th>\n",
       "      <td>8a858e135cb22031015cbafc76964ebd</td>\n",
       "      <td>1976-08-28</td>\n",
       "      <td>Savings</td>\n",
       "      <td>3.319219</td>\n",
       "      <td>6.528604</td>\n",
       "      <td>GT Bank</td>\n",
       "      <td>NaN</td>\n",
       "      <td>NaN</td>\n",
       "      <td>NaN</td>\n",
       "    </tr>\n",
       "    <tr>\n",
       "      <th>1</th>\n",
       "      <td>8a858e275c7ea5ec015c82482d7c3996</td>\n",
       "      <td>1978-06-23</td>\n",
       "      <td>Savings</td>\n",
       "      <td>3.325598</td>\n",
       "      <td>7.119403</td>\n",
       "      <td>Sterling Bank</td>\n",
       "      <td>NaN</td>\n",
       "      <td>Permanent</td>\n",
       "      <td>NaN</td>\n",
       "    </tr>\n",
       "    <tr>\n",
       "      <th>2</th>\n",
       "      <td>8a858e5b5bd99460015bdc95cd485634</td>\n",
       "      <td>1984-04-04</td>\n",
       "      <td>Savings</td>\n",
       "      <td>5.746100</td>\n",
       "      <td>5.563174</td>\n",
       "      <td>Fidelity Bank</td>\n",
       "      <td>NaN</td>\n",
       "      <td>NaN</td>\n",
       "      <td>NaN</td>\n",
       "    </tr>\n",
       "    <tr>\n",
       "      <th>3</th>\n",
       "      <td>8a858efd5ca70688015cabd1f1e94b55</td>\n",
       "      <td>1983-05-28</td>\n",
       "      <td>Savings</td>\n",
       "      <td>3.362850</td>\n",
       "      <td>6.642485</td>\n",
       "      <td>GT Bank</td>\n",
       "      <td>NaN</td>\n",
       "      <td>Permanent</td>\n",
       "      <td>NaN</td>\n",
       "    </tr>\n",
       "    <tr>\n",
       "      <th>4</th>\n",
       "      <td>8a858e785acd3412015acd48f4920d04</td>\n",
       "      <td>1982-03-29</td>\n",
       "      <td>Savings</td>\n",
       "      <td>8.455332</td>\n",
       "      <td>11.971410</td>\n",
       "      <td>GT Bank</td>\n",
       "      <td>NaN</td>\n",
       "      <td>Permanent</td>\n",
       "      <td>NaN</td>\n",
       "    </tr>\n",
       "  </tbody>\n",
       "</table>\n",
       "</div>"
      ],
      "text/plain": [
       "                         customerid  birthdate bank_account_type  \\\n",
       "0  8a858e135cb22031015cbafc76964ebd 1976-08-28           Savings   \n",
       "1  8a858e275c7ea5ec015c82482d7c3996 1978-06-23           Savings   \n",
       "2  8a858e5b5bd99460015bdc95cd485634 1984-04-04           Savings   \n",
       "3  8a858efd5ca70688015cabd1f1e94b55 1983-05-28           Savings   \n",
       "4  8a858e785acd3412015acd48f4920d04 1982-03-29           Savings   \n",
       "\n",
       "   longitude_gps  latitude_gps bank_name_clients bank_branch_clients  \\\n",
       "0       3.319219      6.528604           GT Bank                 NaN   \n",
       "1       3.325598      7.119403     Sterling Bank                 NaN   \n",
       "2       5.746100      5.563174     Fidelity Bank                 NaN   \n",
       "3       3.362850      6.642485           GT Bank                 NaN   \n",
       "4       8.455332     11.971410           GT Bank                 NaN   \n",
       "\n",
       "  employment_status_clients level_of_education_clients  \n",
       "0                       NaN                        NaN  \n",
       "1                 Permanent                        NaN  \n",
       "2                       NaN                        NaN  \n",
       "3                 Permanent                        NaN  \n",
       "4                 Permanent                        NaN  "
      ]
     },
     "execution_count": 111,
     "metadata": {},
     "output_type": "execute_result"
    }
   ],
   "source": [
    "demographics.head()"
   ]
  },
  {
   "cell_type": "code",
   "execution_count": 112,
   "metadata": {},
   "outputs": [
    {
     "data": {
      "text/html": [
       "<div>\n",
       "<style scoped>\n",
       "    .dataframe tbody tr th:only-of-type {\n",
       "        vertical-align: middle;\n",
       "    }\n",
       "\n",
       "    .dataframe tbody tr th {\n",
       "        vertical-align: top;\n",
       "    }\n",
       "\n",
       "    .dataframe thead th {\n",
       "        text-align: right;\n",
       "    }\n",
       "</style>\n",
       "<table border=\"1\" class=\"dataframe\">\n",
       "  <thead>\n",
       "    <tr style=\"text-align: right;\">\n",
       "      <th></th>\n",
       "      <th>customerid</th>\n",
       "      <th>birthdate</th>\n",
       "      <th>bank_account_type</th>\n",
       "      <th>longitude_gps</th>\n",
       "      <th>latitude_gps</th>\n",
       "      <th>bank_name_clients</th>\n",
       "      <th>bank_branch_clients</th>\n",
       "      <th>employment_status_clients</th>\n",
       "      <th>level_of_education_clients</th>\n",
       "    </tr>\n",
       "  </thead>\n",
       "  <tbody>\n",
       "    <tr>\n",
       "      <th>4341</th>\n",
       "      <td>8a858f155554552501555588ca2b3b40</td>\n",
       "      <td>1988-05-02</td>\n",
       "      <td>Other</td>\n",
       "      <td>3.236753</td>\n",
       "      <td>7.030168</td>\n",
       "      <td>Stanbic IBTC</td>\n",
       "      <td>NaN</td>\n",
       "      <td>Permanent</td>\n",
       "      <td>Graduate</td>\n",
       "    </tr>\n",
       "    <tr>\n",
       "      <th>4342</th>\n",
       "      <td>8a858fc65cf978f4015cf97cee3a02ce</td>\n",
       "      <td>1985-07-14</td>\n",
       "      <td>Savings</td>\n",
       "      <td>7.013749</td>\n",
       "      <td>4.875662</td>\n",
       "      <td>GT Bank</td>\n",
       "      <td>NaN</td>\n",
       "      <td>NaN</td>\n",
       "      <td>NaN</td>\n",
       "    </tr>\n",
       "    <tr>\n",
       "      <th>4343</th>\n",
       "      <td>8a858f4f5b66de3a015b66fc83c61902</td>\n",
       "      <td>1984-06-25</td>\n",
       "      <td>Savings</td>\n",
       "      <td>6.295530</td>\n",
       "      <td>7.092508</td>\n",
       "      <td>GT Bank</td>\n",
       "      <td>NaN</td>\n",
       "      <td>Permanent</td>\n",
       "      <td>NaN</td>\n",
       "    </tr>\n",
       "    <tr>\n",
       "      <th>4344</th>\n",
       "      <td>8aaae7a74400b28201441c8b62514150</td>\n",
       "      <td>1984-12-09</td>\n",
       "      <td>Savings</td>\n",
       "      <td>3.354206</td>\n",
       "      <td>6.539070</td>\n",
       "      <td>GT Bank</td>\n",
       "      <td>HEAD OFFICE</td>\n",
       "      <td>Permanent</td>\n",
       "      <td>Primary</td>\n",
       "    </tr>\n",
       "    <tr>\n",
       "      <th>4345</th>\n",
       "      <td>8a85896653e2e18b0153e69c1b90265c</td>\n",
       "      <td>1974-04-20</td>\n",
       "      <td>Savings</td>\n",
       "      <td>6.661014</td>\n",
       "      <td>7.472700</td>\n",
       "      <td>UBA</td>\n",
       "      <td>NaN</td>\n",
       "      <td>Permanent</td>\n",
       "      <td>NaN</td>\n",
       "    </tr>\n",
       "  </tbody>\n",
       "</table>\n",
       "</div>"
      ],
      "text/plain": [
       "                            customerid  birthdate bank_account_type  \\\n",
       "4341  8a858f155554552501555588ca2b3b40 1988-05-02             Other   \n",
       "4342  8a858fc65cf978f4015cf97cee3a02ce 1985-07-14           Savings   \n",
       "4343  8a858f4f5b66de3a015b66fc83c61902 1984-06-25           Savings   \n",
       "4344  8aaae7a74400b28201441c8b62514150 1984-12-09           Savings   \n",
       "4345  8a85896653e2e18b0153e69c1b90265c 1974-04-20           Savings   \n",
       "\n",
       "      longitude_gps  latitude_gps bank_name_clients bank_branch_clients  \\\n",
       "4341       3.236753      7.030168      Stanbic IBTC                 NaN   \n",
       "4342       7.013749      4.875662           GT Bank                 NaN   \n",
       "4343       6.295530      7.092508           GT Bank                 NaN   \n",
       "4344       3.354206      6.539070           GT Bank         HEAD OFFICE   \n",
       "4345       6.661014      7.472700               UBA                 NaN   \n",
       "\n",
       "     employment_status_clients level_of_education_clients  \n",
       "4341                 Permanent                   Graduate  \n",
       "4342                       NaN                        NaN  \n",
       "4343                 Permanent                        NaN  \n",
       "4344                 Permanent                    Primary  \n",
       "4345                 Permanent                        NaN  "
      ]
     },
     "execution_count": 112,
     "metadata": {},
     "output_type": "execute_result"
    }
   ],
   "source": [
    "demographics.tail()"
   ]
  },
  {
   "cell_type": "code",
   "execution_count": 113,
   "metadata": {},
   "outputs": [
    {
     "data": {
      "text/html": [
       "<div>\n",
       "<style scoped>\n",
       "    .dataframe tbody tr th:only-of-type {\n",
       "        vertical-align: middle;\n",
       "    }\n",
       "\n",
       "    .dataframe tbody tr th {\n",
       "        vertical-align: top;\n",
       "    }\n",
       "\n",
       "    .dataframe thead th {\n",
       "        text-align: right;\n",
       "    }\n",
       "</style>\n",
       "<table border=\"1\" class=\"dataframe\">\n",
       "  <thead>\n",
       "    <tr style=\"text-align: right;\">\n",
       "      <th></th>\n",
       "      <th>customerid</th>\n",
       "      <th>systemloanid</th>\n",
       "      <th>loannumber</th>\n",
       "      <th>approveddate</th>\n",
       "      <th>creationdate</th>\n",
       "      <th>loanamount</th>\n",
       "      <th>totaldue</th>\n",
       "      <th>termdays</th>\n",
       "      <th>closeddate</th>\n",
       "      <th>referredby</th>\n",
       "      <th>firstduedate</th>\n",
       "      <th>firstrepaiddate</th>\n",
       "    </tr>\n",
       "  </thead>\n",
       "  <tbody>\n",
       "    <tr>\n",
       "      <th>0</th>\n",
       "      <td>8a2a81a74ce8c05d014cfb32a0da1049</td>\n",
       "      <td>301682320</td>\n",
       "      <td>2</td>\n",
       "      <td>2016-08-15 18:22:40</td>\n",
       "      <td>2016-08-15 17:22:32</td>\n",
       "      <td>10000.0</td>\n",
       "      <td>13000.0</td>\n",
       "      <td>30</td>\n",
       "      <td>2016-09-01 16:06:48</td>\n",
       "      <td>NaN</td>\n",
       "      <td>2016-09-14</td>\n",
       "      <td>2016-09-01 15:51:43</td>\n",
       "    </tr>\n",
       "    <tr>\n",
       "      <th>1</th>\n",
       "      <td>8a2a81a74ce8c05d014cfb32a0da1049</td>\n",
       "      <td>301883808</td>\n",
       "      <td>9</td>\n",
       "      <td>2017-04-28 18:39:07</td>\n",
       "      <td>2017-04-28 17:38:53</td>\n",
       "      <td>10000.0</td>\n",
       "      <td>13000.0</td>\n",
       "      <td>30</td>\n",
       "      <td>2017-05-28 14:44:49</td>\n",
       "      <td>NaN</td>\n",
       "      <td>2017-05-30</td>\n",
       "      <td>2017-05-26 00:00:00</td>\n",
       "    </tr>\n",
       "    <tr>\n",
       "      <th>2</th>\n",
       "      <td>8a2a81a74ce8c05d014cfb32a0da1049</td>\n",
       "      <td>301831714</td>\n",
       "      <td>8</td>\n",
       "      <td>2017-03-05 10:56:25</td>\n",
       "      <td>2017-03-05 09:56:19</td>\n",
       "      <td>20000.0</td>\n",
       "      <td>23800.0</td>\n",
       "      <td>30</td>\n",
       "      <td>2017-04-26 22:18:56</td>\n",
       "      <td>NaN</td>\n",
       "      <td>2017-04-04</td>\n",
       "      <td>2017-04-26 22:03:47</td>\n",
       "    </tr>\n",
       "    <tr>\n",
       "      <th>3</th>\n",
       "      <td>8a8588f35438fe12015444567666018e</td>\n",
       "      <td>301861541</td>\n",
       "      <td>5</td>\n",
       "      <td>2017-04-09 18:25:55</td>\n",
       "      <td>2017-04-09 17:25:42</td>\n",
       "      <td>10000.0</td>\n",
       "      <td>11500.0</td>\n",
       "      <td>15</td>\n",
       "      <td>2017-04-24 01:35:52</td>\n",
       "      <td>NaN</td>\n",
       "      <td>2017-04-24</td>\n",
       "      <td>2017-04-24 00:48:43</td>\n",
       "    </tr>\n",
       "    <tr>\n",
       "      <th>4</th>\n",
       "      <td>8a85890754145ace015429211b513e16</td>\n",
       "      <td>301941754</td>\n",
       "      <td>2</td>\n",
       "      <td>2017-06-17 09:29:57</td>\n",
       "      <td>2017-06-17 08:29:50</td>\n",
       "      <td>10000.0</td>\n",
       "      <td>11500.0</td>\n",
       "      <td>15</td>\n",
       "      <td>2017-07-14 21:18:43</td>\n",
       "      <td>NaN</td>\n",
       "      <td>2017-07-03</td>\n",
       "      <td>2017-07-14 21:08:35</td>\n",
       "    </tr>\n",
       "  </tbody>\n",
       "</table>\n",
       "</div>"
      ],
      "text/plain": [
       "                         customerid  systemloanid  loannumber  \\\n",
       "0  8a2a81a74ce8c05d014cfb32a0da1049     301682320           2   \n",
       "1  8a2a81a74ce8c05d014cfb32a0da1049     301883808           9   \n",
       "2  8a2a81a74ce8c05d014cfb32a0da1049     301831714           8   \n",
       "3  8a8588f35438fe12015444567666018e     301861541           5   \n",
       "4  8a85890754145ace015429211b513e16     301941754           2   \n",
       "\n",
       "         approveddate        creationdate  loanamount  totaldue  termdays  \\\n",
       "0 2016-08-15 18:22:40 2016-08-15 17:22:32     10000.0   13000.0        30   \n",
       "1 2017-04-28 18:39:07 2017-04-28 17:38:53     10000.0   13000.0        30   \n",
       "2 2017-03-05 10:56:25 2017-03-05 09:56:19     20000.0   23800.0        30   \n",
       "3 2017-04-09 18:25:55 2017-04-09 17:25:42     10000.0   11500.0        15   \n",
       "4 2017-06-17 09:29:57 2017-06-17 08:29:50     10000.0   11500.0        15   \n",
       "\n",
       "           closeddate referredby firstduedate     firstrepaiddate  \n",
       "0 2016-09-01 16:06:48        NaN   2016-09-14 2016-09-01 15:51:43  \n",
       "1 2017-05-28 14:44:49        NaN   2017-05-30 2017-05-26 00:00:00  \n",
       "2 2017-04-26 22:18:56        NaN   2017-04-04 2017-04-26 22:03:47  \n",
       "3 2017-04-24 01:35:52        NaN   2017-04-24 2017-04-24 00:48:43  \n",
       "4 2017-07-14 21:18:43        NaN   2017-07-03 2017-07-14 21:08:35  "
      ]
     },
     "execution_count": 113,
     "metadata": {},
     "output_type": "execute_result"
    }
   ],
   "source": [
    "loans.head()"
   ]
  },
  {
   "cell_type": "code",
   "execution_count": 114,
   "metadata": {},
   "outputs": [
    {
     "data": {
      "text/html": [
       "<div>\n",
       "<style scoped>\n",
       "    .dataframe tbody tr th:only-of-type {\n",
       "        vertical-align: middle;\n",
       "    }\n",
       "\n",
       "    .dataframe tbody tr th {\n",
       "        vertical-align: top;\n",
       "    }\n",
       "\n",
       "    .dataframe thead th {\n",
       "        text-align: right;\n",
       "    }\n",
       "</style>\n",
       "<table border=\"1\" class=\"dataframe\">\n",
       "  <thead>\n",
       "    <tr style=\"text-align: right;\">\n",
       "      <th></th>\n",
       "      <th>customerid</th>\n",
       "      <th>systemloanid</th>\n",
       "      <th>loannumber</th>\n",
       "      <th>approveddate</th>\n",
       "      <th>creationdate</th>\n",
       "      <th>loanamount</th>\n",
       "      <th>totaldue</th>\n",
       "      <th>termdays</th>\n",
       "      <th>closeddate</th>\n",
       "      <th>referredby</th>\n",
       "      <th>firstduedate</th>\n",
       "      <th>firstrepaiddate</th>\n",
       "    </tr>\n",
       "  </thead>\n",
       "  <tbody>\n",
       "    <tr>\n",
       "      <th>18178</th>\n",
       "      <td>8a858899538ddb8e0153a2b555421fc5</td>\n",
       "      <td>301611754</td>\n",
       "      <td>2</td>\n",
       "      <td>2016-04-16 13:36:34</td>\n",
       "      <td>2016-04-16 12:36:28</td>\n",
       "      <td>10000.0</td>\n",
       "      <td>13000.0</td>\n",
       "      <td>30</td>\n",
       "      <td>2016-05-14 00:04:52</td>\n",
       "      <td>NaN</td>\n",
       "      <td>2016-05-16</td>\n",
       "      <td>2016-05-13 18:05:07</td>\n",
       "    </tr>\n",
       "    <tr>\n",
       "      <th>18179</th>\n",
       "      <td>8a858899538ddb8e0153a2b555421fc5</td>\n",
       "      <td>301761267</td>\n",
       "      <td>9</td>\n",
       "      <td>2016-11-18 14:26:07</td>\n",
       "      <td>2016-11-18 13:25:51</td>\n",
       "      <td>30000.0</td>\n",
       "      <td>34400.0</td>\n",
       "      <td>30</td>\n",
       "      <td>2016-12-13 16:08:57</td>\n",
       "      <td>NaN</td>\n",
       "      <td>2016-12-19</td>\n",
       "      <td>2016-12-13 15:53:48</td>\n",
       "    </tr>\n",
       "    <tr>\n",
       "      <th>18180</th>\n",
       "      <td>8a858899538ddb8e0153a2b555421fc5</td>\n",
       "      <td>301631653</td>\n",
       "      <td>4</td>\n",
       "      <td>2016-06-12 15:30:56</td>\n",
       "      <td>2016-06-12 14:30:50</td>\n",
       "      <td>10000.0</td>\n",
       "      <td>13000.0</td>\n",
       "      <td>30</td>\n",
       "      <td>2016-07-09 15:39:00</td>\n",
       "      <td>NaN</td>\n",
       "      <td>2016-07-12</td>\n",
       "      <td>2016-07-09 15:23:56</td>\n",
       "    </tr>\n",
       "    <tr>\n",
       "      <th>18181</th>\n",
       "      <td>8a858f0656b7820c0156c92ca3ba436f</td>\n",
       "      <td>301697691</td>\n",
       "      <td>1</td>\n",
       "      <td>2016-08-27 20:03:45</td>\n",
       "      <td>2016-08-27 19:03:34</td>\n",
       "      <td>10000.0</td>\n",
       "      <td>13000.0</td>\n",
       "      <td>30</td>\n",
       "      <td>2016-10-15 10:17:54</td>\n",
       "      <td>NaN</td>\n",
       "      <td>2016-09-26</td>\n",
       "      <td>2016-10-15 10:02:45</td>\n",
       "    </tr>\n",
       "    <tr>\n",
       "      <th>18182</th>\n",
       "      <td>8a858faf5679a838015688de3028143d</td>\n",
       "      <td>301715255</td>\n",
       "      <td>2</td>\n",
       "      <td>2016-09-14 23:42:14</td>\n",
       "      <td>2016-09-14 22:42:05</td>\n",
       "      <td>10000.0</td>\n",
       "      <td>13000.0</td>\n",
       "      <td>30</td>\n",
       "      <td>2016-09-29 19:51:04</td>\n",
       "      <td>NaN</td>\n",
       "      <td>2016-10-14</td>\n",
       "      <td>2016-09-29 19:35:55</td>\n",
       "    </tr>\n",
       "  </tbody>\n",
       "</table>\n",
       "</div>"
      ],
      "text/plain": [
       "                             customerid  systemloanid  loannumber  \\\n",
       "18178  8a858899538ddb8e0153a2b555421fc5     301611754           2   \n",
       "18179  8a858899538ddb8e0153a2b555421fc5     301761267           9   \n",
       "18180  8a858899538ddb8e0153a2b555421fc5     301631653           4   \n",
       "18181  8a858f0656b7820c0156c92ca3ba436f     301697691           1   \n",
       "18182  8a858faf5679a838015688de3028143d     301715255           2   \n",
       "\n",
       "             approveddate        creationdate  loanamount  totaldue  termdays  \\\n",
       "18178 2016-04-16 13:36:34 2016-04-16 12:36:28     10000.0   13000.0        30   \n",
       "18179 2016-11-18 14:26:07 2016-11-18 13:25:51     30000.0   34400.0        30   \n",
       "18180 2016-06-12 15:30:56 2016-06-12 14:30:50     10000.0   13000.0        30   \n",
       "18181 2016-08-27 20:03:45 2016-08-27 19:03:34     10000.0   13000.0        30   \n",
       "18182 2016-09-14 23:42:14 2016-09-14 22:42:05     10000.0   13000.0        30   \n",
       "\n",
       "               closeddate referredby firstduedate     firstrepaiddate  \n",
       "18178 2016-05-14 00:04:52        NaN   2016-05-16 2016-05-13 18:05:07  \n",
       "18179 2016-12-13 16:08:57        NaN   2016-12-19 2016-12-13 15:53:48  \n",
       "18180 2016-07-09 15:39:00        NaN   2016-07-12 2016-07-09 15:23:56  \n",
       "18181 2016-10-15 10:17:54        NaN   2016-09-26 2016-10-15 10:02:45  \n",
       "18182 2016-09-29 19:51:04        NaN   2016-10-14 2016-09-29 19:35:55  "
      ]
     },
     "execution_count": 114,
     "metadata": {},
     "output_type": "execute_result"
    }
   ],
   "source": [
    "loans.tail()"
   ]
  },
  {
   "cell_type": "code",
   "execution_count": 115,
   "metadata": {},
   "outputs": [
    {
     "data": {
      "image/png": "[encoded data removed]",
      "text/plain": [
       "<Figure size 1080x864 with 6 Axes>"
      ]
     },
     "metadata": {
      "needs_background": "light"
     },
     "output_type": "display_data"
    }
   ],
   "source": [
    "#check for null values\n",
    "\n",
    "plt.figure(figsize=(15,12))\n",
    "\n",
    "plt.subplot(231)\n",
    "sns.heatmap(pd.DataFrame(demographics.isnull().sum()/demographics.shape[0]*100),annot=True,\n",
    "            cmap=sns.color_palette(\"rainbow\"),linewidth=1,linecolor=\"white\")\n",
    "\n",
    "plt.subplot(232)\n",
    "sns.heatmap(pd.DataFrame(loans.isnull().sum()/loans.shape[0]*100),annot=True,\n",
    "            cmap=sns.color_palette(\"rainbow\"),linewidth=1,linecolor=\"white\")\n",
    "\n",
    "plt.subplot(233)\n",
    "sns.heatmap(pd.DataFrame(performance.isnull().sum()/performance.shape[0]*100),annot=True,\n",
    "            cmap=sns.color_palette(\"rainbow\"),linewidth=1,linecolor=\"white\")\n",
    "\n",
    "plt.subplots_adjust(wspace = 1.6)"
   ]
  },
  {
   "cell_type": "code",
   "execution_count": 116,
   "metadata": {},
   "outputs": [
    {
     "data": {
      "text/plain": [
       "<AxesSubplot:ylabel='good_bad_flag'>"
      ]
     },
     "execution_count": 116,
     "metadata": {},
     "output_type": "execute_result"
    },
    {
     "data": {
      "image/png": "[encoded data removed]",
      "text/plain": [
       "<Figure size 864x360 with 1 Axes>"
      ]
     },
     "metadata": {},
     "output_type": "display_data"
    }
   ],
   "source": [
    "#evaluate loan repayment levels\n",
    "fig = plt.figure(figsize=(12, 5))\n",
    "performance[\"good_bad_flag\"].value_counts().plot.pie(autopct = \"%1.0f%%\",colors = sns.color_palette(\"rainbow\",7),\n",
    "                                                                             startangle = 60,\n",
    "                                            labels=[\"repayed loans\",\"defaulted loans\"],wedgeprops={\"linewidth\":2,\"edgecolor\":\"k\"},\n",
    "                                            explode=[.1,0],shadow =True)\n"
   ]
  },
  {
   "cell_type": "markdown",
   "metadata": {},
   "source": [
    "22% of the loans were defaulted in the year."
   ]
  },
  {
   "cell_type": "code",
   "execution_count": 117,
   "metadata": {},
   "outputs": [],
   "source": [
    "#binarize the good_bad_flag\n",
    "\n",
    "flag={'Good': 1, 'Bad': 0}\n",
    "performance.good_bad_flag= performance.good_bad_flag.map(flag)"
   ]
  },
  {
   "cell_type": "code",
   "execution_count": 118,
   "metadata": {},
   "outputs": [
    {
     "data": {
      "text/html": [
       "<div>\n",
       "<style scoped>\n",
       "    .dataframe tbody tr th:only-of-type {\n",
       "        vertical-align: middle;\n",
       "    }\n",
       "\n",
       "    .dataframe tbody tr th {\n",
       "        vertical-align: top;\n",
       "    }\n",
       "\n",
       "    .dataframe thead th {\n",
       "        text-align: right;\n",
       "    }\n",
       "</style>\n",
       "<table border=\"1\" class=\"dataframe\">\n",
       "  <thead>\n",
       "    <tr style=\"text-align: right;\">\n",
       "      <th></th>\n",
       "      <th>customerid</th>\n",
       "      <th>systemloanid</th>\n",
       "      <th>loannumber</th>\n",
       "      <th>approveddate</th>\n",
       "      <th>creationdate</th>\n",
       "      <th>loanamount</th>\n",
       "      <th>totaldue</th>\n",
       "      <th>termdays</th>\n",
       "      <th>closeddate</th>\n",
       "      <th>referredby</th>\n",
       "      <th>firstduedate</th>\n",
       "      <th>firstrepaiddate</th>\n",
       "    </tr>\n",
       "  </thead>\n",
       "  <tbody>\n",
       "    <tr>\n",
       "      <th>0</th>\n",
       "      <td>8a2a81a74ce8c05d014cfb32a0da1049</td>\n",
       "      <td>301682320</td>\n",
       "      <td>2</td>\n",
       "      <td>2016-08-15 18:22:40</td>\n",
       "      <td>2016-08-15 17:22:32</td>\n",
       "      <td>10000.0</td>\n",
       "      <td>13000.0</td>\n",
       "      <td>30</td>\n",
       "      <td>2016-09-01 16:06:48</td>\n",
       "      <td>NaN</td>\n",
       "      <td>2016-09-14</td>\n",
       "      <td>2016-09-01 15:51:43</td>\n",
       "    </tr>\n",
       "    <tr>\n",
       "      <th>1</th>\n",
       "      <td>8a2a81a74ce8c05d014cfb32a0da1049</td>\n",
       "      <td>301883808</td>\n",
       "      <td>9</td>\n",
       "      <td>2017-04-28 18:39:07</td>\n",
       "      <td>2017-04-28 17:38:53</td>\n",
       "      <td>10000.0</td>\n",
       "      <td>13000.0</td>\n",
       "      <td>30</td>\n",
       "      <td>2017-05-28 14:44:49</td>\n",
       "      <td>NaN</td>\n",
       "      <td>2017-05-30</td>\n",
       "      <td>2017-05-26 00:00:00</td>\n",
       "    </tr>\n",
       "    <tr>\n",
       "      <th>2</th>\n",
       "      <td>8a2a81a74ce8c05d014cfb32a0da1049</td>\n",
       "      <td>301831714</td>\n",
       "      <td>8</td>\n",
       "      <td>2017-03-05 10:56:25</td>\n",
       "      <td>2017-03-05 09:56:19</td>\n",
       "      <td>20000.0</td>\n",
       "      <td>23800.0</td>\n",
       "      <td>30</td>\n",
       "      <td>2017-04-26 22:18:56</td>\n",
       "      <td>NaN</td>\n",
       "      <td>2017-04-04</td>\n",
       "      <td>2017-04-26 22:03:47</td>\n",
       "    </tr>\n",
       "    <tr>\n",
       "      <th>3</th>\n",
       "      <td>8a8588f35438fe12015444567666018e</td>\n",
       "      <td>301861541</td>\n",
       "      <td>5</td>\n",
       "      <td>2017-04-09 18:25:55</td>\n",
       "      <td>2017-04-09 17:25:42</td>\n",
       "      <td>10000.0</td>\n",
       "      <td>11500.0</td>\n",
       "      <td>15</td>\n",
       "      <td>2017-04-24 01:35:52</td>\n",
       "      <td>NaN</td>\n",
       "      <td>2017-04-24</td>\n",
       "      <td>2017-04-24 00:48:43</td>\n",
       "    </tr>\n",
       "    <tr>\n",
       "      <th>4</th>\n",
       "      <td>8a85890754145ace015429211b513e16</td>\n",
       "      <td>301941754</td>\n",
       "      <td>2</td>\n",
       "      <td>2017-06-17 09:29:57</td>\n",
       "      <td>2017-06-17 08:29:50</td>\n",
       "      <td>10000.0</td>\n",
       "      <td>11500.0</td>\n",
       "      <td>15</td>\n",
       "      <td>2017-07-14 21:18:43</td>\n",
       "      <td>NaN</td>\n",
       "      <td>2017-07-03</td>\n",
       "      <td>2017-07-14 21:08:35</td>\n",
       "    </tr>\n",
       "  </tbody>\n",
       "</table>\n",
       "</div>"
      ],
      "text/plain": [
       "                         customerid  systemloanid  loannumber  \\\n",
       "0  8a2a81a74ce8c05d014cfb32a0da1049     301682320           2   \n",
       "1  8a2a81a74ce8c05d014cfb32a0da1049     301883808           9   \n",
       "2  8a2a81a74ce8c05d014cfb32a0da1049     301831714           8   \n",
       "3  8a8588f35438fe12015444567666018e     301861541           5   \n",
       "4  8a85890754145ace015429211b513e16     301941754           2   \n",
       "\n",
       "         approveddate        creationdate  loanamount  totaldue  termdays  \\\n",
       "0 2016-08-15 18:22:40 2016-08-15 17:22:32     10000.0   13000.0        30   \n",
       "1 2017-04-28 18:39:07 2017-04-28 17:38:53     10000.0   13000.0        30   \n",
       "2 2017-03-05 10:56:25 2017-03-05 09:56:19     20000.0   23800.0        30   \n",
       "3 2017-04-09 18:25:55 2017-04-09 17:25:42     10000.0   11500.0        15   \n",
       "4 2017-06-17 09:29:57 2017-06-17 08:29:50     10000.0   11500.0        15   \n",
       "\n",
       "           closeddate referredby firstduedate     firstrepaiddate  \n",
       "0 2016-09-01 16:06:48        NaN   2016-09-14 2016-09-01 15:51:43  \n",
       "1 2017-05-28 14:44:49        NaN   2017-05-30 2017-05-26 00:00:00  \n",
       "2 2017-04-26 22:18:56        NaN   2017-04-04 2017-04-26 22:03:47  \n",
       "3 2017-04-24 01:35:52        NaN   2017-04-24 2017-04-24 00:48:43  \n",
       "4 2017-07-14 21:18:43        NaN   2017-07-03 2017-07-14 21:08:35  "
      ]
     },
     "execution_count": 118,
     "metadata": {},
     "output_type": "execute_result"
    }
   ],
   "source": [
    "loans.head()"
   ]
  },
  {
   "cell_type": "code",
   "execution_count": 119,
   "metadata": {},
   "outputs": [],
   "source": [
    "#feature engineering"
   ]
  },
  {
   "cell_type": "code",
   "execution_count": 120,
   "metadata": {},
   "outputs": [
    {
     "data": {
      "text/plain": [
       "array([30000., 15000., 20000., 10000., 40000., 25000., 50000., 35000.,\n",
       "       45000., 60000.])"
      ]
     },
     "execution_count": 120,
     "metadata": {},
     "output_type": "execute_result"
    }
   ],
   "source": [
    "performance.loanamount.unique()"
   ]
  },
  {
   "cell_type": "code",
   "execution_count": 121,
   "metadata": {},
   "outputs": [],
   "source": [
    "#get the loan approval period in terms of hours\n",
    "loans['loanapproval']= loans['approveddate']- loans['creationdate']\n",
    "loans['loanapproval']= loans['loanapproval']/np.timedelta64(1, 'h')"
   ]
  },
  {
   "cell_type": "code",
   "execution_count": 122,
   "metadata": {},
   "outputs": [],
   "source": [
    "#get the average loan amounts per customer\n",
    "avloanamount = loans.groupby('customerid')['loanamount'].mean().to_frame().reset_index()\n",
    "avloanamount.rename(columns={'loanamount': 'avloanamount'}, inplace=True)\n",
    "loans = pd.merge(loans, avloanamount, how='left', on='customerid')"
   ]
  },
  {
   "cell_type": "code",
   "execution_count": 123,
   "metadata": {},
   "outputs": [],
   "source": [
    "#get the total number of loans issued per cutsomer\n",
    "num_loans = loans.groupby('customerid')['systemloanid'].count().to_frame().reset_index()\n",
    "num_loans.rename(columns = {'systemloanid': 'num_loans'}, inplace=True)\n",
    "loans = pd.merge(loans, num_loans, how='left', on='customerid')"
   ]
  },
  {
   "cell_type": "code",
   "execution_count": 124,
   "metadata": {},
   "outputs": [],
   "source": [
    "#get how long they took to pay the loans\n",
    "loans['firstrepaiddate'] = loans['firstrepaiddate'].astype('datetime64[ns]')\n",
    "loans['diff'] = (loans['firstrepaiddate'] - loans['firstduedate']).dt.days"
   ]
  },
  {
   "cell_type": "code",
   "execution_count": 125,
   "metadata": {},
   "outputs": [],
   "source": [
    "#get average default periods\n",
    "avdiff = loans.groupby('customerid')['diff'].mean().to_frame().reset_index()\n",
    "avdiff.rename(columns={'diff':'avdiff'}, inplace=True)\n",
    "loans = pd.merge(loans, avdiff, how='left', on='customerid')"
   ]
  },
  {
   "cell_type": "code",
   "execution_count": 126,
   "metadata": {},
   "outputs": [],
   "source": [
    "#get average term days\n",
    "avtermdays = loans.groupby('customerid')['termdays'].mean().to_frame().reset_index()\n",
    "avtermdays.rename(columns={'termdays':'avtermdays'}, inplace=True)\n",
    "loans = pd.merge(loans, avtermdays, how='left', on='customerid')"
   ]
  },
  {
   "cell_type": "code",
   "execution_count": 127,
   "metadata": {},
   "outputs": [],
   "source": [
    "#get average due amounts per customer\n",
    "avtotaldue = loans.groupby('customerid')['totaldue'].mean().to_frame().reset_index()\n",
    "avtotaldue.rename(columns={'totaldue':'avtotaldue'}, inplace=True)\n",
    "loans = pd.merge(loans, avtotaldue, how='left', on='customerid')"
   ]
  },
  {
   "cell_type": "code",
   "execution_count": 128,
   "metadata": {
    "scrolled": true
   },
   "outputs": [
    {
     "data": {
      "text/html": [
       "<div>\n",
       "<style scoped>\n",
       "    .dataframe tbody tr th:only-of-type {\n",
       "        vertical-align: middle;\n",
       "    }\n",
       "\n",
       "    .dataframe tbody tr th {\n",
       "        vertical-align: top;\n",
       "    }\n",
       "\n",
       "    .dataframe thead th {\n",
       "        text-align: right;\n",
       "    }\n",
       "</style>\n",
       "<table border=\"1\" class=\"dataframe\">\n",
       "  <thead>\n",
       "    <tr style=\"text-align: right;\">\n",
       "      <th></th>\n",
       "      <th>customerid</th>\n",
       "      <th>systemloanid</th>\n",
       "      <th>loannumber</th>\n",
       "      <th>approveddate</th>\n",
       "      <th>creationdate</th>\n",
       "      <th>loanamount</th>\n",
       "      <th>totaldue</th>\n",
       "      <th>termdays</th>\n",
       "      <th>closeddate</th>\n",
       "      <th>referredby</th>\n",
       "      <th>firstduedate</th>\n",
       "      <th>firstrepaiddate</th>\n",
       "      <th>loanapproval</th>\n",
       "      <th>avloanamount</th>\n",
       "      <th>num_loans</th>\n",
       "      <th>diff</th>\n",
       "      <th>avdiff</th>\n",
       "      <th>avtermdays</th>\n",
       "      <th>avtotaldue</th>\n",
       "    </tr>\n",
       "  </thead>\n",
       "  <tbody>\n",
       "    <tr>\n",
       "      <th>0</th>\n",
       "      <td>8a2a81a74ce8c05d014cfb32a0da1049</td>\n",
       "      <td>301682320</td>\n",
       "      <td>2</td>\n",
       "      <td>2016-08-15 18:22:40</td>\n",
       "      <td>2016-08-15 17:22:32</td>\n",
       "      <td>10000.0</td>\n",
       "      <td>13000.0</td>\n",
       "      <td>30</td>\n",
       "      <td>2016-09-01 16:06:48</td>\n",
       "      <td>NaN</td>\n",
       "      <td>2016-09-14</td>\n",
       "      <td>2016-09-01 15:51:43</td>\n",
       "      <td>1.002222</td>\n",
       "      <td>18181.818182</td>\n",
       "      <td>11</td>\n",
       "      <td>-13</td>\n",
       "      <td>-0.909091</td>\n",
       "      <td>30.0</td>\n",
       "      <td>22081.818182</td>\n",
       "    </tr>\n",
       "    <tr>\n",
       "      <th>1</th>\n",
       "      <td>8a2a81a74ce8c05d014cfb32a0da1049</td>\n",
       "      <td>301883808</td>\n",
       "      <td>9</td>\n",
       "      <td>2017-04-28 18:39:07</td>\n",
       "      <td>2017-04-28 17:38:53</td>\n",
       "      <td>10000.0</td>\n",
       "      <td>13000.0</td>\n",
       "      <td>30</td>\n",
       "      <td>2017-05-28 14:44:49</td>\n",
       "      <td>NaN</td>\n",
       "      <td>2017-05-30</td>\n",
       "      <td>2017-05-26 00:00:00</td>\n",
       "      <td>1.003889</td>\n",
       "      <td>18181.818182</td>\n",
       "      <td>11</td>\n",
       "      <td>-4</td>\n",
       "      <td>-0.909091</td>\n",
       "      <td>30.0</td>\n",
       "      <td>22081.818182</td>\n",
       "    </tr>\n",
       "    <tr>\n",
       "      <th>2</th>\n",
       "      <td>8a2a81a74ce8c05d014cfb32a0da1049</td>\n",
       "      <td>301831714</td>\n",
       "      <td>8</td>\n",
       "      <td>2017-03-05 10:56:25</td>\n",
       "      <td>2017-03-05 09:56:19</td>\n",
       "      <td>20000.0</td>\n",
       "      <td>23800.0</td>\n",
       "      <td>30</td>\n",
       "      <td>2017-04-26 22:18:56</td>\n",
       "      <td>NaN</td>\n",
       "      <td>2017-04-04</td>\n",
       "      <td>2017-04-26 22:03:47</td>\n",
       "      <td>1.001667</td>\n",
       "      <td>18181.818182</td>\n",
       "      <td>11</td>\n",
       "      <td>22</td>\n",
       "      <td>-0.909091</td>\n",
       "      <td>30.0</td>\n",
       "      <td>22081.818182</td>\n",
       "    </tr>\n",
       "    <tr>\n",
       "      <th>3</th>\n",
       "      <td>8a8588f35438fe12015444567666018e</td>\n",
       "      <td>301861541</td>\n",
       "      <td>5</td>\n",
       "      <td>2017-04-09 18:25:55</td>\n",
       "      <td>2017-04-09 17:25:42</td>\n",
       "      <td>10000.0</td>\n",
       "      <td>11500.0</td>\n",
       "      <td>15</td>\n",
       "      <td>2017-04-24 01:35:52</td>\n",
       "      <td>NaN</td>\n",
       "      <td>2017-04-24</td>\n",
       "      <td>2017-04-24 00:48:43</td>\n",
       "      <td>1.003611</td>\n",
       "      <td>10000.000000</td>\n",
       "      <td>6</td>\n",
       "      <td>0</td>\n",
       "      <td>0.833333</td>\n",
       "      <td>17.5</td>\n",
       "      <td>11750.000000</td>\n",
       "    </tr>\n",
       "    <tr>\n",
       "      <th>4</th>\n",
       "      <td>8a85890754145ace015429211b513e16</td>\n",
       "      <td>301941754</td>\n",
       "      <td>2</td>\n",
       "      <td>2017-06-17 09:29:57</td>\n",
       "      <td>2017-06-17 08:29:50</td>\n",
       "      <td>10000.0</td>\n",
       "      <td>11500.0</td>\n",
       "      <td>15</td>\n",
       "      <td>2017-07-14 21:18:43</td>\n",
       "      <td>NaN</td>\n",
       "      <td>2017-07-03</td>\n",
       "      <td>2017-07-14 21:08:35</td>\n",
       "      <td>1.001944</td>\n",
       "      <td>10000.000000</td>\n",
       "      <td>2</td>\n",
       "      <td>11</td>\n",
       "      <td>7.500000</td>\n",
       "      <td>22.5</td>\n",
       "      <td>12250.000000</td>\n",
       "    </tr>\n",
       "  </tbody>\n",
       "</table>\n",
       "</div>"
      ],
      "text/plain": [
       "                         customerid  systemloanid  loannumber  \\\n",
       "0  8a2a81a74ce8c05d014cfb32a0da1049     301682320           2   \n",
       "1  8a2a81a74ce8c05d014cfb32a0da1049     301883808           9   \n",
       "2  8a2a81a74ce8c05d014cfb32a0da1049     301831714           8   \n",
       "3  8a8588f35438fe12015444567666018e     301861541           5   \n",
       "4  8a85890754145ace015429211b513e16     301941754           2   \n",
       "\n",
       "         approveddate        creationdate  loanamount  totaldue  termdays  \\\n",
       "0 2016-08-15 18:22:40 2016-08-15 17:22:32     10000.0   13000.0        30   \n",
       "1 2017-04-28 18:39:07 2017-04-28 17:38:53     10000.0   13000.0        30   \n",
       "2 2017-03-05 10:56:25 2017-03-05 09:56:19     20000.0   23800.0        30   \n",
       "3 2017-04-09 18:25:55 2017-04-09 17:25:42     10000.0   11500.0        15   \n",
       "4 2017-06-17 09:29:57 2017-06-17 08:29:50     10000.0   11500.0        15   \n",
       "\n",
       "           closeddate referredby firstduedate     firstrepaiddate  \\\n",
       "0 2016-09-01 16:06:48        NaN   2016-09-14 2016-09-01 15:51:43   \n",
       "1 2017-05-28 14:44:49        NaN   2017-05-30 2017-05-26 00:00:00   \n",
       "2 2017-04-26 22:18:56        NaN   2017-04-04 2017-04-26 22:03:47   \n",
       "3 2017-04-24 01:35:52        NaN   2017-04-24 2017-04-24 00:48:43   \n",
       "4 2017-07-14 21:18:43        NaN   2017-07-03 2017-07-14 21:08:35   \n",
       "\n",
       "   loanapproval  avloanamount  num_loans  diff    avdiff  avtermdays  \\\n",
       "0      1.002222  18181.818182         11   -13 -0.909091        30.0   \n",
       "1      1.003889  18181.818182         11    -4 -0.909091        30.0   \n",
       "2      1.001667  18181.818182         11    22 -0.909091        30.0   \n",
       "3      1.003611  10000.000000          6     0  0.833333        17.5   \n",
       "4      1.001944  10000.000000          2    11  7.500000        22.5   \n",
       "\n",
       "     avtotaldue  \n",
       "0  22081.818182  \n",
       "1  22081.818182  \n",
       "2  22081.818182  \n",
       "3  11750.000000  \n",
       "4  12250.000000  "
      ]
     },
     "execution_count": 128,
     "metadata": {},
     "output_type": "execute_result"
    }
   ],
   "source": [
    "loans.head()"
   ]
  },
  {
   "cell_type": "code",
   "execution_count": 129,
   "metadata": {},
   "outputs": [
    {
     "data": {
      "text/plain": [
       "Index(['customerid', 'systemloanid', 'loannumber', 'approveddate',\n",
       "       'creationdate', 'loanamount', 'totaldue', 'termdays', 'closeddate',\n",
       "       'referredby', 'firstduedate', 'firstrepaiddate', 'loanapproval',\n",
       "       'avloanamount', 'num_loans', 'diff', 'avdiff', 'avtermdays',\n",
       "       'avtotaldue'],\n",
       "      dtype='object')"
      ]
     },
     "execution_count": 129,
     "metadata": {},
     "output_type": "execute_result"
    }
   ],
   "source": [
    "loans.columns"
   ]
  },
  {
   "cell_type": "code",
   "execution_count": 130,
   "metadata": {},
   "outputs": [],
   "source": [
    "clean_loans= loans [['customerid', 'loanapproval', 'avloanamount',\n",
    "                    'num_loans', 'avdiff', 'avtermdays',\n",
    "                    'avtotaldue']]"
   ]
  },
  {
   "cell_type": "code",
   "execution_count": 131,
   "metadata": {},
   "outputs": [
    {
     "data": {
      "text/html": [
       "<div>\n",
       "<style scoped>\n",
       "    .dataframe tbody tr th:only-of-type {\n",
       "        vertical-align: middle;\n",
       "    }\n",
       "\n",
       "    .dataframe tbody tr th {\n",
       "        vertical-align: top;\n",
       "    }\n",
       "\n",
       "    .dataframe thead th {\n",
       "        text-align: right;\n",
       "    }\n",
       "</style>\n",
       "<table border=\"1\" class=\"dataframe\">\n",
       "  <thead>\n",
       "    <tr style=\"text-align: right;\">\n",
       "      <th></th>\n",
       "      <th>customerid</th>\n",
       "      <th>loanapproval</th>\n",
       "      <th>avloanamount</th>\n",
       "      <th>num_loans</th>\n",
       "      <th>avdiff</th>\n",
       "      <th>avtermdays</th>\n",
       "      <th>avtotaldue</th>\n",
       "    </tr>\n",
       "  </thead>\n",
       "  <tbody>\n",
       "    <tr>\n",
       "      <th>0</th>\n",
       "      <td>8a2a81a74ce8c05d014cfb32a0da1049</td>\n",
       "      <td>1.002222</td>\n",
       "      <td>18181.818182</td>\n",
       "      <td>11</td>\n",
       "      <td>-0.909091</td>\n",
       "      <td>30.0</td>\n",
       "      <td>22081.818182</td>\n",
       "    </tr>\n",
       "    <tr>\n",
       "      <th>1</th>\n",
       "      <td>8a2a81a74ce8c05d014cfb32a0da1049</td>\n",
       "      <td>1.003889</td>\n",
       "      <td>18181.818182</td>\n",
       "      <td>11</td>\n",
       "      <td>-0.909091</td>\n",
       "      <td>30.0</td>\n",
       "      <td>22081.818182</td>\n",
       "    </tr>\n",
       "    <tr>\n",
       "      <th>2</th>\n",
       "      <td>8a2a81a74ce8c05d014cfb32a0da1049</td>\n",
       "      <td>1.001667</td>\n",
       "      <td>18181.818182</td>\n",
       "      <td>11</td>\n",
       "      <td>-0.909091</td>\n",
       "      <td>30.0</td>\n",
       "      <td>22081.818182</td>\n",
       "    </tr>\n",
       "    <tr>\n",
       "      <th>3</th>\n",
       "      <td>8a8588f35438fe12015444567666018e</td>\n",
       "      <td>1.003611</td>\n",
       "      <td>10000.000000</td>\n",
       "      <td>6</td>\n",
       "      <td>0.833333</td>\n",
       "      <td>17.5</td>\n",
       "      <td>11750.000000</td>\n",
       "    </tr>\n",
       "    <tr>\n",
       "      <th>4</th>\n",
       "      <td>8a85890754145ace015429211b513e16</td>\n",
       "      <td>1.001944</td>\n",
       "      <td>10000.000000</td>\n",
       "      <td>2</td>\n",
       "      <td>7.500000</td>\n",
       "      <td>22.5</td>\n",
       "      <td>12250.000000</td>\n",
       "    </tr>\n",
       "  </tbody>\n",
       "</table>\n",
       "</div>"
      ],
      "text/plain": [
       "                         customerid  loanapproval  avloanamount  num_loans  \\\n",
       "0  8a2a81a74ce8c05d014cfb32a0da1049      1.002222  18181.818182         11   \n",
       "1  8a2a81a74ce8c05d014cfb32a0da1049      1.003889  18181.818182         11   \n",
       "2  8a2a81a74ce8c05d014cfb32a0da1049      1.001667  18181.818182         11   \n",
       "3  8a8588f35438fe12015444567666018e      1.003611  10000.000000          6   \n",
       "4  8a85890754145ace015429211b513e16      1.001944  10000.000000          2   \n",
       "\n",
       "     avdiff  avtermdays    avtotaldue  \n",
       "0 -0.909091        30.0  22081.818182  \n",
       "1 -0.909091        30.0  22081.818182  \n",
       "2 -0.909091        30.0  22081.818182  \n",
       "3  0.833333        17.5  11750.000000  \n",
       "4  7.500000        22.5  12250.000000  "
      ]
     },
     "execution_count": 131,
     "metadata": {},
     "output_type": "execute_result"
    }
   ],
   "source": [
    "clean_loans.head()"
   ]
  },
  {
   "cell_type": "code",
   "execution_count": 132,
   "metadata": {},
   "outputs": [
    {
     "data": {
      "text/html": [
       "<div>\n",
       "<style scoped>\n",
       "    .dataframe tbody tr th:only-of-type {\n",
       "        vertical-align: middle;\n",
       "    }\n",
       "\n",
       "    .dataframe tbody tr th {\n",
       "        vertical-align: top;\n",
       "    }\n",
       "\n",
       "    .dataframe thead th {\n",
       "        text-align: right;\n",
       "    }\n",
       "</style>\n",
       "<table border=\"1\" class=\"dataframe\">\n",
       "  <thead>\n",
       "    <tr style=\"text-align: right;\">\n",
       "      <th></th>\n",
       "      <th>customerid</th>\n",
       "      <th>loanapproval</th>\n",
       "      <th>avloanamount</th>\n",
       "      <th>num_loans</th>\n",
       "      <th>avdiff</th>\n",
       "      <th>avtermdays</th>\n",
       "      <th>avtotaldue</th>\n",
       "    </tr>\n",
       "  </thead>\n",
       "  <tbody>\n",
       "    <tr>\n",
       "      <th>18178</th>\n",
       "      <td>8a858899538ddb8e0153a2b555421fc5</td>\n",
       "      <td>1.001667</td>\n",
       "      <td>21615.384615</td>\n",
       "      <td>13</td>\n",
       "      <td>-5.076923</td>\n",
       "      <td>38.076923</td>\n",
       "      <td>25909.615385</td>\n",
       "    </tr>\n",
       "    <tr>\n",
       "      <th>18179</th>\n",
       "      <td>8a858899538ddb8e0153a2b555421fc5</td>\n",
       "      <td>1.004444</td>\n",
       "      <td>21615.384615</td>\n",
       "      <td>13</td>\n",
       "      <td>-5.076923</td>\n",
       "      <td>38.076923</td>\n",
       "      <td>25909.615385</td>\n",
       "    </tr>\n",
       "    <tr>\n",
       "      <th>18180</th>\n",
       "      <td>8a858899538ddb8e0153a2b555421fc5</td>\n",
       "      <td>1.001667</td>\n",
       "      <td>21615.384615</td>\n",
       "      <td>13</td>\n",
       "      <td>-5.076923</td>\n",
       "      <td>38.076923</td>\n",
       "      <td>25909.615385</td>\n",
       "    </tr>\n",
       "    <tr>\n",
       "      <th>18181</th>\n",
       "      <td>8a858f0656b7820c0156c92ca3ba436f</td>\n",
       "      <td>1.003056</td>\n",
       "      <td>10000.000000</td>\n",
       "      <td>1</td>\n",
       "      <td>19.000000</td>\n",
       "      <td>30.000000</td>\n",
       "      <td>13000.000000</td>\n",
       "    </tr>\n",
       "    <tr>\n",
       "      <th>18182</th>\n",
       "      <td>8a858faf5679a838015688de3028143d</td>\n",
       "      <td>1.002500</td>\n",
       "      <td>10000.000000</td>\n",
       "      <td>2</td>\n",
       "      <td>-8.500000</td>\n",
       "      <td>30.000000</td>\n",
       "      <td>13000.000000</td>\n",
       "    </tr>\n",
       "  </tbody>\n",
       "</table>\n",
       "</div>"
      ],
      "text/plain": [
       "                             customerid  loanapproval  avloanamount  \\\n",
       "18178  8a858899538ddb8e0153a2b555421fc5      1.001667  21615.384615   \n",
       "18179  8a858899538ddb8e0153a2b555421fc5      1.004444  21615.384615   \n",
       "18180  8a858899538ddb8e0153a2b555421fc5      1.001667  21615.384615   \n",
       "18181  8a858f0656b7820c0156c92ca3ba436f      1.003056  10000.000000   \n",
       "18182  8a858faf5679a838015688de3028143d      1.002500  10000.000000   \n",
       "\n",
       "       num_loans     avdiff  avtermdays    avtotaldue  \n",
       "18178         13  -5.076923   38.076923  25909.615385  \n",
       "18179         13  -5.076923   38.076923  25909.615385  \n",
       "18180         13  -5.076923   38.076923  25909.615385  \n",
       "18181          1  19.000000   30.000000  13000.000000  \n",
       "18182          2  -8.500000   30.000000  13000.000000  "
      ]
     },
     "execution_count": 132,
     "metadata": {},
     "output_type": "execute_result"
    }
   ],
   "source": [
    "clean_loans.tail()"
   ]
  },
  {
   "cell_type": "code",
   "execution_count": 133,
   "metadata": {},
   "outputs": [
    {
     "data": {
      "text/plain": [
       "(18183, 7)"
      ]
     },
     "execution_count": 133,
     "metadata": {},
     "output_type": "execute_result"
    }
   ],
   "source": [
    "clean_loans.shape"
   ]
  },
  {
   "cell_type": "code",
   "execution_count": 134,
   "metadata": {},
   "outputs": [],
   "source": [
    "clean_loans = clean_loans[~clean_loans.customerid.duplicated()]"
   ]
  },
  {
   "cell_type": "code",
   "execution_count": 135,
   "metadata": {},
   "outputs": [
    {
     "data": {
      "text/plain": [
       "(4359, 7)"
      ]
     },
     "execution_count": 135,
     "metadata": {},
     "output_type": "execute_result"
    }
   ],
   "source": [
    "clean_loans.shape"
   ]
  },
  {
   "cell_type": "code",
   "execution_count": 136,
   "metadata": {},
   "outputs": [
    {
     "data": {
      "text/html": [
       "<div>\n",
       "<style scoped>\n",
       "    .dataframe tbody tr th:only-of-type {\n",
       "        vertical-align: middle;\n",
       "    }\n",
       "\n",
       "    .dataframe tbody tr th {\n",
       "        vertical-align: top;\n",
       "    }\n",
       "\n",
       "    .dataframe thead th {\n",
       "        text-align: right;\n",
       "    }\n",
       "</style>\n",
       "<table border=\"1\" class=\"dataframe\">\n",
       "  <thead>\n",
       "    <tr style=\"text-align: right;\">\n",
       "      <th></th>\n",
       "      <th>customerid</th>\n",
       "      <th>birthdate</th>\n",
       "      <th>bank_account_type</th>\n",
       "      <th>longitude_gps</th>\n",
       "      <th>latitude_gps</th>\n",
       "      <th>bank_name_clients</th>\n",
       "      <th>bank_branch_clients</th>\n",
       "      <th>employment_status_clients</th>\n",
       "      <th>level_of_education_clients</th>\n",
       "    </tr>\n",
       "  </thead>\n",
       "  <tbody>\n",
       "    <tr>\n",
       "      <th>0</th>\n",
       "      <td>8a858e135cb22031015cbafc76964ebd</td>\n",
       "      <td>1976-08-28</td>\n",
       "      <td>Savings</td>\n",
       "      <td>3.319219</td>\n",
       "      <td>6.528604</td>\n",
       "      <td>GT Bank</td>\n",
       "      <td>NaN</td>\n",
       "      <td>NaN</td>\n",
       "      <td>NaN</td>\n",
       "    </tr>\n",
       "    <tr>\n",
       "      <th>1</th>\n",
       "      <td>8a858e275c7ea5ec015c82482d7c3996</td>\n",
       "      <td>1978-06-23</td>\n",
       "      <td>Savings</td>\n",
       "      <td>3.325598</td>\n",
       "      <td>7.119403</td>\n",
       "      <td>Sterling Bank</td>\n",
       "      <td>NaN</td>\n",
       "      <td>Permanent</td>\n",
       "      <td>NaN</td>\n",
       "    </tr>\n",
       "    <tr>\n",
       "      <th>2</th>\n",
       "      <td>8a858e5b5bd99460015bdc95cd485634</td>\n",
       "      <td>1984-04-04</td>\n",
       "      <td>Savings</td>\n",
       "      <td>5.746100</td>\n",
       "      <td>5.563174</td>\n",
       "      <td>Fidelity Bank</td>\n",
       "      <td>NaN</td>\n",
       "      <td>NaN</td>\n",
       "      <td>NaN</td>\n",
       "    </tr>\n",
       "    <tr>\n",
       "      <th>3</th>\n",
       "      <td>8a858efd5ca70688015cabd1f1e94b55</td>\n",
       "      <td>1983-05-28</td>\n",
       "      <td>Savings</td>\n",
       "      <td>3.362850</td>\n",
       "      <td>6.642485</td>\n",
       "      <td>GT Bank</td>\n",
       "      <td>NaN</td>\n",
       "      <td>Permanent</td>\n",
       "      <td>NaN</td>\n",
       "    </tr>\n",
       "    <tr>\n",
       "      <th>4</th>\n",
       "      <td>8a858e785acd3412015acd48f4920d04</td>\n",
       "      <td>1982-03-29</td>\n",
       "      <td>Savings</td>\n",
       "      <td>8.455332</td>\n",
       "      <td>11.971410</td>\n",
       "      <td>GT Bank</td>\n",
       "      <td>NaN</td>\n",
       "      <td>Permanent</td>\n",
       "      <td>NaN</td>\n",
       "    </tr>\n",
       "  </tbody>\n",
       "</table>\n",
       "</div>"
      ],
      "text/plain": [
       "                         customerid  birthdate bank_account_type  \\\n",
       "0  8a858e135cb22031015cbafc76964ebd 1976-08-28           Savings   \n",
       "1  8a858e275c7ea5ec015c82482d7c3996 1978-06-23           Savings   \n",
       "2  8a858e5b5bd99460015bdc95cd485634 1984-04-04           Savings   \n",
       "3  8a858efd5ca70688015cabd1f1e94b55 1983-05-28           Savings   \n",
       "4  8a858e785acd3412015acd48f4920d04 1982-03-29           Savings   \n",
       "\n",
       "   longitude_gps  latitude_gps bank_name_clients bank_branch_clients  \\\n",
       "0       3.319219      6.528604           GT Bank                 NaN   \n",
       "1       3.325598      7.119403     Sterling Bank                 NaN   \n",
       "2       5.746100      5.563174     Fidelity Bank                 NaN   \n",
       "3       3.362850      6.642485           GT Bank                 NaN   \n",
       "4       8.455332     11.971410           GT Bank                 NaN   \n",
       "\n",
       "  employment_status_clients level_of_education_clients  \n",
       "0                       NaN                        NaN  \n",
       "1                 Permanent                        NaN  \n",
       "2                       NaN                        NaN  \n",
       "3                 Permanent                        NaN  \n",
       "4                 Permanent                        NaN  "
      ]
     },
     "execution_count": 136,
     "metadata": {},
     "output_type": "execute_result"
    }
   ],
   "source": [
    "demographics.head()"
   ]
  },
  {
   "cell_type": "code",
   "execution_count": 137,
   "metadata": {},
   "outputs": [],
   "source": [
    "#demographics = demographics[~demographics.customerid.duplicated()]\n",
    "demographics['age']= round((dt.date.today() - demographics.birthdate.dt.date).dt.days/365)\n",
    "demographics.drop('birthdate', axis='columns', inplace=True)\n"
   ]
  },
  {
   "cell_type": "code",
   "execution_count": 138,
   "metadata": {},
   "outputs": [
    {
     "data": {
      "text/plain": [
       "array([44., 43., 37., 38., 39., 32., 35., 30., 33., 45., 46., 55., 29.,\n",
       "       51., 49., 36., 53., 41., 47., 52., 26., 58., 34., 31., 42., 40.,\n",
       "       25., 48., 27., 28., 50., 54., 56., 57.])"
      ]
     },
     "execution_count": 138,
     "metadata": {},
     "output_type": "execute_result"
    }
   ],
   "source": [
    "demographics['age'].unique()"
   ]
  },
  {
   "cell_type": "code",
   "execution_count": 139,
   "metadata": {},
   "outputs": [
    {
     "data": {
      "text/html": [
       "<div>\n",
       "<style scoped>\n",
       "    .dataframe tbody tr th:only-of-type {\n",
       "        vertical-align: middle;\n",
       "    }\n",
       "\n",
       "    .dataframe tbody tr th {\n",
       "        vertical-align: top;\n",
       "    }\n",
       "\n",
       "    .dataframe thead th {\n",
       "        text-align: right;\n",
       "    }\n",
       "</style>\n",
       "<table border=\"1\" class=\"dataframe\">\n",
       "  <thead>\n",
       "    <tr style=\"text-align: right;\">\n",
       "      <th></th>\n",
       "      <th>customerid</th>\n",
       "      <th>bank_account_type</th>\n",
       "      <th>longitude_gps</th>\n",
       "      <th>latitude_gps</th>\n",
       "      <th>bank_name_clients</th>\n",
       "      <th>bank_branch_clients</th>\n",
       "      <th>employment_status_clients</th>\n",
       "      <th>level_of_education_clients</th>\n",
       "      <th>age</th>\n",
       "    </tr>\n",
       "  </thead>\n",
       "  <tbody>\n",
       "    <tr>\n",
       "      <th>0</th>\n",
       "      <td>8a858e135cb22031015cbafc76964ebd</td>\n",
       "      <td>Savings</td>\n",
       "      <td>3.319219</td>\n",
       "      <td>6.528604</td>\n",
       "      <td>GT Bank</td>\n",
       "      <td>NaN</td>\n",
       "      <td>NaN</td>\n",
       "      <td>NaN</td>\n",
       "      <td>44.0</td>\n",
       "    </tr>\n",
       "    <tr>\n",
       "      <th>1</th>\n",
       "      <td>8a858e275c7ea5ec015c82482d7c3996</td>\n",
       "      <td>Savings</td>\n",
       "      <td>3.325598</td>\n",
       "      <td>7.119403</td>\n",
       "      <td>Sterling Bank</td>\n",
       "      <td>NaN</td>\n",
       "      <td>Permanent</td>\n",
       "      <td>NaN</td>\n",
       "      <td>43.0</td>\n",
       "    </tr>\n",
       "    <tr>\n",
       "      <th>2</th>\n",
       "      <td>8a858e5b5bd99460015bdc95cd485634</td>\n",
       "      <td>Savings</td>\n",
       "      <td>5.746100</td>\n",
       "      <td>5.563174</td>\n",
       "      <td>Fidelity Bank</td>\n",
       "      <td>NaN</td>\n",
       "      <td>NaN</td>\n",
       "      <td>NaN</td>\n",
       "      <td>37.0</td>\n",
       "    </tr>\n",
       "    <tr>\n",
       "      <th>3</th>\n",
       "      <td>8a858efd5ca70688015cabd1f1e94b55</td>\n",
       "      <td>Savings</td>\n",
       "      <td>3.362850</td>\n",
       "      <td>6.642485</td>\n",
       "      <td>GT Bank</td>\n",
       "      <td>NaN</td>\n",
       "      <td>Permanent</td>\n",
       "      <td>NaN</td>\n",
       "      <td>38.0</td>\n",
       "    </tr>\n",
       "    <tr>\n",
       "      <th>4</th>\n",
       "      <td>8a858e785acd3412015acd48f4920d04</td>\n",
       "      <td>Savings</td>\n",
       "      <td>8.455332</td>\n",
       "      <td>11.971410</td>\n",
       "      <td>GT Bank</td>\n",
       "      <td>NaN</td>\n",
       "      <td>Permanent</td>\n",
       "      <td>NaN</td>\n",
       "      <td>39.0</td>\n",
       "    </tr>\n",
       "  </tbody>\n",
       "</table>\n",
       "</div>"
      ],
      "text/plain": [
       "                         customerid bank_account_type  longitude_gps  \\\n",
       "0  8a858e135cb22031015cbafc76964ebd           Savings       3.319219   \n",
       "1  8a858e275c7ea5ec015c82482d7c3996           Savings       3.325598   \n",
       "2  8a858e5b5bd99460015bdc95cd485634           Savings       5.746100   \n",
       "3  8a858efd5ca70688015cabd1f1e94b55           Savings       3.362850   \n",
       "4  8a858e785acd3412015acd48f4920d04           Savings       8.455332   \n",
       "\n",
       "   latitude_gps bank_name_clients bank_branch_clients  \\\n",
       "0      6.528604           GT Bank                 NaN   \n",
       "1      7.119403     Sterling Bank                 NaN   \n",
       "2      5.563174     Fidelity Bank                 NaN   \n",
       "3      6.642485           GT Bank                 NaN   \n",
       "4     11.971410           GT Bank                 NaN   \n",
       "\n",
       "  employment_status_clients level_of_education_clients   age  \n",
       "0                       NaN                        NaN  44.0  \n",
       "1                 Permanent                        NaN  43.0  \n",
       "2                       NaN                        NaN  37.0  \n",
       "3                 Permanent                        NaN  38.0  \n",
       "4                 Permanent                        NaN  39.0  "
      ]
     },
     "execution_count": 139,
     "metadata": {},
     "output_type": "execute_result"
    }
   ],
   "source": [
    "demographics.head()\n"
   ]
  },
  {
   "cell_type": "code",
   "execution_count": 140,
   "metadata": {},
   "outputs": [],
   "source": [
    "#merge demographics data set with loans data set\n",
    "demographics_loans = pd.merge(performance, demographics, on='customerid', how='inner')\n"
   ]
  },
  {
   "cell_type": "code",
   "execution_count": 141,
   "metadata": {},
   "outputs": [
    {
     "data": {
      "text/plain": [
       "(3277, 18)"
      ]
     },
     "execution_count": 141,
     "metadata": {},
     "output_type": "execute_result"
    }
   ],
   "source": [
    "demographics_loans.shape\n"
   ]
  },
  {
   "cell_type": "code",
   "execution_count": 142,
   "metadata": {
    "scrolled": true
   },
   "outputs": [
    {
     "data": {
      "text/html": [
       "<div>\n",
       "<style scoped>\n",
       "    .dataframe tbody tr th:only-of-type {\n",
       "        vertical-align: middle;\n",
       "    }\n",
       "\n",
       "    .dataframe tbody tr th {\n",
       "        vertical-align: top;\n",
       "    }\n",
       "\n",
       "    .dataframe thead th {\n",
       "        text-align: right;\n",
       "    }\n",
       "</style>\n",
       "<table border=\"1\" class=\"dataframe\">\n",
       "  <thead>\n",
       "    <tr style=\"text-align: right;\">\n",
       "      <th></th>\n",
       "      <th>customerid</th>\n",
       "      <th>systemloanid</th>\n",
       "      <th>loannumber</th>\n",
       "      <th>approveddate</th>\n",
       "      <th>creationdate</th>\n",
       "      <th>loanamount</th>\n",
       "      <th>totaldue</th>\n",
       "      <th>termdays</th>\n",
       "      <th>referredby</th>\n",
       "      <th>good_bad_flag</th>\n",
       "      <th>bank_account_type</th>\n",
       "      <th>longitude_gps</th>\n",
       "      <th>latitude_gps</th>\n",
       "      <th>bank_name_clients</th>\n",
       "      <th>bank_branch_clients</th>\n",
       "      <th>employment_status_clients</th>\n",
       "      <th>level_of_education_clients</th>\n",
       "      <th>age</th>\n",
       "    </tr>\n",
       "  </thead>\n",
       "  <tbody>\n",
       "    <tr>\n",
       "      <th>0</th>\n",
       "      <td>8a2a81a74ce8c05d014cfb32a0da1049</td>\n",
       "      <td>301994762</td>\n",
       "      <td>12</td>\n",
       "      <td>2017-07-25 08:22:56</td>\n",
       "      <td>2017-07-25 07:22:47</td>\n",
       "      <td>30000.0</td>\n",
       "      <td>34500.0</td>\n",
       "      <td>30</td>\n",
       "      <td>NaN</td>\n",
       "      <td>1</td>\n",
       "      <td>Other</td>\n",
       "      <td>3.432010</td>\n",
       "      <td>6.433055</td>\n",
       "      <td>Diamond Bank</td>\n",
       "      <td>NaN</td>\n",
       "      <td>Permanent</td>\n",
       "      <td>Post-Graduate</td>\n",
       "      <td>36.0</td>\n",
       "    </tr>\n",
       "    <tr>\n",
       "      <th>1</th>\n",
       "      <td>8a85886e54beabf90154c0a29ae757c0</td>\n",
       "      <td>301965204</td>\n",
       "      <td>2</td>\n",
       "      <td>2017-07-05 17:04:41</td>\n",
       "      <td>2017-07-05 16:04:18</td>\n",
       "      <td>15000.0</td>\n",
       "      <td>17250.0</td>\n",
       "      <td>30</td>\n",
       "      <td>NaN</td>\n",
       "      <td>1</td>\n",
       "      <td>Savings</td>\n",
       "      <td>3.885298</td>\n",
       "      <td>7.320700</td>\n",
       "      <td>GT Bank</td>\n",
       "      <td>DUGBE,IBADAN</td>\n",
       "      <td>Permanent</td>\n",
       "      <td>Graduate</td>\n",
       "      <td>29.0</td>\n",
       "    </tr>\n",
       "    <tr>\n",
       "      <th>2</th>\n",
       "      <td>8a8588f35438fe12015444567666018e</td>\n",
       "      <td>301966580</td>\n",
       "      <td>7</td>\n",
       "      <td>2017-07-06 14:52:57</td>\n",
       "      <td>2017-07-06 13:52:51</td>\n",
       "      <td>20000.0</td>\n",
       "      <td>22250.0</td>\n",
       "      <td>15</td>\n",
       "      <td>NaN</td>\n",
       "      <td>1</td>\n",
       "      <td>Other</td>\n",
       "      <td>11.139350</td>\n",
       "      <td>10.292041</td>\n",
       "      <td>EcoBank</td>\n",
       "      <td>NaN</td>\n",
       "      <td>Permanent</td>\n",
       "      <td>NaN</td>\n",
       "      <td>49.0</td>\n",
       "    </tr>\n",
       "    <tr>\n",
       "      <th>3</th>\n",
       "      <td>8a85890754145ace015429211b513e16</td>\n",
       "      <td>301999343</td>\n",
       "      <td>3</td>\n",
       "      <td>2017-07-27 19:00:41</td>\n",
       "      <td>2017-07-27 18:00:35</td>\n",
       "      <td>10000.0</td>\n",
       "      <td>11500.0</td>\n",
       "      <td>15</td>\n",
       "      <td>NaN</td>\n",
       "      <td>1</td>\n",
       "      <td>Savings</td>\n",
       "      <td>3.985770</td>\n",
       "      <td>7.491708</td>\n",
       "      <td>First Bank</td>\n",
       "      <td>NaN</td>\n",
       "      <td>Permanent</td>\n",
       "      <td>NaN</td>\n",
       "      <td>35.0</td>\n",
       "    </tr>\n",
       "    <tr>\n",
       "      <th>4</th>\n",
       "      <td>8a858970548359cc0154883481981866</td>\n",
       "      <td>301962360</td>\n",
       "      <td>9</td>\n",
       "      <td>2017-07-03 23:42:45</td>\n",
       "      <td>2017-07-03 22:42:39</td>\n",
       "      <td>40000.0</td>\n",
       "      <td>44000.0</td>\n",
       "      <td>30</td>\n",
       "      <td>NaN</td>\n",
       "      <td>1</td>\n",
       "      <td>Other</td>\n",
       "      <td>7.457913</td>\n",
       "      <td>9.076574</td>\n",
       "      <td>GT Bank</td>\n",
       "      <td>NaN</td>\n",
       "      <td>Permanent</td>\n",
       "      <td>Primary</td>\n",
       "      <td>44.0</td>\n",
       "    </tr>\n",
       "  </tbody>\n",
       "</table>\n",
       "</div>"
      ],
      "text/plain": [
       "                         customerid  systemloanid  loannumber  \\\n",
       "0  8a2a81a74ce8c05d014cfb32a0da1049     301994762          12   \n",
       "1  8a85886e54beabf90154c0a29ae757c0     301965204           2   \n",
       "2  8a8588f35438fe12015444567666018e     301966580           7   \n",
       "3  8a85890754145ace015429211b513e16     301999343           3   \n",
       "4  8a858970548359cc0154883481981866     301962360           9   \n",
       "\n",
       "         approveddate        creationdate  loanamount  totaldue  termdays  \\\n",
       "0 2017-07-25 08:22:56 2017-07-25 07:22:47     30000.0   34500.0        30   \n",
       "1 2017-07-05 17:04:41 2017-07-05 16:04:18     15000.0   17250.0        30   \n",
       "2 2017-07-06 14:52:57 2017-07-06 13:52:51     20000.0   22250.0        15   \n",
       "3 2017-07-27 19:00:41 2017-07-27 18:00:35     10000.0   11500.0        15   \n",
       "4 2017-07-03 23:42:45 2017-07-03 22:42:39     40000.0   44000.0        30   \n",
       "\n",
       "  referredby  good_bad_flag bank_account_type  longitude_gps  latitude_gps  \\\n",
       "0        NaN              1             Other       3.432010      6.433055   \n",
       "1        NaN              1           Savings       3.885298      7.320700   \n",
       "2        NaN              1             Other      11.139350     10.292041   \n",
       "3        NaN              1           Savings       3.985770      7.491708   \n",
       "4        NaN              1             Other       7.457913      9.076574   \n",
       "\n",
       "  bank_name_clients bank_branch_clients employment_status_clients  \\\n",
       "0      Diamond Bank                 NaN                 Permanent   \n",
       "1           GT Bank        DUGBE,IBADAN                 Permanent   \n",
       "2           EcoBank                 NaN                 Permanent   \n",
       "3        First Bank                 NaN                 Permanent   \n",
       "4           GT Bank                 NaN                 Permanent   \n",
       "\n",
       "  level_of_education_clients   age  \n",
       "0              Post-Graduate  36.0  \n",
       "1                   Graduate  29.0  \n",
       "2                        NaN  49.0  \n",
       "3                        NaN  35.0  \n",
       "4                    Primary  44.0  "
      ]
     },
     "execution_count": 142,
     "metadata": {},
     "output_type": "execute_result"
    }
   ],
   "source": [
    "demographics_loans.head()\n"
   ]
  },
  {
   "cell_type": "code",
   "execution_count": 143,
   "metadata": {},
   "outputs": [
    {
     "data": {
      "text/plain": [
       "(4368, 10)"
      ]
     },
     "execution_count": 143,
     "metadata": {},
     "output_type": "execute_result"
    }
   ],
   "source": [
    "performance.shape\n"
   ]
  },
  {
   "cell_type": "code",
   "execution_count": 144,
   "metadata": {},
   "outputs": [
    {
     "data": {
      "text/plain": [
       "(4367, 24)"
      ]
     },
     "execution_count": 144,
     "metadata": {},
     "output_type": "execute_result"
    }
   ],
   "source": [
    "#merge all data sets\n",
    "complete_df = pd.merge( demographics_loans, clean_loans,on='customerid', how='right')\n",
    "complete_df.shape\n"
   ]
  },
  {
   "cell_type": "code",
   "execution_count": 145,
   "metadata": {},
   "outputs": [
    {
     "data": {
      "text/html": [
       "<div>\n",
       "<style scoped>\n",
       "    .dataframe tbody tr th:only-of-type {\n",
       "        vertical-align: middle;\n",
       "    }\n",
       "\n",
       "    .dataframe tbody tr th {\n",
       "        vertical-align: top;\n",
       "    }\n",
       "\n",
       "    .dataframe thead th {\n",
       "        text-align: right;\n",
       "    }\n",
       "</style>\n",
       "<table border=\"1\" class=\"dataframe\">\n",
       "  <thead>\n",
       "    <tr style=\"text-align: right;\">\n",
       "      <th></th>\n",
       "      <th>customerid</th>\n",
       "      <th>systemloanid</th>\n",
       "      <th>loannumber</th>\n",
       "      <th>approveddate</th>\n",
       "      <th>creationdate</th>\n",
       "      <th>loanamount</th>\n",
       "      <th>totaldue</th>\n",
       "      <th>termdays</th>\n",
       "      <th>referredby</th>\n",
       "      <th>good_bad_flag</th>\n",
       "      <th>...</th>\n",
       "      <th>bank_branch_clients</th>\n",
       "      <th>employment_status_clients</th>\n",
       "      <th>level_of_education_clients</th>\n",
       "      <th>age</th>\n",
       "      <th>loanapproval</th>\n",
       "      <th>avloanamount</th>\n",
       "      <th>num_loans</th>\n",
       "      <th>avdiff</th>\n",
       "      <th>avtermdays</th>\n",
       "      <th>avtotaldue</th>\n",
       "    </tr>\n",
       "  </thead>\n",
       "  <tbody>\n",
       "    <tr>\n",
       "      <th>0</th>\n",
       "      <td>8a2a81a74ce8c05d014cfb32a0da1049</td>\n",
       "      <td>301994762.0</td>\n",
       "      <td>12.0</td>\n",
       "      <td>2017-07-25 08:22:56</td>\n",
       "      <td>2017-07-25 07:22:47</td>\n",
       "      <td>30000.0</td>\n",
       "      <td>34500.0</td>\n",
       "      <td>30.0</td>\n",
       "      <td>NaN</td>\n",
       "      <td>1.0</td>\n",
       "      <td>...</td>\n",
       "      <td>NaN</td>\n",
       "      <td>Permanent</td>\n",
       "      <td>Post-Graduate</td>\n",
       "      <td>36.0</td>\n",
       "      <td>1.002222</td>\n",
       "      <td>18181.818182</td>\n",
       "      <td>11</td>\n",
       "      <td>-0.909091</td>\n",
       "      <td>30.0</td>\n",
       "      <td>22081.818182</td>\n",
       "    </tr>\n",
       "    <tr>\n",
       "      <th>1</th>\n",
       "      <td>8a8588f35438fe12015444567666018e</td>\n",
       "      <td>301966580.0</td>\n",
       "      <td>7.0</td>\n",
       "      <td>2017-07-06 14:52:57</td>\n",
       "      <td>2017-07-06 13:52:51</td>\n",
       "      <td>20000.0</td>\n",
       "      <td>22250.0</td>\n",
       "      <td>15.0</td>\n",
       "      <td>NaN</td>\n",
       "      <td>1.0</td>\n",
       "      <td>...</td>\n",
       "      <td>NaN</td>\n",
       "      <td>Permanent</td>\n",
       "      <td>NaN</td>\n",
       "      <td>49.0</td>\n",
       "      <td>1.003611</td>\n",
       "      <td>10000.000000</td>\n",
       "      <td>6</td>\n",
       "      <td>0.833333</td>\n",
       "      <td>17.5</td>\n",
       "      <td>11750.000000</td>\n",
       "    </tr>\n",
       "    <tr>\n",
       "      <th>2</th>\n",
       "      <td>8a85890754145ace015429211b513e16</td>\n",
       "      <td>301999343.0</td>\n",
       "      <td>3.0</td>\n",
       "      <td>2017-07-27 19:00:41</td>\n",
       "      <td>2017-07-27 18:00:35</td>\n",
       "      <td>10000.0</td>\n",
       "      <td>11500.0</td>\n",
       "      <td>15.0</td>\n",
       "      <td>NaN</td>\n",
       "      <td>1.0</td>\n",
       "      <td>...</td>\n",
       "      <td>NaN</td>\n",
       "      <td>Permanent</td>\n",
       "      <td>NaN</td>\n",
       "      <td>35.0</td>\n",
       "      <td>1.001944</td>\n",
       "      <td>10000.000000</td>\n",
       "      <td>2</td>\n",
       "      <td>7.500000</td>\n",
       "      <td>22.5</td>\n",
       "      <td>12250.000000</td>\n",
       "    </tr>\n",
       "    <tr>\n",
       "      <th>3</th>\n",
       "      <td>8a858970548359cc0154883481981866</td>\n",
       "      <td>301962360.0</td>\n",
       "      <td>9.0</td>\n",
       "      <td>2017-07-03 23:42:45</td>\n",
       "      <td>2017-07-03 22:42:39</td>\n",
       "      <td>40000.0</td>\n",
       "      <td>44000.0</td>\n",
       "      <td>30.0</td>\n",
       "      <td>NaN</td>\n",
       "      <td>1.0</td>\n",
       "      <td>...</td>\n",
       "      <td>NaN</td>\n",
       "      <td>Permanent</td>\n",
       "      <td>Primary</td>\n",
       "      <td>44.0</td>\n",
       "      <td>1.001944</td>\n",
       "      <td>18750.000000</td>\n",
       "      <td>8</td>\n",
       "      <td>-3.125000</td>\n",
       "      <td>37.5</td>\n",
       "      <td>23550.000000</td>\n",
       "    </tr>\n",
       "    <tr>\n",
       "      <th>4</th>\n",
       "      <td>8a8589f35451855401546b0738c42524</td>\n",
       "      <td>NaN</td>\n",
       "      <td>NaN</td>\n",
       "      <td>NaT</td>\n",
       "      <td>NaT</td>\n",
       "      <td>NaN</td>\n",
       "      <td>NaN</td>\n",
       "      <td>NaN</td>\n",
       "      <td>NaN</td>\n",
       "      <td>NaN</td>\n",
       "      <td>...</td>\n",
       "      <td>NaN</td>\n",
       "      <td>NaN</td>\n",
       "      <td>NaN</td>\n",
       "      <td>NaN</td>\n",
       "      <td>1.018333</td>\n",
       "      <td>14285.714286</td>\n",
       "      <td>7</td>\n",
       "      <td>-5.428571</td>\n",
       "      <td>30.0</td>\n",
       "      <td>17828.571429</td>\n",
       "    </tr>\n",
       "  </tbody>\n",
       "</table>\n",
       "<p>5 rows × 24 columns</p>\n",
       "</div>"
      ],
      "text/plain": [
       "                         customerid  systemloanid  loannumber  \\\n",
       "0  8a2a81a74ce8c05d014cfb32a0da1049   301994762.0        12.0   \n",
       "1  8a8588f35438fe12015444567666018e   301966580.0         7.0   \n",
       "2  8a85890754145ace015429211b513e16   301999343.0         3.0   \n",
       "3  8a858970548359cc0154883481981866   301962360.0         9.0   \n",
       "4  8a8589f35451855401546b0738c42524           NaN         NaN   \n",
       "\n",
       "         approveddate        creationdate  loanamount  totaldue  termdays  \\\n",
       "0 2017-07-25 08:22:56 2017-07-25 07:22:47     30000.0   34500.0      30.0   \n",
       "1 2017-07-06 14:52:57 2017-07-06 13:52:51     20000.0   22250.0      15.0   \n",
       "2 2017-07-27 19:00:41 2017-07-27 18:00:35     10000.0   11500.0      15.0   \n",
       "3 2017-07-03 23:42:45 2017-07-03 22:42:39     40000.0   44000.0      30.0   \n",
       "4                 NaT                 NaT         NaN       NaN       NaN   \n",
       "\n",
       "  referredby  good_bad_flag  ... bank_branch_clients  \\\n",
       "0        NaN            1.0  ...                 NaN   \n",
       "1        NaN            1.0  ...                 NaN   \n",
       "2        NaN            1.0  ...                 NaN   \n",
       "3        NaN            1.0  ...                 NaN   \n",
       "4        NaN            NaN  ...                 NaN   \n",
       "\n",
       "   employment_status_clients  level_of_education_clients   age loanapproval  \\\n",
       "0                  Permanent               Post-Graduate  36.0     1.002222   \n",
       "1                  Permanent                         NaN  49.0     1.003611   \n",
       "2                  Permanent                         NaN  35.0     1.001944   \n",
       "3                  Permanent                     Primary  44.0     1.001944   \n",
       "4                        NaN                         NaN   NaN     1.018333   \n",
       "\n",
       "   avloanamount num_loans    avdiff  avtermdays    avtotaldue  \n",
       "0  18181.818182        11 -0.909091        30.0  22081.818182  \n",
       "1  10000.000000         6  0.833333        17.5  11750.000000  \n",
       "2  10000.000000         2  7.500000        22.5  12250.000000  \n",
       "3  18750.000000         8 -3.125000        37.5  23550.000000  \n",
       "4  14285.714286         7 -5.428571        30.0  17828.571429  \n",
       "\n",
       "[5 rows x 24 columns]"
      ]
     },
     "execution_count": 145,
     "metadata": {},
     "output_type": "execute_result"
    }
   ],
   "source": [
    "complete_df.head()\n"
   ]
  },
  {
   "cell_type": "code",
   "execution_count": 148,
   "metadata": {},
   "outputs": [
    {
     "data": {
      "text/plain": [
       "bank_branch_clients           4337\n",
       "level_of_education_clients    3927\n",
       "referredby                    3917\n",
       "employment_status_clients     1588\n",
       "good_bad_flag                 1095\n",
       "bank_account_type             1095\n",
       "loanamount                    1095\n",
       "latitude_gps                  1095\n",
       "bank_name_clients             1095\n",
       "longitude_gps                 1095\n",
       "totaldue                      1095\n",
       "age                           1095\n",
       "creationdate                  1095\n",
       "approveddate                  1095\n",
       "loannumber                    1095\n",
       "systemloanid                  1095\n",
       "termdays                      1095\n",
       "avtotaldue                       0\n",
       "avtermdays                       0\n",
       "loanapproval                     0\n",
       "avloanamount                     0\n",
       "num_loans                        0\n",
       "avdiff                           0\n",
       "customerid                       0\n",
       "dtype: int64"
      ]
     },
     "execution_count": 148,
     "metadata": {},
     "output_type": "execute_result"
    }
   ],
   "source": [
    "#analyze the null values\n",
    "complete_df.isnull().sum().sort_values(ascending=False)\n"
   ]
  },
  {
   "cell_type": "code",
   "execution_count": 149,
   "metadata": {},
   "outputs": [],
   "source": [
    "#impute the columns with less null values with 0\n",
    "complete_df[['avdiff','avtermdays', 'avtotaldue','num_loans','avloanamount','loanapproval','age']] = complete_df[['avdiff','avtermdays', 'avtotaldue','num_loans','avloanamount','loanapproval','age']].fillna(value=0)"
   ]
  },
  {
   "cell_type": "code",
   "execution_count": 150,
   "metadata": {},
   "outputs": [],
   "source": [
    "#drop the extremely empty columns\n",
    "complete_df.drop(['bank_branch_clients', 'level_of_education_clients', 'referredby'],\n",
    "                axis='columns', inplace= True)\n"
   ]
  },
  {
   "cell_type": "code",
   "execution_count": 151,
   "metadata": {},
   "outputs": [],
   "source": [
    "#replace the null values\n",
    "complete_df['employment_status_clients'].fillna('unknown', inplace=True)\n"
   ]
  },
  {
   "cell_type": "code",
   "execution_count": 152,
   "metadata": {},
   "outputs": [],
   "source": [
    "#drop the rows without good_bad_flag values fro better analysis\n",
    "complete_df = complete_df[complete_df['good_bad_flag'].notna()]\n"
   ]
  },
  {
   "cell_type": "code",
   "execution_count": 153,
   "metadata": {},
   "outputs": [
    {
     "data": {
      "text/plain": [
       "customerid                   0\n",
       "systemloanid                 0\n",
       "loannumber                   0\n",
       "approveddate                 0\n",
       "creationdate                 0\n",
       "loanamount                   0\n",
       "totaldue                     0\n",
       "termdays                     0\n",
       "good_bad_flag                0\n",
       "bank_account_type            0\n",
       "longitude_gps                0\n",
       "latitude_gps                 0\n",
       "bank_name_clients            0\n",
       "employment_status_clients    0\n",
       "age                          0\n",
       "loanapproval                 0\n",
       "avloanamount                 0\n",
       "num_loans                    0\n",
       "avdiff                       0\n",
       "avtermdays                   0\n",
       "avtotaldue                   0\n",
       "dtype: int64"
      ]
     },
     "execution_count": 153,
     "metadata": {},
     "output_type": "execute_result"
    }
   ],
   "source": [
    "complete_df.isnull().sum()\n"
   ]
  },
  {
   "cell_type": "code",
   "execution_count": 154,
   "metadata": {},
   "outputs": [
    {
     "data": {
      "text/plain": [
       "(3272, 21)"
      ]
     },
     "execution_count": 154,
     "metadata": {},
     "output_type": "execute_result"
    }
   ],
   "source": [
    "complete_df.shape"
   ]
  },
  {
   "cell_type": "code",
   "execution_count": 155,
   "metadata": {},
   "outputs": [],
   "source": [
    "#univariate/bivariate analysis"
   ]
  },
  {
   "cell_type": "code",
   "execution_count": 156,
   "metadata": {},
   "outputs": [
    {
     "data": {
      "text/html": [
       "<div>\n",
       "<style scoped>\n",
       "    .dataframe tbody tr th:only-of-type {\n",
       "        vertical-align: middle;\n",
       "    }\n",
       "\n",
       "    .dataframe tbody tr th {\n",
       "        vertical-align: top;\n",
       "    }\n",
       "\n",
       "    .dataframe thead th {\n",
       "        text-align: right;\n",
       "    }\n",
       "</style>\n",
       "<table border=\"1\" class=\"dataframe\">\n",
       "  <thead>\n",
       "    <tr style=\"text-align: right;\">\n",
       "      <th></th>\n",
       "      <th>customerid</th>\n",
       "      <th>systemloanid</th>\n",
       "      <th>loannumber</th>\n",
       "      <th>approveddate</th>\n",
       "      <th>creationdate</th>\n",
       "      <th>loanamount</th>\n",
       "      <th>totaldue</th>\n",
       "      <th>termdays</th>\n",
       "      <th>good_bad_flag</th>\n",
       "      <th>bank_account_type</th>\n",
       "      <th>...</th>\n",
       "      <th>latitude_gps</th>\n",
       "      <th>bank_name_clients</th>\n",
       "      <th>employment_status_clients</th>\n",
       "      <th>age</th>\n",
       "      <th>loanapproval</th>\n",
       "      <th>avloanamount</th>\n",
       "      <th>num_loans</th>\n",
       "      <th>avdiff</th>\n",
       "      <th>avtermdays</th>\n",
       "      <th>avtotaldue</th>\n",
       "    </tr>\n",
       "  </thead>\n",
       "  <tbody>\n",
       "    <tr>\n",
       "      <th>0</th>\n",
       "      <td>8a2a81a74ce8c05d014cfb32a0da1049</td>\n",
       "      <td>301994762.0</td>\n",
       "      <td>12.0</td>\n",
       "      <td>2017-07-25 08:22:56</td>\n",
       "      <td>2017-07-25 07:22:47</td>\n",
       "      <td>30000.0</td>\n",
       "      <td>34500.0</td>\n",
       "      <td>30.0</td>\n",
       "      <td>1.0</td>\n",
       "      <td>Other</td>\n",
       "      <td>...</td>\n",
       "      <td>6.433055</td>\n",
       "      <td>Diamond Bank</td>\n",
       "      <td>Permanent</td>\n",
       "      <td>36.0</td>\n",
       "      <td>1.002222</td>\n",
       "      <td>18181.818182</td>\n",
       "      <td>11</td>\n",
       "      <td>-0.909091</td>\n",
       "      <td>30.0</td>\n",
       "      <td>22081.818182</td>\n",
       "    </tr>\n",
       "    <tr>\n",
       "      <th>1</th>\n",
       "      <td>8a8588f35438fe12015444567666018e</td>\n",
       "      <td>301966580.0</td>\n",
       "      <td>7.0</td>\n",
       "      <td>2017-07-06 14:52:57</td>\n",
       "      <td>2017-07-06 13:52:51</td>\n",
       "      <td>20000.0</td>\n",
       "      <td>22250.0</td>\n",
       "      <td>15.0</td>\n",
       "      <td>1.0</td>\n",
       "      <td>Other</td>\n",
       "      <td>...</td>\n",
       "      <td>10.292041</td>\n",
       "      <td>EcoBank</td>\n",
       "      <td>Permanent</td>\n",
       "      <td>49.0</td>\n",
       "      <td>1.003611</td>\n",
       "      <td>10000.000000</td>\n",
       "      <td>6</td>\n",
       "      <td>0.833333</td>\n",
       "      <td>17.5</td>\n",
       "      <td>11750.000000</td>\n",
       "    </tr>\n",
       "    <tr>\n",
       "      <th>2</th>\n",
       "      <td>8a85890754145ace015429211b513e16</td>\n",
       "      <td>301999343.0</td>\n",
       "      <td>3.0</td>\n",
       "      <td>2017-07-27 19:00:41</td>\n",
       "      <td>2017-07-27 18:00:35</td>\n",
       "      <td>10000.0</td>\n",
       "      <td>11500.0</td>\n",
       "      <td>15.0</td>\n",
       "      <td>1.0</td>\n",
       "      <td>Savings</td>\n",
       "      <td>...</td>\n",
       "      <td>7.491708</td>\n",
       "      <td>First Bank</td>\n",
       "      <td>Permanent</td>\n",
       "      <td>35.0</td>\n",
       "      <td>1.001944</td>\n",
       "      <td>10000.000000</td>\n",
       "      <td>2</td>\n",
       "      <td>7.500000</td>\n",
       "      <td>22.5</td>\n",
       "      <td>12250.000000</td>\n",
       "    </tr>\n",
       "    <tr>\n",
       "      <th>3</th>\n",
       "      <td>8a858970548359cc0154883481981866</td>\n",
       "      <td>301962360.0</td>\n",
       "      <td>9.0</td>\n",
       "      <td>2017-07-03 23:42:45</td>\n",
       "      <td>2017-07-03 22:42:39</td>\n",
       "      <td>40000.0</td>\n",
       "      <td>44000.0</td>\n",
       "      <td>30.0</td>\n",
       "      <td>1.0</td>\n",
       "      <td>Other</td>\n",
       "      <td>...</td>\n",
       "      <td>9.076574</td>\n",
       "      <td>GT Bank</td>\n",
       "      <td>Permanent</td>\n",
       "      <td>44.0</td>\n",
       "      <td>1.001944</td>\n",
       "      <td>18750.000000</td>\n",
       "      <td>8</td>\n",
       "      <td>-3.125000</td>\n",
       "      <td>37.5</td>\n",
       "      <td>23550.000000</td>\n",
       "    </tr>\n",
       "    <tr>\n",
       "      <th>5</th>\n",
       "      <td>8a858e095c59b91b015c5e5cea3719bc</td>\n",
       "      <td>301972027.0</td>\n",
       "      <td>3.0</td>\n",
       "      <td>2017-07-10 19:25:33</td>\n",
       "      <td>2017-07-10 18:25:28</td>\n",
       "      <td>10000.0</td>\n",
       "      <td>13000.0</td>\n",
       "      <td>30.0</td>\n",
       "      <td>1.0</td>\n",
       "      <td>Savings</td>\n",
       "      <td>...</td>\n",
       "      <td>6.557011</td>\n",
       "      <td>GT Bank</td>\n",
       "      <td>Permanent</td>\n",
       "      <td>43.0</td>\n",
       "      <td>1.001944</td>\n",
       "      <td>10000.000000</td>\n",
       "      <td>2</td>\n",
       "      <td>-2.500000</td>\n",
       "      <td>22.5</td>\n",
       "      <td>12250.000000</td>\n",
       "    </tr>\n",
       "  </tbody>\n",
       "</table>\n",
       "<p>5 rows × 21 columns</p>\n",
       "</div>"
      ],
      "text/plain": [
       "                         customerid  systemloanid  loannumber  \\\n",
       "0  8a2a81a74ce8c05d014cfb32a0da1049   301994762.0        12.0   \n",
       "1  8a8588f35438fe12015444567666018e   301966580.0         7.0   \n",
       "2  8a85890754145ace015429211b513e16   301999343.0         3.0   \n",
       "3  8a858970548359cc0154883481981866   301962360.0         9.0   \n",
       "5  8a858e095c59b91b015c5e5cea3719bc   301972027.0         3.0   \n",
       "\n",
       "         approveddate        creationdate  loanamount  totaldue  termdays  \\\n",
       "0 2017-07-25 08:22:56 2017-07-25 07:22:47     30000.0   34500.0      30.0   \n",
       "1 2017-07-06 14:52:57 2017-07-06 13:52:51     20000.0   22250.0      15.0   \n",
       "2 2017-07-27 19:00:41 2017-07-27 18:00:35     10000.0   11500.0      15.0   \n",
       "3 2017-07-03 23:42:45 2017-07-03 22:42:39     40000.0   44000.0      30.0   \n",
       "5 2017-07-10 19:25:33 2017-07-10 18:25:28     10000.0   13000.0      30.0   \n",
       "\n",
       "   good_bad_flag bank_account_type  ...  latitude_gps  bank_name_clients  \\\n",
       "0            1.0             Other  ...      6.433055       Diamond Bank   \n",
       "1            1.0             Other  ...     10.292041            EcoBank   \n",
       "2            1.0           Savings  ...      7.491708         First Bank   \n",
       "3            1.0             Other  ...      9.076574            GT Bank   \n",
       "5            1.0           Savings  ...      6.557011            GT Bank   \n",
       "\n",
       "  employment_status_clients   age  loanapproval  avloanamount  num_loans  \\\n",
       "0                 Permanent  36.0      1.002222  18181.818182         11   \n",
       "1                 Permanent  49.0      1.003611  10000.000000          6   \n",
       "2                 Permanent  35.0      1.001944  10000.000000          2   \n",
       "3                 Permanent  44.0      1.001944  18750.000000          8   \n",
       "5                 Permanent  43.0      1.001944  10000.000000          2   \n",
       "\n",
       "     avdiff  avtermdays    avtotaldue  \n",
       "0 -0.909091        30.0  22081.818182  \n",
       "1  0.833333        17.5  11750.000000  \n",
       "2  7.500000        22.5  12250.000000  \n",
       "3 -3.125000        37.5  23550.000000  \n",
       "5 -2.500000        22.5  12250.000000  \n",
       "\n",
       "[5 rows x 21 columns]"
      ]
     },
     "execution_count": 156,
     "metadata": {},
     "output_type": "execute_result"
    }
   ],
   "source": [
    "complete_df.head()"
   ]
  },
  {
   "cell_type": "code",
   "execution_count": 157,
   "metadata": {},
   "outputs": [
    {
     "data": {
      "text/html": [
       "<div>\n",
       "<style scoped>\n",
       "    .dataframe tbody tr th:only-of-type {\n",
       "        vertical-align: middle;\n",
       "    }\n",
       "\n",
       "    .dataframe tbody tr th {\n",
       "        vertical-align: top;\n",
       "    }\n",
       "\n",
       "    .dataframe thead th {\n",
       "        text-align: right;\n",
       "    }\n",
       "</style>\n",
       "<table border=\"1\" class=\"dataframe\">\n",
       "  <thead>\n",
       "    <tr style=\"text-align: right;\">\n",
       "      <th></th>\n",
       "      <th>systemloanid</th>\n",
       "      <th>loannumber</th>\n",
       "      <th>loanamount</th>\n",
       "      <th>totaldue</th>\n",
       "      <th>termdays</th>\n",
       "      <th>good_bad_flag</th>\n",
       "      <th>longitude_gps</th>\n",
       "      <th>latitude_gps</th>\n",
       "      <th>age</th>\n",
       "      <th>loanapproval</th>\n",
       "      <th>avloanamount</th>\n",
       "      <th>num_loans</th>\n",
       "      <th>avdiff</th>\n",
       "      <th>avtermdays</th>\n",
       "      <th>avtotaldue</th>\n",
       "    </tr>\n",
       "  </thead>\n",
       "  <tbody>\n",
       "    <tr>\n",
       "      <th>count</th>\n",
       "      <td>3.272000e+03</td>\n",
       "      <td>3272.000000</td>\n",
       "      <td>3272.000000</td>\n",
       "      <td>3272.000000</td>\n",
       "      <td>3272.000000</td>\n",
       "      <td>3272.000000</td>\n",
       "      <td>3272.000000</td>\n",
       "      <td>3272.000000</td>\n",
       "      <td>3272.000000</td>\n",
       "      <td>3272.000000</td>\n",
       "      <td>3272.000000</td>\n",
       "      <td>3272.000000</td>\n",
       "      <td>3272.000000</td>\n",
       "      <td>3272.000000</td>\n",
       "      <td>3272.000000</td>\n",
       "    </tr>\n",
       "    <tr>\n",
       "      <th>mean</th>\n",
       "      <td>3.019807e+08</td>\n",
       "      <td>5.189792</td>\n",
       "      <td>17834.657702</td>\n",
       "      <td>21284.436278</td>\n",
       "      <td>29.252751</td>\n",
       "      <td>0.782396</td>\n",
       "      <td>4.535675</td>\n",
       "      <td>7.293214</td>\n",
       "      <td>36.708130</td>\n",
       "      <td>1.064253</td>\n",
       "      <td>12942.383678</td>\n",
       "      <td>4.184902</td>\n",
       "      <td>-2.350584</td>\n",
       "      <td>25.353757</td>\n",
       "      <td>15677.450678</td>\n",
       "    </tr>\n",
       "    <tr>\n",
       "      <th>std</th>\n",
       "      <td>1.343321e+04</td>\n",
       "      <td>3.667015</td>\n",
       "      <td>10745.429091</td>\n",
       "      <td>11931.218766</td>\n",
       "      <td>11.398643</td>\n",
       "      <td>0.412680</td>\n",
       "      <td>7.922577</td>\n",
       "      <td>3.271196</td>\n",
       "      <td>6.306118</td>\n",
       "      <td>1.018937</td>\n",
       "      <td>4849.804022</td>\n",
       "      <td>3.666765</td>\n",
       "      <td>7.404042</td>\n",
       "      <td>6.870182</td>\n",
       "      <td>5418.459719</td>\n",
       "    </tr>\n",
       "    <tr>\n",
       "      <th>min</th>\n",
       "      <td>3.019585e+08</td>\n",
       "      <td>2.000000</td>\n",
       "      <td>10000.000000</td>\n",
       "      <td>10000.000000</td>\n",
       "      <td>15.000000</td>\n",
       "      <td>0.000000</td>\n",
       "      <td>-118.247009</td>\n",
       "      <td>-33.868818</td>\n",
       "      <td>25.000000</td>\n",
       "      <td>1.001111</td>\n",
       "      <td>5000.000000</td>\n",
       "      <td>1.000000</td>\n",
       "      <td>-30.000000</td>\n",
       "      <td>15.000000</td>\n",
       "      <td>5750.000000</td>\n",
       "    </tr>\n",
       "    <tr>\n",
       "      <th>25%</th>\n",
       "      <td>3.019689e+08</td>\n",
       "      <td>2.000000</td>\n",
       "      <td>10000.000000</td>\n",
       "      <td>13000.000000</td>\n",
       "      <td>30.000000</td>\n",
       "      <td>1.000000</td>\n",
       "      <td>3.354974</td>\n",
       "      <td>6.473632</td>\n",
       "      <td>32.000000</td>\n",
       "      <td>1.001944</td>\n",
       "      <td>10000.000000</td>\n",
       "      <td>1.000000</td>\n",
       "      <td>-5.333333</td>\n",
       "      <td>20.000000</td>\n",
       "      <td>12250.000000</td>\n",
       "    </tr>\n",
       "    <tr>\n",
       "      <th>50%</th>\n",
       "      <td>3.019794e+08</td>\n",
       "      <td>4.000000</td>\n",
       "      <td>10000.000000</td>\n",
       "      <td>13000.000000</td>\n",
       "      <td>30.000000</td>\n",
       "      <td>1.000000</td>\n",
       "      <td>3.587569</td>\n",
       "      <td>6.625817</td>\n",
       "      <td>36.000000</td>\n",
       "      <td>1.003056</td>\n",
       "      <td>10000.000000</td>\n",
       "      <td>3.000000</td>\n",
       "      <td>-2.333333</td>\n",
       "      <td>27.857143</td>\n",
       "      <td>13000.000000</td>\n",
       "    </tr>\n",
       "    <tr>\n",
       "      <th>75%</th>\n",
       "      <td>3.019933e+08</td>\n",
       "      <td>7.000000</td>\n",
       "      <td>20000.000000</td>\n",
       "      <td>24500.000000</td>\n",
       "      <td>30.000000</td>\n",
       "      <td>1.000000</td>\n",
       "      <td>6.514509</td>\n",
       "      <td>7.430067</td>\n",
       "      <td>40.000000</td>\n",
       "      <td>1.018611</td>\n",
       "      <td>14444.444444</td>\n",
       "      <td>6.000000</td>\n",
       "      <td>0.000000</td>\n",
       "      <td>30.000000</td>\n",
       "      <td>17501.562500</td>\n",
       "    </tr>\n",
       "    <tr>\n",
       "      <th>max</th>\n",
       "      <td>3.020040e+08</td>\n",
       "      <td>27.000000</td>\n",
       "      <td>60000.000000</td>\n",
       "      <td>68100.000000</td>\n",
       "      <td>90.000000</td>\n",
       "      <td>1.000000</td>\n",
       "      <td>151.209290</td>\n",
       "      <td>71.228069</td>\n",
       "      <td>58.000000</td>\n",
       "      <td>38.591944</td>\n",
       "      <td>36666.666667</td>\n",
       "      <td>26.000000</td>\n",
       "      <td>121.000000</td>\n",
       "      <td>60.000000</td>\n",
       "      <td>41252.380952</td>\n",
       "    </tr>\n",
       "  </tbody>\n",
       "</table>\n",
       "</div>"
      ],
      "text/plain": [
       "       systemloanid   loannumber    loanamount      totaldue     termdays  \\\n",
       "count  3.272000e+03  3272.000000   3272.000000   3272.000000  3272.000000   \n",
       "mean   3.019807e+08     5.189792  17834.657702  21284.436278    29.252751   \n",
       "std    1.343321e+04     3.667015  10745.429091  11931.218766    11.398643   \n",
       "min    3.019585e+08     2.000000  10000.000000  10000.000000    15.000000   \n",
       "25%    3.019689e+08     2.000000  10000.000000  13000.000000    30.000000   \n",
       "50%    3.019794e+08     4.000000  10000.000000  13000.000000    30.000000   \n",
       "75%    3.019933e+08     7.000000  20000.000000  24500.000000    30.000000   \n",
       "max    3.020040e+08    27.000000  60000.000000  68100.000000    90.000000   \n",
       "\n",
       "       good_bad_flag  longitude_gps  latitude_gps          age  loanapproval  \\\n",
       "count    3272.000000    3272.000000   3272.000000  3272.000000   3272.000000   \n",
       "mean        0.782396       4.535675      7.293214    36.708130      1.064253   \n",
       "std         0.412680       7.922577      3.271196     6.306118      1.018937   \n",
       "min         0.000000    -118.247009    -33.868818    25.000000      1.001111   \n",
       "25%         1.000000       3.354974      6.473632    32.000000      1.001944   \n",
       "50%         1.000000       3.587569      6.625817    36.000000      1.003056   \n",
       "75%         1.000000       6.514509      7.430067    40.000000      1.018611   \n",
       "max         1.000000     151.209290     71.228069    58.000000     38.591944   \n",
       "\n",
       "       avloanamount    num_loans       avdiff   avtermdays    avtotaldue  \n",
       "count   3272.000000  3272.000000  3272.000000  3272.000000   3272.000000  \n",
       "mean   12942.383678     4.184902    -2.350584    25.353757  15677.450678  \n",
       "std     4849.804022     3.666765     7.404042     6.870182   5418.459719  \n",
       "min     5000.000000     1.000000   -30.000000    15.000000   5750.000000  \n",
       "25%    10000.000000     1.000000    -5.333333    20.000000  12250.000000  \n",
       "50%    10000.000000     3.000000    -2.333333    27.857143  13000.000000  \n",
       "75%    14444.444444     6.000000     0.000000    30.000000  17501.562500  \n",
       "max    36666.666667    26.000000   121.000000    60.000000  41252.380952  "
      ]
     },
     "execution_count": 157,
     "metadata": {},
     "output_type": "execute_result"
    }
   ],
   "source": [
    "complete_df.describe()"
   ]
  },
  {
   "cell_type": "markdown",
   "metadata": {},
   "source": [
    "The "
   ]
  },
  {
   "cell_type": "code",
   "execution_count": 158,
   "metadata": {},
   "outputs": [
    {
     "data": {
      "text/html": [
       "<div>\n",
       "<style scoped>\n",
       "    .dataframe tbody tr th:only-of-type {\n",
       "        vertical-align: middle;\n",
       "    }\n",
       "\n",
       "    .dataframe tbody tr th {\n",
       "        vertical-align: top;\n",
       "    }\n",
       "\n",
       "    .dataframe thead th {\n",
       "        text-align: right;\n",
       "    }\n",
       "</style>\n",
       "<table border=\"1\" class=\"dataframe\">\n",
       "  <thead>\n",
       "    <tr style=\"text-align: right;\">\n",
       "      <th></th>\n",
       "      <th>systemloanid</th>\n",
       "      <th>loannumber</th>\n",
       "      <th>loanamount</th>\n",
       "      <th>totaldue</th>\n",
       "      <th>termdays</th>\n",
       "      <th>loanapproval</th>\n",
       "      <th>avloanamount</th>\n",
       "      <th>num_loans</th>\n",
       "      <th>diff</th>\n",
       "      <th>avdiff</th>\n",
       "      <th>avtermdays</th>\n",
       "      <th>avtotaldue</th>\n",
       "    </tr>\n",
       "    <tr>\n",
       "      <th>creationdate</th>\n",
       "      <th></th>\n",
       "      <th></th>\n",
       "      <th></th>\n",
       "      <th></th>\n",
       "      <th></th>\n",
       "      <th></th>\n",
       "      <th></th>\n",
       "      <th></th>\n",
       "      <th></th>\n",
       "      <th></th>\n",
       "      <th></th>\n",
       "      <th></th>\n",
       "    </tr>\n",
       "  </thead>\n",
       "  <tbody>\n",
       "    <tr>\n",
       "      <th>1</th>\n",
       "      <td>318997757745</td>\n",
       "      <td>5036</td>\n",
       "      <td>19480000.0</td>\n",
       "      <td>23008675.0</td>\n",
       "      <td>30150</td>\n",
       "      <td>1087.578889</td>\n",
       "      <td>2.002569e+07</td>\n",
       "      <td>10115</td>\n",
       "      <td>-2125</td>\n",
       "      <td>-2707.947493</td>\n",
       "      <td>29497.155128</td>\n",
       "      <td>2.352429e+07</td>\n",
       "    </tr>\n",
       "    <tr>\n",
       "      <th>2</th>\n",
       "      <td>363991963539</td>\n",
       "      <td>5701</td>\n",
       "      <td>21490000.0</td>\n",
       "      <td>25363025.0</td>\n",
       "      <td>33195</td>\n",
       "      <td>1210.760000</td>\n",
       "      <td>2.154212e+07</td>\n",
       "      <td>10483</td>\n",
       "      <td>-3301</td>\n",
       "      <td>-2878.120969</td>\n",
       "      <td>32646.270922</td>\n",
       "      <td>2.540488e+07</td>\n",
       "    </tr>\n",
       "    <tr>\n",
       "      <th>3</th>\n",
       "      <td>546603920541</td>\n",
       "      <td>8791</td>\n",
       "      <td>32508000.0</td>\n",
       "      <td>38401875.0</td>\n",
       "      <td>51015</td>\n",
       "      <td>1828.168056</td>\n",
       "      <td>3.147707e+07</td>\n",
       "      <td>15174</td>\n",
       "      <td>-3992</td>\n",
       "      <td>-4059.734676</td>\n",
       "      <td>48743.240585</td>\n",
       "      <td>3.719894e+07</td>\n",
       "    </tr>\n",
       "    <tr>\n",
       "      <th>4</th>\n",
       "      <td>703302560221</td>\n",
       "      <td>10022</td>\n",
       "      <td>38515000.0</td>\n",
       "      <td>45506175.0</td>\n",
       "      <td>61725</td>\n",
       "      <td>2363.884167</td>\n",
       "      <td>3.683236e+07</td>\n",
       "      <td>16590</td>\n",
       "      <td>-6141</td>\n",
       "      <td>-5453.335745</td>\n",
       "      <td>59753.394676</td>\n",
       "      <td>4.370702e+07</td>\n",
       "    </tr>\n",
       "    <tr>\n",
       "      <th>5</th>\n",
       "      <td>1004065521778</td>\n",
       "      <td>14348</td>\n",
       "      <td>54548000.0</td>\n",
       "      <td>64920149.7</td>\n",
       "      <td>89745</td>\n",
       "      <td>3380.885278</td>\n",
       "      <td>4.863303e+07</td>\n",
       "      <td>19961</td>\n",
       "      <td>-7001</td>\n",
       "      <td>-7012.195293</td>\n",
       "      <td>85172.588033</td>\n",
       "      <td>5.819457e+07</td>\n",
       "    </tr>\n",
       "  </tbody>\n",
       "</table>\n",
       "</div>"
      ],
      "text/plain": [
       "               systemloanid  loannumber  loanamount    totaldue  termdays  \\\n",
       "creationdate                                                                \n",
       "1              318997757745        5036  19480000.0  23008675.0     30150   \n",
       "2              363991963539        5701  21490000.0  25363025.0     33195   \n",
       "3              546603920541        8791  32508000.0  38401875.0     51015   \n",
       "4              703302560221       10022  38515000.0  45506175.0     61725   \n",
       "5             1004065521778       14348  54548000.0  64920149.7     89745   \n",
       "\n",
       "              loanapproval  avloanamount  num_loans  diff       avdiff  \\\n",
       "creationdate                                                             \n",
       "1              1087.578889  2.002569e+07      10115 -2125 -2707.947493   \n",
       "2              1210.760000  2.154212e+07      10483 -3301 -2878.120969   \n",
       "3              1828.168056  3.147707e+07      15174 -3992 -4059.734676   \n",
       "4              2363.884167  3.683236e+07      16590 -6141 -5453.335745   \n",
       "5              3380.885278  4.863303e+07      19961 -7001 -7012.195293   \n",
       "\n",
       "                avtermdays    avtotaldue  \n",
       "creationdate                              \n",
       "1             29497.155128  2.352429e+07  \n",
       "2             32646.270922  2.540488e+07  \n",
       "3             48743.240585  3.719894e+07  \n",
       "4             59753.394676  4.370702e+07  \n",
       "5             85172.588033  5.819457e+07  "
      ]
     },
     "execution_count": 158,
     "metadata": {},
     "output_type": "execute_result"
    }
   ],
   "source": [
    "#sort out the months\n",
    "\n",
    "df= loans\n",
    "df.creationdate.sort_values(ascending=True)\n",
    "df.set_index(pd.DatetimeIndex(df['creationdate']), drop=True, inplace = True)\n",
    "df=df.groupby([df.index.month]).sum()\n",
    "df.head()"
   ]
  },
  {
   "cell_type": "code",
   "execution_count": 159,
   "metadata": {},
   "outputs": [
    {
     "data": {
      "text/html": [
       "<div>\n",
       "<style scoped>\n",
       "    .dataframe tbody tr th:only-of-type {\n",
       "        vertical-align: middle;\n",
       "    }\n",
       "\n",
       "    .dataframe tbody tr th {\n",
       "        vertical-align: top;\n",
       "    }\n",
       "\n",
       "    .dataframe thead th {\n",
       "        text-align: right;\n",
       "    }\n",
       "</style>\n",
       "<table border=\"1\" class=\"dataframe\">\n",
       "  <thead>\n",
       "    <tr style=\"text-align: right;\">\n",
       "      <th></th>\n",
       "      <th>systemloanid</th>\n",
       "      <th>loannumber</th>\n",
       "      <th>loanamount</th>\n",
       "      <th>totaldue</th>\n",
       "      <th>termdays</th>\n",
       "      <th>loanapproval</th>\n",
       "      <th>avloanamount</th>\n",
       "      <th>num_loans</th>\n",
       "      <th>diff</th>\n",
       "      <th>avdiff</th>\n",
       "      <th>avtermdays</th>\n",
       "      <th>avtotaldue</th>\n",
       "    </tr>\n",
       "    <tr>\n",
       "      <th>creationdate</th>\n",
       "      <th></th>\n",
       "      <th></th>\n",
       "      <th></th>\n",
       "      <th></th>\n",
       "      <th></th>\n",
       "      <th></th>\n",
       "      <th></th>\n",
       "      <th></th>\n",
       "      <th></th>\n",
       "      <th></th>\n",
       "      <th></th>\n",
       "      <th></th>\n",
       "    </tr>\n",
       "  </thead>\n",
       "  <tbody>\n",
       "    <tr>\n",
       "      <th>8</th>\n",
       "      <td>188854172201</td>\n",
       "      <td>1503</td>\n",
       "      <td>7918000.0</td>\n",
       "      <td>9599950.0</td>\n",
       "      <td>15330</td>\n",
       "      <td>629.214722</td>\n",
       "      <td>1.294438e+07</td>\n",
       "      <td>6364</td>\n",
       "      <td>-1048</td>\n",
       "      <td>-1095.422776</td>\n",
       "      <td>18776.601653</td>\n",
       "      <td>1.520301e+07</td>\n",
       "    </tr>\n",
       "    <tr>\n",
       "      <th>9</th>\n",
       "      <td>155685412989</td>\n",
       "      <td>1761</td>\n",
       "      <td>8175000.0</td>\n",
       "      <td>9695250.0</td>\n",
       "      <td>12780</td>\n",
       "      <td>531.495000</td>\n",
       "      <td>1.112608e+07</td>\n",
       "      <td>5424</td>\n",
       "      <td>-632</td>\n",
       "      <td>-1073.827704</td>\n",
       "      <td>15659.994910</td>\n",
       "      <td>1.302816e+07</td>\n",
       "    </tr>\n",
       "    <tr>\n",
       "      <th>10</th>\n",
       "      <td>191004701495</td>\n",
       "      <td>2416</td>\n",
       "      <td>11185000.0</td>\n",
       "      <td>13168937.5</td>\n",
       "      <td>15900</td>\n",
       "      <td>806.584722</td>\n",
       "      <td>1.358474e+07</td>\n",
       "      <td>6724</td>\n",
       "      <td>-1408</td>\n",
       "      <td>-1360.838227</td>\n",
       "      <td>19242.405844</td>\n",
       "      <td>1.591071e+07</td>\n",
       "    </tr>\n",
       "    <tr>\n",
       "      <th>11</th>\n",
       "      <td>270377221503</td>\n",
       "      <td>3493</td>\n",
       "      <td>15800000.0</td>\n",
       "      <td>18681062.5</td>\n",
       "      <td>23955</td>\n",
       "      <td>903.029167</td>\n",
       "      <td>1.790443e+07</td>\n",
       "      <td>8946</td>\n",
       "      <td>-2472</td>\n",
       "      <td>-1906.295830</td>\n",
       "      <td>26195.989702</td>\n",
       "      <td>2.103328e+07</td>\n",
       "    </tr>\n",
       "    <tr>\n",
       "      <th>12</th>\n",
       "      <td>284574196725</td>\n",
       "      <td>4044</td>\n",
       "      <td>16985000.0</td>\n",
       "      <td>20150000.0</td>\n",
       "      <td>27000</td>\n",
       "      <td>1375.005000</td>\n",
       "      <td>1.843625e+07</td>\n",
       "      <td>9167</td>\n",
       "      <td>-1916</td>\n",
       "      <td>-2004.602851</td>\n",
       "      <td>27283.400872</td>\n",
       "      <td>2.168736e+07</td>\n",
       "    </tr>\n",
       "  </tbody>\n",
       "</table>\n",
       "</div>"
      ],
      "text/plain": [
       "              systemloanid  loannumber  loanamount    totaldue  termdays  \\\n",
       "creationdate                                                               \n",
       "8             188854172201        1503   7918000.0   9599950.0     15330   \n",
       "9             155685412989        1761   8175000.0   9695250.0     12780   \n",
       "10            191004701495        2416  11185000.0  13168937.5     15900   \n",
       "11            270377221503        3493  15800000.0  18681062.5     23955   \n",
       "12            284574196725        4044  16985000.0  20150000.0     27000   \n",
       "\n",
       "              loanapproval  avloanamount  num_loans  diff       avdiff  \\\n",
       "creationdate                                                             \n",
       "8               629.214722  1.294438e+07       6364 -1048 -1095.422776   \n",
       "9               531.495000  1.112608e+07       5424  -632 -1073.827704   \n",
       "10              806.584722  1.358474e+07       6724 -1408 -1360.838227   \n",
       "11              903.029167  1.790443e+07       8946 -2472 -1906.295830   \n",
       "12             1375.005000  1.843625e+07       9167 -1916 -2004.602851   \n",
       "\n",
       "                avtermdays    avtotaldue  \n",
       "creationdate                              \n",
       "8             18776.601653  1.520301e+07  \n",
       "9             15659.994910  1.302816e+07  \n",
       "10            19242.405844  1.591071e+07  \n",
       "11            26195.989702  2.103328e+07  \n",
       "12            27283.400872  2.168736e+07  "
      ]
     },
     "execution_count": 159,
     "metadata": {},
     "output_type": "execute_result"
    }
   ],
   "source": [
    "df.tail()"
   ]
  },
  {
   "cell_type": "code",
   "execution_count": 160,
   "metadata": {},
   "outputs": [
    {
     "ename": "TypeError",
     "evalue": "'str' object is not callable",
     "output_type": "error",
     "traceback": [
      "\u001b[0;31m---------------------------------------------------------------------------\u001b[0m",
      "\u001b[0;31mTypeError\u001b[0m                                 Traceback (most recent call last)",
      "\u001b[0;32m<ipython-input-160-1a705f47bb0d>\u001b[0m in \u001b[0;36m<module>\u001b[0;34m\u001b[0m\n\u001b[1;32m      2\u001b[0m \u001b[0;34m\u001b[0m\u001b[0m\n\u001b[1;32m      3\u001b[0m \u001b[0mplt\u001b[0m\u001b[0;34m.\u001b[0m\u001b[0mbar\u001b[0m\u001b[0;34m(\u001b[0m\u001b[0mdf\u001b[0m\u001b[0;34m.\u001b[0m\u001b[0mindex\u001b[0m\u001b[0;34m,\u001b[0m \u001b[0mdf\u001b[0m\u001b[0;34m.\u001b[0m\u001b[0mloanamount\u001b[0m\u001b[0;34m,\u001b[0m \u001b[0mcolor\u001b[0m\u001b[0;34m=\u001b[0m\u001b[0;34m'red'\u001b[0m\u001b[0;34m)\u001b[0m\u001b[0;34m\u001b[0m\u001b[0;34m\u001b[0m\u001b[0m\n\u001b[0;32m----> 4\u001b[0;31m \u001b[0mplt\u001b[0m\u001b[0;34m.\u001b[0m\u001b[0mtitle\u001b[0m\u001b[0;34m(\u001b[0m\u001b[0;34m\"Loan amounts given per month in millions \"\u001b[0m\u001b[0;34m,\u001b[0m \u001b[0mfontsize\u001b[0m\u001b[0;34m=\u001b[0m\u001b[0;36m20\u001b[0m\u001b[0;34m)\u001b[0m\u001b[0;34m\u001b[0m\u001b[0;34m\u001b[0m\u001b[0m\n\u001b[0m",
      "\u001b[0;31mTypeError\u001b[0m: 'str' object is not callable"
     ]
    },
    {
     "data": {
      "image/png": "[encoded data removed]",
      "text/plain": [
       "<Figure size 432x288 with 1 Axes>"
      ]
     },
     "metadata": {
      "needs_background": "light"
     },
     "output_type": "display_data"
    }
   ],
   "source": [
    "#visualization\n",
    "\n",
    "plt.bar(df.index, df.loanamount, color='red')\n",
    "plt.title(\"Loan amounts given per month in millions \", fontsize=20)"
   ]
  },
  {
   "cell_type": "code",
   "execution_count": 161,
   "metadata": {},
   "outputs": [
    {
     "ename": "TypeError",
     "evalue": "'str' object is not callable",
     "output_type": "error",
     "traceback": [
      "\u001b[0;31m---------------------------------------------------------------------------\u001b[0m",
      "\u001b[0;31mTypeError\u001b[0m                                 Traceback (most recent call last)",
      "\u001b[0;32m<ipython-input-161-adfc2f3f5984>\u001b[0m in \u001b[0;36m<module>\u001b[0;34m\u001b[0m\n\u001b[1;32m      1\u001b[0m \u001b[0mplt\u001b[0m\u001b[0;34m.\u001b[0m\u001b[0mbar\u001b[0m\u001b[0;34m(\u001b[0m\u001b[0mdf\u001b[0m\u001b[0;34m.\u001b[0m\u001b[0mindex\u001b[0m\u001b[0;34m,\u001b[0m \u001b[0mdf\u001b[0m\u001b[0;34m.\u001b[0m\u001b[0mnum_loans\u001b[0m\u001b[0;34m,\u001b[0m \u001b[0mcolor\u001b[0m\u001b[0;34m=\u001b[0m\u001b[0;34m'grey'\u001b[0m\u001b[0;34m)\u001b[0m\u001b[0;34m\u001b[0m\u001b[0;34m\u001b[0m\u001b[0m\n\u001b[0;32m----> 2\u001b[0;31m \u001b[0mplt\u001b[0m\u001b[0;34m.\u001b[0m\u001b[0mtitle\u001b[0m\u001b[0;34m(\u001b[0m\u001b[0;34m\"Number of loans per month\"\u001b[0m\u001b[0;34m,\u001b[0m \u001b[0mfontsize\u001b[0m\u001b[0;34m=\u001b[0m\u001b[0;36m20\u001b[0m\u001b[0;34m)\u001b[0m\u001b[0;34m\u001b[0m\u001b[0;34m\u001b[0m\u001b[0m\n\u001b[0m",
      "\u001b[0;31mTypeError\u001b[0m: 'str' object is not callable"
     ]
    },
    {
     "data": {
      "image/png": "[encoded data removed]",
      "text/plain": [
       "<Figure size 432x288 with 1 Axes>"
      ]
     },
     "metadata": {
      "needs_background": "light"
     },
     "output_type": "display_data"
    }
   ],
   "source": [
    "plt.bar(df.index, df.num_loans, color='grey')\n",
    "plt.title(\"Number of loans per month\", fontsize=20)"
   ]
  },
  {
   "cell_type": "code",
   "execution_count": 162,
   "metadata": {},
   "outputs": [
    {
     "ename": "TypeError",
     "evalue": "'str' object is not callable",
     "output_type": "error",
     "traceback": [
      "\u001b[0;31m---------------------------------------------------------------------------\u001b[0m",
      "\u001b[0;31mTypeError\u001b[0m                                 Traceback (most recent call last)",
      "\u001b[0;32m<ipython-input-162-3b63470aa1d9>\u001b[0m in \u001b[0;36m<module>\u001b[0;34m\u001b[0m\n\u001b[1;32m      1\u001b[0m \u001b[0mdf\u001b[0m\u001b[0;34m[\u001b[0m\u001b[0;34m'profit_by_bank'\u001b[0m\u001b[0;34m]\u001b[0m \u001b[0;34m=\u001b[0m\u001b[0;34m(\u001b[0m \u001b[0mdf\u001b[0m\u001b[0;34m.\u001b[0m\u001b[0mtotaldue\u001b[0m \u001b[0;34m-\u001b[0m\u001b[0mdf\u001b[0m\u001b[0;34m.\u001b[0m\u001b[0mloanamount\u001b[0m\u001b[0;34m)\u001b[0m\u001b[0;34m/\u001b[0m\u001b[0;36m1000000\u001b[0m\u001b[0;34m\u001b[0m\u001b[0;34m\u001b[0m\u001b[0m\n\u001b[1;32m      2\u001b[0m \u001b[0mplt\u001b[0m\u001b[0;34m.\u001b[0m\u001b[0mbar\u001b[0m\u001b[0;34m(\u001b[0m\u001b[0mdf\u001b[0m\u001b[0;34m.\u001b[0m\u001b[0mindex\u001b[0m\u001b[0;34m,\u001b[0m \u001b[0mdf\u001b[0m\u001b[0;34m.\u001b[0m\u001b[0mprofit_by_bank\u001b[0m\u001b[0;34m,\u001b[0m \u001b[0mcolor\u001b[0m\u001b[0;34m=\u001b[0m\u001b[0;34m'blue'\u001b[0m\u001b[0;34m)\u001b[0m\u001b[0;34m\u001b[0m\u001b[0;34m\u001b[0m\u001b[0m\n\u001b[0;32m----> 3\u001b[0;31m \u001b[0mplt\u001b[0m\u001b[0;34m.\u001b[0m\u001b[0mtitle\u001b[0m\u001b[0;34m(\u001b[0m\u001b[0;34m\"Profit earned from loans per month in millions\"\u001b[0m\u001b[0;34m,\u001b[0m \u001b[0mfontsize\u001b[0m\u001b[0;34m=\u001b[0m\u001b[0;36m20\u001b[0m\u001b[0;34m)\u001b[0m\u001b[0;34m\u001b[0m\u001b[0;34m\u001b[0m\u001b[0m\n\u001b[0m",
      "\u001b[0;31mTypeError\u001b[0m: 'str' object is not callable"
     ]
    },
    {
     "data": {
      "image/png": "[encoded data removed]",
      "text/plain": [
       "<Figure size 432x288 with 1 Axes>"
      ]
     },
     "metadata": {
      "needs_background": "light"
     },
     "output_type": "display_data"
    }
   ],
   "source": [
    "df['profit_by_bank'] =( df.totaldue -df.loanamount)/1000000\n",
    "plt.bar(df.index, df.profit_by_bank, color='blue')\n",
    "plt.title(\"Profit earned from loans per month in millions\", fontsize=20)"
   ]
  },
  {
   "cell_type": "code",
   "execution_count": 163,
   "metadata": {},
   "outputs": [
    {
     "data": {
      "text/html": [
       "<div>\n",
       "<style scoped>\n",
       "    .dataframe tbody tr th:only-of-type {\n",
       "        vertical-align: middle;\n",
       "    }\n",
       "\n",
       "    .dataframe tbody tr th {\n",
       "        vertical-align: top;\n",
       "    }\n",
       "\n",
       "    .dataframe thead th {\n",
       "        text-align: right;\n",
       "    }\n",
       "</style>\n",
       "<table border=\"1\" class=\"dataframe\">\n",
       "  <thead>\n",
       "    <tr style=\"text-align: right;\">\n",
       "      <th></th>\n",
       "      <th>customerid</th>\n",
       "      <th>systemloanid</th>\n",
       "      <th>loannumber</th>\n",
       "      <th>approveddate</th>\n",
       "      <th>creationdate</th>\n",
       "      <th>loanamount</th>\n",
       "      <th>totaldue</th>\n",
       "      <th>termdays</th>\n",
       "      <th>good_bad_flag</th>\n",
       "      <th>bank_account_type</th>\n",
       "      <th>...</th>\n",
       "      <th>latitude_gps</th>\n",
       "      <th>bank_name_clients</th>\n",
       "      <th>employment_status_clients</th>\n",
       "      <th>age</th>\n",
       "      <th>loanapproval</th>\n",
       "      <th>avloanamount</th>\n",
       "      <th>num_loans</th>\n",
       "      <th>avdiff</th>\n",
       "      <th>avtermdays</th>\n",
       "      <th>avtotaldue</th>\n",
       "    </tr>\n",
       "  </thead>\n",
       "  <tbody>\n",
       "    <tr>\n",
       "      <th>0</th>\n",
       "      <td>8a2a81a74ce8c05d014cfb32a0da1049</td>\n",
       "      <td>301994762.0</td>\n",
       "      <td>12.0</td>\n",
       "      <td>2017-07-25 08:22:56</td>\n",
       "      <td>2017-07-25 07:22:47</td>\n",
       "      <td>30000.0</td>\n",
       "      <td>34500.0</td>\n",
       "      <td>30.0</td>\n",
       "      <td>1.0</td>\n",
       "      <td>Other</td>\n",
       "      <td>...</td>\n",
       "      <td>6.433055</td>\n",
       "      <td>Diamond Bank</td>\n",
       "      <td>Permanent</td>\n",
       "      <td>36.0</td>\n",
       "      <td>1.002222</td>\n",
       "      <td>18181.818182</td>\n",
       "      <td>11</td>\n",
       "      <td>-0.909091</td>\n",
       "      <td>30.0</td>\n",
       "      <td>22081.818182</td>\n",
       "    </tr>\n",
       "    <tr>\n",
       "      <th>1</th>\n",
       "      <td>8a8588f35438fe12015444567666018e</td>\n",
       "      <td>301966580.0</td>\n",
       "      <td>7.0</td>\n",
       "      <td>2017-07-06 14:52:57</td>\n",
       "      <td>2017-07-06 13:52:51</td>\n",
       "      <td>20000.0</td>\n",
       "      <td>22250.0</td>\n",
       "      <td>15.0</td>\n",
       "      <td>1.0</td>\n",
       "      <td>Other</td>\n",
       "      <td>...</td>\n",
       "      <td>10.292041</td>\n",
       "      <td>EcoBank</td>\n",
       "      <td>Permanent</td>\n",
       "      <td>49.0</td>\n",
       "      <td>1.003611</td>\n",
       "      <td>10000.000000</td>\n",
       "      <td>6</td>\n",
       "      <td>0.833333</td>\n",
       "      <td>17.5</td>\n",
       "      <td>11750.000000</td>\n",
       "    </tr>\n",
       "    <tr>\n",
       "      <th>2</th>\n",
       "      <td>8a85890754145ace015429211b513e16</td>\n",
       "      <td>301999343.0</td>\n",
       "      <td>3.0</td>\n",
       "      <td>2017-07-27 19:00:41</td>\n",
       "      <td>2017-07-27 18:00:35</td>\n",
       "      <td>10000.0</td>\n",
       "      <td>11500.0</td>\n",
       "      <td>15.0</td>\n",
       "      <td>1.0</td>\n",
       "      <td>Savings</td>\n",
       "      <td>...</td>\n",
       "      <td>7.491708</td>\n",
       "      <td>First Bank</td>\n",
       "      <td>Permanent</td>\n",
       "      <td>35.0</td>\n",
       "      <td>1.001944</td>\n",
       "      <td>10000.000000</td>\n",
       "      <td>2</td>\n",
       "      <td>7.500000</td>\n",
       "      <td>22.5</td>\n",
       "      <td>12250.000000</td>\n",
       "    </tr>\n",
       "    <tr>\n",
       "      <th>3</th>\n",
       "      <td>8a858970548359cc0154883481981866</td>\n",
       "      <td>301962360.0</td>\n",
       "      <td>9.0</td>\n",
       "      <td>2017-07-03 23:42:45</td>\n",
       "      <td>2017-07-03 22:42:39</td>\n",
       "      <td>40000.0</td>\n",
       "      <td>44000.0</td>\n",
       "      <td>30.0</td>\n",
       "      <td>1.0</td>\n",
       "      <td>Other</td>\n",
       "      <td>...</td>\n",
       "      <td>9.076574</td>\n",
       "      <td>GT Bank</td>\n",
       "      <td>Permanent</td>\n",
       "      <td>44.0</td>\n",
       "      <td>1.001944</td>\n",
       "      <td>18750.000000</td>\n",
       "      <td>8</td>\n",
       "      <td>-3.125000</td>\n",
       "      <td>37.5</td>\n",
       "      <td>23550.000000</td>\n",
       "    </tr>\n",
       "    <tr>\n",
       "      <th>5</th>\n",
       "      <td>8a858e095c59b91b015c5e5cea3719bc</td>\n",
       "      <td>301972027.0</td>\n",
       "      <td>3.0</td>\n",
       "      <td>2017-07-10 19:25:33</td>\n",
       "      <td>2017-07-10 18:25:28</td>\n",
       "      <td>10000.0</td>\n",
       "      <td>13000.0</td>\n",
       "      <td>30.0</td>\n",
       "      <td>1.0</td>\n",
       "      <td>Savings</td>\n",
       "      <td>...</td>\n",
       "      <td>6.557011</td>\n",
       "      <td>GT Bank</td>\n",
       "      <td>Permanent</td>\n",
       "      <td>43.0</td>\n",
       "      <td>1.001944</td>\n",
       "      <td>10000.000000</td>\n",
       "      <td>2</td>\n",
       "      <td>-2.500000</td>\n",
       "      <td>22.5</td>\n",
       "      <td>12250.000000</td>\n",
       "    </tr>\n",
       "  </tbody>\n",
       "</table>\n",
       "<p>5 rows × 21 columns</p>\n",
       "</div>"
      ],
      "text/plain": [
       "                         customerid  systemloanid  loannumber  \\\n",
       "0  8a2a81a74ce8c05d014cfb32a0da1049   301994762.0        12.0   \n",
       "1  8a8588f35438fe12015444567666018e   301966580.0         7.0   \n",
       "2  8a85890754145ace015429211b513e16   301999343.0         3.0   \n",
       "3  8a858970548359cc0154883481981866   301962360.0         9.0   \n",
       "5  8a858e095c59b91b015c5e5cea3719bc   301972027.0         3.0   \n",
       "\n",
       "         approveddate        creationdate  loanamount  totaldue  termdays  \\\n",
       "0 2017-07-25 08:22:56 2017-07-25 07:22:47     30000.0   34500.0      30.0   \n",
       "1 2017-07-06 14:52:57 2017-07-06 13:52:51     20000.0   22250.0      15.0   \n",
       "2 2017-07-27 19:00:41 2017-07-27 18:00:35     10000.0   11500.0      15.0   \n",
       "3 2017-07-03 23:42:45 2017-07-03 22:42:39     40000.0   44000.0      30.0   \n",
       "5 2017-07-10 19:25:33 2017-07-10 18:25:28     10000.0   13000.0      30.0   \n",
       "\n",
       "   good_bad_flag bank_account_type  ...  latitude_gps  bank_name_clients  \\\n",
       "0            1.0             Other  ...      6.433055       Diamond Bank   \n",
       "1            1.0             Other  ...     10.292041            EcoBank   \n",
       "2            1.0           Savings  ...      7.491708         First Bank   \n",
       "3            1.0             Other  ...      9.076574            GT Bank   \n",
       "5            1.0           Savings  ...      6.557011            GT Bank   \n",
       "\n",
       "  employment_status_clients   age  loanapproval  avloanamount  num_loans  \\\n",
       "0                 Permanent  36.0      1.002222  18181.818182         11   \n",
       "1                 Permanent  49.0      1.003611  10000.000000          6   \n",
       "2                 Permanent  35.0      1.001944  10000.000000          2   \n",
       "3                 Permanent  44.0      1.001944  18750.000000          8   \n",
       "5                 Permanent  43.0      1.001944  10000.000000          2   \n",
       "\n",
       "     avdiff  avtermdays    avtotaldue  \n",
       "0 -0.909091        30.0  22081.818182  \n",
       "1  0.833333        17.5  11750.000000  \n",
       "2  7.500000        22.5  12250.000000  \n",
       "3 -3.125000        37.5  23550.000000  \n",
       "5 -2.500000        22.5  12250.000000  \n",
       "\n",
       "[5 rows x 21 columns]"
      ]
     },
     "execution_count": 163,
     "metadata": {},
     "output_type": "execute_result"
    }
   ],
   "source": [
    "complete_df.head()"
   ]
  },
  {
   "cell_type": "code",
   "execution_count": 164,
   "metadata": {},
   "outputs": [
    {
     "data": {
      "image/png": "[encoded data removed]",
      "text/plain": [
       "<Figure size 1440x720 with 1 Axes>"
      ]
     },
     "metadata": {
      "needs_background": "light"
     },
     "output_type": "display_data"
    }
   ],
   "source": [
    "plt.figure(figsize=(20,10))\n",
    "sns.countplot(complete_df['bank_name_clients'],hue='good_bad_flag', data=complete_df, palette=\"twilight_shifted_r\")\n",
    "plt.title='Churn per Services Offered'\n",
    "plt.xlabel('Online Services', fontsize=10)\n",
    "plt.ylabel('Customers', fontsize=10)\n",
    "plt.show()"
   ]
  },
  {
   "cell_type": "code",
   "execution_count": 165,
   "metadata": {},
   "outputs": [
    {
     "data": {
      "image/png": "[encoded data removed]",
      "text/plain": [
       "<Figure size 1440x720 with 1 Axes>"
      ]
     },
     "metadata": {
      "needs_background": "light"
     },
     "output_type": "display_data"
    }
   ],
   "source": [
    "plt.figure(figsize=(20,10))\n",
    "sns.countplot(complete_df['employment_status_clients'],hue='good_bad_flag', data=complete_df, palette=\"crest\")\n",
    "plt.title='Churn per Services Offered'\n",
    "plt.xlabel('Online Services', fontsize=10)\n",
    "plt.ylabel('Customers', fontsize=10)\n",
    "plt.show()"
   ]
  },
  {
   "cell_type": "code",
   "execution_count": 166,
   "metadata": {},
   "outputs": [
    {
     "data": {
      "image/png": "[encoded data removed]",
      "text/plain": [
       "<Figure size 1440x720 with 1 Axes>"
      ]
     },
     "metadata": {
      "needs_background": "light"
     },
     "output_type": "display_data"
    }
   ],
   "source": [
    "plt.figure(figsize=(20,10))\n",
    "sns.countplot(complete_df['bank_account_type'],hue='good_bad_flag', data=complete_df, palette=\"rainbow\")\n",
    "plt.title='Churn per Services Offered'\n",
    "plt.xlabel('Bank account type', fontsize=10)\n",
    "plt.ylabel('Customers', fontsize=10)\n",
    "plt.show()"
   ]
  },
  {
   "cell_type": "code",
   "execution_count": 167,
   "metadata": {},
   "outputs": [
    {
     "data": {
      "image/png": "[encoded data removed]",
      "text/plain": [
       "<Figure size 1080x576 with 1 Axes>"
      ]
     },
     "metadata": {
      "needs_background": "light"
     },
     "output_type": "display_data"
    }
   ],
   "source": [
    "plt.figure(figsize=(15,8))\n",
    "sns.countplot(demographics['age'], data=complete_df, palette=\"turbo_r\")\n",
    "plt.title='Churn per Services Offered'\n",
    "plt.xlabel('Age')\n",
    "plt.ylabel('Customers')\n",
    "plt.show()"
   ]
  },
  {
   "cell_type": "code",
   "execution_count": 168,
   "metadata": {},
   "outputs": [
    {
     "data": {
      "image/png": "[encoded data removed]",
      "text/plain": [
       "<Figure size 1080x1080 with 2 Axes>"
      ]
     },
     "metadata": {
      "needs_background": "light"
     },
     "output_type": "display_data"
    }
   ],
   "source": [
    "correlation_mat = complete_df.corr()\n",
    "greater_than= correlation_mat[correlation_mat > 0.5]\n",
    "plt.show()\n",
    "plt.figure(figsize=(15,15))\n",
    "sns.heatmap(greater_than,annot=True )\n",
    "plt.show()\n"
   ]
  },
  {
   "cell_type": "markdown",
   "metadata": {},
   "source": [
    "The amount of loans borrowed has a high correlation with the loan amount. This means people who borrow higher amounts of money tend to take more loans than the people who borrowed less amounts.  "
   ]
  },
  {
   "cell_type": "code",
   "execution_count": 169,
   "metadata": {},
   "outputs": [],
   "source": [
    "#Modelling"
   ]
  },
  {
   "cell_type": "code",
   "execution_count": 170,
   "metadata": {},
   "outputs": [
    {
     "data": {
      "text/plain": [
       "<AxesSubplot:xlabel='avtotaldue'>"
      ]
     },
     "execution_count": 170,
     "metadata": {},
     "output_type": "execute_result"
    },
    {
     "data": {
      "image/png": "[encoded data removed]",
      "text/plain": [
       "<Figure size 1440x1008 with 6 Axes>"
      ]
     },
     "metadata": {
      "needs_background": "light"
     },
     "output_type": "display_data"
    }
   ],
   "source": [
    "#visualize outliers\n",
    "\n",
    "fig, ((ax1, ax2, ax3), (ax4, ax5, ax6)) = plt.subplots(2,3, figsize=(20, 14))\n",
    "fig.suptitle('Boxplots')\n",
    "ax1.set_xlabel('xlabel',fontsize=14)\n",
    "ax2.set_xlabel('xlabel',fontsize=14)\n",
    "ax3.set_xlabel('xlabel',fontsize=14)\n",
    "ax4.set_xlabel('xlabel',fontsize=14)\n",
    "ax5.set_xlabel('xlabel',fontsize=14)\n",
    "ax6.set_xlabel('xlabel',fontsize=14)\n",
    "sns.boxplot(complete_df['loanapproval'], ax=ax1)\n",
    "sns.boxplot(complete_df['num_loans'], ax=ax2)\n",
    "sns.boxplot(complete_df['avloanamount'], ax=ax3)\n",
    "sns.boxplot(complete_df['avtermdays'], ax=ax4)\n",
    "sns.boxplot(complete_df['avdiff'], ax=ax5)\n",
    "sns.boxplot(complete_df['avtotaldue'], ax=ax6)"
   ]
  },
  {
   "cell_type": "code",
   "execution_count": 171,
   "metadata": {},
   "outputs": [
    {
     "data": {
      "text/plain": [
       "<AxesSubplot:xlabel='num_loans', ylabel='avloanamount'>"
      ]
     },
     "execution_count": 171,
     "metadata": {},
     "output_type": "execute_result"
    },
    {
     "data": {
      "image/png": "[encoded data removed]",
      "text/plain": [
       "<Figure size 4320x2160 with 1 Axes>"
      ]
     },
     "metadata": {
      "needs_background": "light"
     },
     "output_type": "display_data"
    }
   ],
   "source": [
    "plt.figure(figsize=(60,30))\n",
    "sns.barplot(x= 'num_loans', y ='avloanamount',data= complete_df, hue='good_bad_flag')"
   ]
  },
  {
   "cell_type": "markdown",
   "metadata": {},
   "source": [
    "People who borrow an average of 21 loans and above 35,000 tend to be the most defaulters."
   ]
  },
  {
   "cell_type": "code",
   "execution_count": 172,
   "metadata": {},
   "outputs": [],
   "source": [
    "#hypothesis testing\n",
    "hypothesis_df = complete_df"
   ]
  },
  {
   "cell_type": "code",
   "execution_count": 173,
   "metadata": {},
   "outputs": [
    {
     "data": {
      "text/plain": [
       "['31-45', '46-60', '18-30']\n",
       "Categories (3, object): ['18-30' < '31-45' < '46-60']"
      ]
     },
     "execution_count": 173,
     "metadata": {},
     "output_type": "execute_result"
    }
   ],
   "source": [
    "agebins = [18,30,45,60]\n",
    "labels=['18-30','31-45','46-60']\n",
    "hypothesis_df['agecategory'] = pd.cut(hypothesis_df['age'], bins=agebins, labels=labels, include_lowest=True)\n",
    "hypothesis_df['agecategory'].unique()\n"
   ]
  },
  {
   "cell_type": "code",
   "execution_count": 174,
   "metadata": {},
   "outputs": [],
   "source": [
    "random.seed(10)\n",
    "sample_df = hypothesis_df.sample(354)"
   ]
  },
  {
   "cell_type": "markdown",
   "metadata": {},
   "source": [
    "Test 1: Does the age of a customer influence their default behaviour on loans?\n",
    "\n",
    "H0 : Age of customer has no association with their loan default behaviour\n",
    "\n",
    "H1 : Age of a customer has an association with their loan default behaviour"
   ]
  },
  {
   "cell_type": "code",
   "execution_count": 175,
   "metadata": {},
   "outputs": [
    {
     "data": {
      "text/html": [
       "<div>\n",
       "<style scoped>\n",
       "    .dataframe tbody tr th:only-of-type {\n",
       "        vertical-align: middle;\n",
       "    }\n",
       "\n",
       "    .dataframe tbody tr th {\n",
       "        vertical-align: top;\n",
       "    }\n",
       "\n",
       "    .dataframe thead th {\n",
       "        text-align: right;\n",
       "    }\n",
       "</style>\n",
       "<table border=\"1\" class=\"dataframe\">\n",
       "  <thead>\n",
       "    <tr style=\"text-align: right;\">\n",
       "      <th>agecategory</th>\n",
       "      <th>18-30</th>\n",
       "      <th>31-45</th>\n",
       "      <th>46-60</th>\n",
       "    </tr>\n",
       "    <tr>\n",
       "      <th>good_bad_flag</th>\n",
       "      <th></th>\n",
       "      <th></th>\n",
       "      <th></th>\n",
       "    </tr>\n",
       "  </thead>\n",
       "  <tbody>\n",
       "    <tr>\n",
       "      <th>0.0</th>\n",
       "      <td>13</td>\n",
       "      <td>48</td>\n",
       "      <td>11</td>\n",
       "    </tr>\n",
       "    <tr>\n",
       "      <th>1.0</th>\n",
       "      <td>51</td>\n",
       "      <td>208</td>\n",
       "      <td>23</td>\n",
       "    </tr>\n",
       "  </tbody>\n",
       "</table>\n",
       "</div>"
      ],
      "text/plain": [
       "agecategory    18-30  31-45  46-60\n",
       "good_bad_flag                     \n",
       "0.0               13     48     11\n",
       "1.0               51    208     23"
      ]
     },
     "execution_count": 175,
     "metadata": {},
     "output_type": "execute_result"
    }
   ],
   "source": [
    "table_age = pd.crosstab(sample_df['good_bad_flag'], sample_df['agecategory'])\n",
    "table_age"
   ]
  },
  {
   "cell_type": "code",
   "execution_count": 176,
   "metadata": {},
   "outputs": [
    {
     "name": "stdout",
     "output_type": "stream",
     "text": [
      "Critical value: 5.991464547107979, test_statistic: 3.4278020051105558, alpha: 0.050000000000000044, p_value: 0.18016160910181794\n"
     ]
    }
   ],
   "source": [
    "# Perform a chi-square test with alpha 0.05\n",
    "from scipy.stats import chi2_contingency\n",
    "from scipy.stats import chi2\n",
    "\n",
    "stat, p, dof, expected = chi2_contingency(table_age.to_numpy())\n",
    "\n",
    "#Calculate critical value, set significance level to 0.05\n",
    "prob = 0.95\n",
    "critical_value = chi2.ppf(prob, dof)\n",
    "\n",
    "print(f'Critical value: {critical_value}, test_statistic: {stat}, alpha: {1-prob}, p_value: {p}')"
   ]
  },
  {
   "cell_type": "markdown",
   "metadata": {},
   "source": [
    "p value is greater than alpha thus lack of significant evidence, we fail to reject the null hypothesis with 95% confidence."
   ]
  },
  {
   "cell_type": "markdown",
   "metadata": {},
   "source": [
    "Test 2: Does the number of loans that a customer has taken influence their loan default behaviour?\n",
    "\n",
    "H0 = Average number of loans is equal for both good and bad loans\n",
    "\n",
    "H1 = Average number of loans != for good and bad loans"
   ]
  },
  {
   "cell_type": "code",
   "execution_count": 177,
   "metadata": {},
   "outputs": [
    {
     "name": "stdout",
     "output_type": "stream",
     "text": [
      "Z statistic: 1.8771564701559331, p_value: 0.060496651627517654, alpha: 0.05\n"
     ]
    }
   ],
   "source": [
    "# Perform a ztest with 95% confidence level\n",
    "from statsmodels.stats.weightstats import ztest\n",
    "\n",
    "stat, p = ztest(sample_df[sample_df['good_bad_flag'] == 1]['num_loans'], sample_df[sample_df['good_bad_flag'] == 0]['num_loans'])\n",
    "\n",
    "print(f'Z statistic: {stat}, p_value: {p}, alpha: 0.05')"
   ]
  },
  {
   "cell_type": "markdown",
   "metadata": {},
   "source": [
    "p value is less than alpha thus significant evidence to reject the null hypothesis with 95% confidence."
   ]
  },
  {
   "cell_type": "markdown",
   "metadata": {},
   "source": [
    "Test 3: Does the average time taken for a customer to pay back a loan influence their loan default behaviour?\n",
    "\n",
    "H0: Average number of days to pay back a loan is equal for both good and bad loans.\n",
    "\n",
    "H1: Average number of days to pay back a loan is not equal for both good and bad loans."
   ]
  },
  {
   "cell_type": "code",
   "execution_count": 178,
   "metadata": {},
   "outputs": [
    {
     "name": "stdout",
     "output_type": "stream",
     "text": [
      "Z statistic: -3.0217074531661687, p_value: 0.0025135333985356017, alpha: 0.05\n"
     ]
    }
   ],
   "source": [
    "# Perform a ztest with 95% confidence level\n",
    "from statsmodels.stats.weightstats import ztest\n",
    "\n",
    "stat, p = ztest(sample_df[sample_df['good_bad_flag'] == 1]['avdiff'], sample_df[sample_df['good_bad_flag'] == 0]['avdiff'])\n",
    "\n",
    "print(f'Z statistic: {stat}, p_value: {p}, alpha: 0.05')"
   ]
  },
  {
   "cell_type": "markdown",
   "metadata": {},
   "source": [
    "p value is greater than alpha thus lack of significant evidence, we fail to reject the null hypothesis with 95% confidence."
   ]
  },
  {
   "cell_type": "markdown",
   "metadata": {},
   "source": [
    "Test 4: Does the average time taken for a customer's loan to get approved influence their loan default behaviour?\n",
    "\n",
    "H0: Average time to get a loan approved is equal for both good and bad loans.\n",
    "\n",
    "H1: Average time to get a loan approved is not equal for both good and bad loans."
   ]
  },
  {
   "cell_type": "code",
   "execution_count": 179,
   "metadata": {},
   "outputs": [
    {
     "name": "stdout",
     "output_type": "stream",
     "text": [
      "Z statistic: 0.07192223988803821, p_value: 0.9426637910099347, alpha: 0.05\n"
     ]
    }
   ],
   "source": [
    "# Perform a ztest with 95% confidence level\n",
    "from statsmodels.stats.weightstats import ztest\n",
    "\n",
    "stat, p = ztest(sample_df[sample_df['good_bad_flag'] == 1]['loanapproval'], sample_df[sample_df['good_bad_flag'] == 0]['loanapproval'])\n",
    "\n",
    "print(f'Z statistic: {stat}, p_value: {p}, alpha: 0.05')"
   ]
  },
  {
   "cell_type": "markdown",
   "metadata": {},
   "source": [
    "p value is greater than alpha thus lack of significant evidence, we fail to reject the null hypothesis with 95% confidence"
   ]
  },
  {
   "cell_type": "markdown",
   "metadata": {},
   "source": [
    "Test 5: Does the bank that a customer gets a loan from influence their loan default behaviour?\n",
    "\n",
    "H0: There is no association between the bank name and the good_bad_flag variables\n",
    "\n",
    "H1: There is an association between the bank name and the good_bad_flag variables"
   ]
  },
  {
   "cell_type": "code",
   "execution_count": 180,
   "metadata": {},
   "outputs": [
    {
     "name": "stdout",
     "output_type": "stream",
     "text": [
      "Critical value: 5.991464547107979, test_statistic: 0.07192223988803821, alpha: 0.050000000000000044, p_value: 0.9426637910099347\n"
     ]
    }
   ],
   "source": [
    "# Perform a chi-square test with alpha 0.05\n",
    "\n",
    "prob = 0.95\n",
    "critical_value = chi2.ppf(prob, dof)\n",
    "\n",
    "print(f'Critical value: {critical_value}, test_statistic: {stat}, alpha: {1-prob}, p_value: {p}')"
   ]
  },
  {
   "cell_type": "markdown",
   "metadata": {},
   "source": [
    "p value is greater than alpha thus lack of significant evidence, we fail to reject the null hypothesis with 95% confidence"
   ]
  },
  {
   "cell_type": "markdown",
   "metadata": {},
   "source": [
    "Test 6: Does the bank account type that a customer has influence their loan default behaviour?\n",
    "\n",
    "H0: There is no association between the bank account type and the good_bad_flag variables\n",
    "\n",
    "H1: There is an association between the bank account type and the good_bad_flag variables"
   ]
  },
  {
   "cell_type": "code",
   "execution_count": 181,
   "metadata": {},
   "outputs": [
    {
     "data": {
      "text/html": [
       "<div>\n",
       "<style scoped>\n",
       "    .dataframe tbody tr th:only-of-type {\n",
       "        vertical-align: middle;\n",
       "    }\n",
       "\n",
       "    .dataframe tbody tr th {\n",
       "        vertical-align: top;\n",
       "    }\n",
       "\n",
       "    .dataframe thead th {\n",
       "        text-align: right;\n",
       "    }\n",
       "</style>\n",
       "<table border=\"1\" class=\"dataframe\">\n",
       "  <thead>\n",
       "    <tr style=\"text-align: right;\">\n",
       "      <th>bank_account_type</th>\n",
       "      <th>Current</th>\n",
       "      <th>Other</th>\n",
       "      <th>Savings</th>\n",
       "    </tr>\n",
       "    <tr>\n",
       "      <th>good_bad_flag</th>\n",
       "      <th></th>\n",
       "      <th></th>\n",
       "      <th></th>\n",
       "    </tr>\n",
       "  </thead>\n",
       "  <tbody>\n",
       "    <tr>\n",
       "      <th>0.0</th>\n",
       "      <td>2</td>\n",
       "      <td>9</td>\n",
       "      <td>61</td>\n",
       "    </tr>\n",
       "    <tr>\n",
       "      <th>1.0</th>\n",
       "      <td>4</td>\n",
       "      <td>64</td>\n",
       "      <td>214</td>\n",
       "    </tr>\n",
       "  </tbody>\n",
       "</table>\n",
       "</div>"
      ],
      "text/plain": [
       "bank_account_type  Current  Other  Savings\n",
       "good_bad_flag                             \n",
       "0.0                      2      9       61\n",
       "1.0                      4     64      214"
      ]
     },
     "execution_count": 181,
     "metadata": {},
     "output_type": "execute_result"
    }
   ],
   "source": [
    "table_account = pd.crosstab(sample_df['good_bad_flag'], sample_df['bank_account_type'])\n",
    "table_account"
   ]
  },
  {
   "cell_type": "code",
   "execution_count": 182,
   "metadata": {},
   "outputs": [
    {
     "name": "stdout",
     "output_type": "stream",
     "text": [
      "Critical value: 5.991464547107979, test_statistic: 4.092625291092211, alpha: 0.050000000000000044, p_value: 0.1292104710620015\n"
     ]
    }
   ],
   "source": [
    "stat, p, dof, expected = chi2_contingency(table_account.to_numpy())\n",
    "\n",
    "#Calculate critical value, set significance level to 0.05\n",
    "prob = 0.95\n",
    "critical_value = chi2.ppf(prob, dof)\n",
    "\n",
    "print(f'Critical value: {critical_value}, test_statistic: {stat}, alpha: {1-prob}, p_value: {p}')"
   ]
  },
  {
   "cell_type": "markdown",
   "metadata": {},
   "source": [
    "p value is greater than the alpha thus lack of significant evidence, we fail to reject the null hypothesis with 95% confidence."
   ]
  },
  {
   "cell_type": "markdown",
   "metadata": {},
   "source": [
    "Test 7: Does the employment status of a customer influence their loan default behaviour?\n",
    "\n",
    "H0: There is no association between the employment status and the good_bad_flag variables\n",
    "\n",
    "H1: There is an association between the employment status and the good_bad_flag variables"
   ]
  },
  {
   "cell_type": "code",
   "execution_count": 183,
   "metadata": {},
   "outputs": [
    {
     "data": {
      "text/html": [
       "<div>\n",
       "<style scoped>\n",
       "    .dataframe tbody tr th:only-of-type {\n",
       "        vertical-align: middle;\n",
       "    }\n",
       "\n",
       "    .dataframe tbody tr th {\n",
       "        vertical-align: top;\n",
       "    }\n",
       "\n",
       "    .dataframe thead th {\n",
       "        text-align: right;\n",
       "    }\n",
       "</style>\n",
       "<table border=\"1\" class=\"dataframe\">\n",
       "  <thead>\n",
       "    <tr style=\"text-align: right;\">\n",
       "      <th>employment_status_clients</th>\n",
       "      <th>Permanent</th>\n",
       "      <th>Self-Employed</th>\n",
       "      <th>Student</th>\n",
       "      <th>Unemployed</th>\n",
       "      <th>unknown</th>\n",
       "    </tr>\n",
       "    <tr>\n",
       "      <th>good_bad_flag</th>\n",
       "      <th></th>\n",
       "      <th></th>\n",
       "      <th></th>\n",
       "      <th></th>\n",
       "      <th></th>\n",
       "    </tr>\n",
       "  </thead>\n",
       "  <tbody>\n",
       "    <tr>\n",
       "      <th>0.0</th>\n",
       "      <td>50</td>\n",
       "      <td>3</td>\n",
       "      <td>3</td>\n",
       "      <td>0</td>\n",
       "      <td>16</td>\n",
       "    </tr>\n",
       "    <tr>\n",
       "      <th>1.0</th>\n",
       "      <td>202</td>\n",
       "      <td>26</td>\n",
       "      <td>9</td>\n",
       "      <td>2</td>\n",
       "      <td>43</td>\n",
       "    </tr>\n",
       "  </tbody>\n",
       "</table>\n",
       "</div>"
      ],
      "text/plain": [
       "employment_status_clients  Permanent  Self-Employed  Student  Unemployed  \\\n",
       "good_bad_flag                                                              \n",
       "0.0                               50              3        3           0   \n",
       "1.0                              202             26        9           2   \n",
       "\n",
       "employment_status_clients  unknown  \n",
       "good_bad_flag                       \n",
       "0.0                             16  \n",
       "1.0                             43  "
      ]
     },
     "execution_count": 183,
     "metadata": {},
     "output_type": "execute_result"
    }
   ],
   "source": [
    "table_employment = pd.crosstab(sample_df['good_bad_flag'], sample_df['employment_status_clients'])\n",
    "table_employment"
   ]
  },
  {
   "cell_type": "code",
   "execution_count": 184,
   "metadata": {},
   "outputs": [
    {
     "name": "stdout",
     "output_type": "stream",
     "text": [
      "Critical value: 9.487729036781154, test_statistic: 4.171614368010185, alpha: 0.050000000000000044, p_value: 0.38327830341919883\n"
     ]
    }
   ],
   "source": [
    "stat, p, dof, expected = chi2_contingency(table_employment.to_numpy())\n",
    "\n",
    "#Calculate critical value, set significance level to 0.05\n",
    "prob = 0.95\n",
    "critical_value = chi2.ppf(prob, dof)\n",
    "\n",
    "print(f'Critical value: {critical_value}, test_statistic: {stat}, alpha: {1-prob}, p_value: {p}')"
   ]
  },
  {
   "cell_type": "markdown",
   "metadata": {},
   "source": [
    "p-value is greater than alpha thus lack of significant evidence, we fail to reject the null hypothesis with 95% confidence."
   ]
  },
  {
   "cell_type": "code",
   "execution_count": 185,
   "metadata": {},
   "outputs": [
    {
     "data": {
      "text/html": [
       "<div>\n",
       "<style scoped>\n",
       "    .dataframe tbody tr th:only-of-type {\n",
       "        vertical-align: middle;\n",
       "    }\n",
       "\n",
       "    .dataframe tbody tr th {\n",
       "        vertical-align: top;\n",
       "    }\n",
       "\n",
       "    .dataframe thead th {\n",
       "        text-align: right;\n",
       "    }\n",
       "</style>\n",
       "<table border=\"1\" class=\"dataframe\">\n",
       "  <thead>\n",
       "    <tr style=\"text-align: right;\">\n",
       "      <th></th>\n",
       "      <th>customerid</th>\n",
       "      <th>systemloanid</th>\n",
       "      <th>loannumber</th>\n",
       "      <th>approveddate</th>\n",
       "      <th>creationdate</th>\n",
       "      <th>loanamount</th>\n",
       "      <th>totaldue</th>\n",
       "      <th>termdays</th>\n",
       "      <th>good_bad_flag</th>\n",
       "      <th>bank_account_type</th>\n",
       "      <th>...</th>\n",
       "      <th>bank_name_clients</th>\n",
       "      <th>employment_status_clients</th>\n",
       "      <th>age</th>\n",
       "      <th>loanapproval</th>\n",
       "      <th>avloanamount</th>\n",
       "      <th>num_loans</th>\n",
       "      <th>avdiff</th>\n",
       "      <th>avtermdays</th>\n",
       "      <th>avtotaldue</th>\n",
       "      <th>agecategory</th>\n",
       "    </tr>\n",
       "  </thead>\n",
       "  <tbody>\n",
       "    <tr>\n",
       "      <th>0</th>\n",
       "      <td>8a2a81a74ce8c05d014cfb32a0da1049</td>\n",
       "      <td>301994762.0</td>\n",
       "      <td>12.0</td>\n",
       "      <td>2017-07-25 08:22:56</td>\n",
       "      <td>2017-07-25 07:22:47</td>\n",
       "      <td>30000.0</td>\n",
       "      <td>34500.0</td>\n",
       "      <td>30.0</td>\n",
       "      <td>1.0</td>\n",
       "      <td>Other</td>\n",
       "      <td>...</td>\n",
       "      <td>Diamond Bank</td>\n",
       "      <td>Permanent</td>\n",
       "      <td>36.0</td>\n",
       "      <td>1.002222</td>\n",
       "      <td>18181.818182</td>\n",
       "      <td>11</td>\n",
       "      <td>-0.909091</td>\n",
       "      <td>30.0</td>\n",
       "      <td>22081.818182</td>\n",
       "      <td>31-45</td>\n",
       "    </tr>\n",
       "    <tr>\n",
       "      <th>1</th>\n",
       "      <td>8a8588f35438fe12015444567666018e</td>\n",
       "      <td>301966580.0</td>\n",
       "      <td>7.0</td>\n",
       "      <td>2017-07-06 14:52:57</td>\n",
       "      <td>2017-07-06 13:52:51</td>\n",
       "      <td>20000.0</td>\n",
       "      <td>22250.0</td>\n",
       "      <td>15.0</td>\n",
       "      <td>1.0</td>\n",
       "      <td>Other</td>\n",
       "      <td>...</td>\n",
       "      <td>EcoBank</td>\n",
       "      <td>Permanent</td>\n",
       "      <td>49.0</td>\n",
       "      <td>1.003611</td>\n",
       "      <td>10000.000000</td>\n",
       "      <td>6</td>\n",
       "      <td>0.833333</td>\n",
       "      <td>17.5</td>\n",
       "      <td>11750.000000</td>\n",
       "      <td>46-60</td>\n",
       "    </tr>\n",
       "    <tr>\n",
       "      <th>2</th>\n",
       "      <td>8a85890754145ace015429211b513e16</td>\n",
       "      <td>301999343.0</td>\n",
       "      <td>3.0</td>\n",
       "      <td>2017-07-27 19:00:41</td>\n",
       "      <td>2017-07-27 18:00:35</td>\n",
       "      <td>10000.0</td>\n",
       "      <td>11500.0</td>\n",
       "      <td>15.0</td>\n",
       "      <td>1.0</td>\n",
       "      <td>Savings</td>\n",
       "      <td>...</td>\n",
       "      <td>First Bank</td>\n",
       "      <td>Permanent</td>\n",
       "      <td>35.0</td>\n",
       "      <td>1.001944</td>\n",
       "      <td>10000.000000</td>\n",
       "      <td>2</td>\n",
       "      <td>7.500000</td>\n",
       "      <td>22.5</td>\n",
       "      <td>12250.000000</td>\n",
       "      <td>31-45</td>\n",
       "    </tr>\n",
       "    <tr>\n",
       "      <th>3</th>\n",
       "      <td>8a858970548359cc0154883481981866</td>\n",
       "      <td>301962360.0</td>\n",
       "      <td>9.0</td>\n",
       "      <td>2017-07-03 23:42:45</td>\n",
       "      <td>2017-07-03 22:42:39</td>\n",
       "      <td>40000.0</td>\n",
       "      <td>44000.0</td>\n",
       "      <td>30.0</td>\n",
       "      <td>1.0</td>\n",
       "      <td>Other</td>\n",
       "      <td>...</td>\n",
       "      <td>GT Bank</td>\n",
       "      <td>Permanent</td>\n",
       "      <td>44.0</td>\n",
       "      <td>1.001944</td>\n",
       "      <td>18750.000000</td>\n",
       "      <td>8</td>\n",
       "      <td>-3.125000</td>\n",
       "      <td>37.5</td>\n",
       "      <td>23550.000000</td>\n",
       "      <td>31-45</td>\n",
       "    </tr>\n",
       "    <tr>\n",
       "      <th>5</th>\n",
       "      <td>8a858e095c59b91b015c5e5cea3719bc</td>\n",
       "      <td>301972027.0</td>\n",
       "      <td>3.0</td>\n",
       "      <td>2017-07-10 19:25:33</td>\n",
       "      <td>2017-07-10 18:25:28</td>\n",
       "      <td>10000.0</td>\n",
       "      <td>13000.0</td>\n",
       "      <td>30.0</td>\n",
       "      <td>1.0</td>\n",
       "      <td>Savings</td>\n",
       "      <td>...</td>\n",
       "      <td>GT Bank</td>\n",
       "      <td>Permanent</td>\n",
       "      <td>43.0</td>\n",
       "      <td>1.001944</td>\n",
       "      <td>10000.000000</td>\n",
       "      <td>2</td>\n",
       "      <td>-2.500000</td>\n",
       "      <td>22.5</td>\n",
       "      <td>12250.000000</td>\n",
       "      <td>31-45</td>\n",
       "    </tr>\n",
       "  </tbody>\n",
       "</table>\n",
       "<p>5 rows × 22 columns</p>\n",
       "</div>"
      ],
      "text/plain": [
       "                         customerid  systemloanid  loannumber  \\\n",
       "0  8a2a81a74ce8c05d014cfb32a0da1049   301994762.0        12.0   \n",
       "1  8a8588f35438fe12015444567666018e   301966580.0         7.0   \n",
       "2  8a85890754145ace015429211b513e16   301999343.0         3.0   \n",
       "3  8a858970548359cc0154883481981866   301962360.0         9.0   \n",
       "5  8a858e095c59b91b015c5e5cea3719bc   301972027.0         3.0   \n",
       "\n",
       "         approveddate        creationdate  loanamount  totaldue  termdays  \\\n",
       "0 2017-07-25 08:22:56 2017-07-25 07:22:47     30000.0   34500.0      30.0   \n",
       "1 2017-07-06 14:52:57 2017-07-06 13:52:51     20000.0   22250.0      15.0   \n",
       "2 2017-07-27 19:00:41 2017-07-27 18:00:35     10000.0   11500.0      15.0   \n",
       "3 2017-07-03 23:42:45 2017-07-03 22:42:39     40000.0   44000.0      30.0   \n",
       "5 2017-07-10 19:25:33 2017-07-10 18:25:28     10000.0   13000.0      30.0   \n",
       "\n",
       "   good_bad_flag bank_account_type  ...  bank_name_clients  \\\n",
       "0            1.0             Other  ...       Diamond Bank   \n",
       "1            1.0             Other  ...            EcoBank   \n",
       "2            1.0           Savings  ...         First Bank   \n",
       "3            1.0             Other  ...            GT Bank   \n",
       "5            1.0           Savings  ...            GT Bank   \n",
       "\n",
       "   employment_status_clients   age loanapproval  avloanamount  num_loans  \\\n",
       "0                  Permanent  36.0     1.002222  18181.818182         11   \n",
       "1                  Permanent  49.0     1.003611  10000.000000          6   \n",
       "2                  Permanent  35.0     1.001944  10000.000000          2   \n",
       "3                  Permanent  44.0     1.001944  18750.000000          8   \n",
       "5                  Permanent  43.0     1.001944  10000.000000          2   \n",
       "\n",
       "     avdiff  avtermdays    avtotaldue  agecategory  \n",
       "0 -0.909091        30.0  22081.818182        31-45  \n",
       "1  0.833333        17.5  11750.000000        46-60  \n",
       "2  7.500000        22.5  12250.000000        31-45  \n",
       "3 -3.125000        37.5  23550.000000        31-45  \n",
       "5 -2.500000        22.5  12250.000000        31-45  \n",
       "\n",
       "[5 rows x 22 columns]"
      ]
     },
     "execution_count": 185,
     "metadata": {},
     "output_type": "execute_result"
    }
   ],
   "source": [
    "#modelling\n",
    "complete_df.head()"
   ]
  },
  {
   "cell_type": "code",
   "execution_count": 186,
   "metadata": {},
   "outputs": [
    {
     "data": {
      "text/plain": [
       "(3272, 22)"
      ]
     },
     "execution_count": 186,
     "metadata": {},
     "output_type": "execute_result"
    }
   ],
   "source": [
    "complete_df.shape"
   ]
  },
  {
   "cell_type": "code",
   "execution_count": 187,
   "metadata": {},
   "outputs": [],
   "source": [
    "from sklearn.model_selection import train_test_split as tts\n",
    "final_df= complete_df\n",
    "\n",
    "X = final_df.loc[:, final_df.columns != 'good_bad_flag']\n",
    "Y = final_df['good_bad_flag'].astype(np.int64)\n",
    "\n",
    "num_var = final_df.select_dtypes(include=['float64']).columns\n",
    "num_data = final_df[num_var]\n",
    "\n",
    "obj_var = final_df.select_dtypes(include=['object']).columns\n",
    "obj_data = final_df[obj_var]"
   ]
  },
  {
   "cell_type": "code",
   "execution_count": 188,
   "metadata": {},
   "outputs": [],
   "source": [
    "# Scale numerical features\n",
    "from sklearn.preprocessing import StandardScaler\n",
    "scaler = StandardScaler().fit(num_data)\n",
    "num_data = scaler.transform(num_data)"
   ]
  },
  {
   "cell_type": "code",
   "execution_count": 189,
   "metadata": {},
   "outputs": [],
   "source": [
    "# Encode categorical features\n",
    "obj_data = pd.get_dummies(obj_data)\n",
    "\n",
    "#Concatenate scaled and encoded features\n",
    "X = np.concatenate((num_data, obj_data.to_numpy(dtype=np.float64)), axis=1)\n",
    "\n",
    "x_train, x_test, y_train, y_test= tts(X, Y, test_size = 0.3, random_state=1)"
   ]
  },
  {
   "cell_type": "code",
   "execution_count": 190,
   "metadata": {},
   "outputs": [
    {
     "name": "stdout",
     "output_type": "stream",
     "text": [
      "(2290, 3306) (982, 3306)\n"
     ]
    }
   ],
   "source": [
    "print(x_train.shape, x_test.shape)"
   ]
  },
  {
   "cell_type": "code",
   "execution_count": 191,
   "metadata": {},
   "outputs": [],
   "source": [
    "from sklearn.neighbors import KNeighborsClassifier\n",
    "from sklearn.svm import SVC\n",
    "from sklearn.tree import DecisionTreeClassifier\n",
    "from sklearn.ensemble import RandomForestClassifier"
   ]
  },
  {
   "cell_type": "code",
   "execution_count": 192,
   "metadata": {},
   "outputs": [],
   "source": [
    "classifiers = {\n",
    "    \"KNeighbors\" : KNeighborsClassifier(),\n",
    "    \"SVC\" : SVC(),\n",
    "    \"DecisionTree\" : DecisionTreeClassifier(),\n",
    "    \"RandomForest\" : RandomForestClassifier(),    \n",
    "}"
   ]
  },
  {
   "cell_type": "code",
   "execution_count": 193,
   "metadata": {},
   "outputs": [
    {
     "name": "stdout",
     "output_type": "stream",
     "text": [
      "[1.0, 1.0, 1.0, 1.0]\n",
      "[1.0, 1.0, 1.0, 1.0]\n"
     ]
    }
   ],
   "source": [
    "train_scores = []\n",
    "test_scores = []\n",
    "\n",
    "for key, classifier in classifiers.items():\n",
    "    classifier.fit(x_train, y_train)\n",
    "    train_score = round(classifier.score(x_train, y_train),2)\n",
    "    train_scores.append(train_score)\n",
    "    test_score = round(classifier.score(x_test, y_test),2)\n",
    "    test_scores.append(test_score)\n",
    "\n",
    "print(train_scores)\n",
    "print(test_scores)"
   ]
  },
  {
   "cell_type": "code",
   "execution_count": 194,
   "metadata": {},
   "outputs": [
    {
     "name": "stdout",
     "output_type": "stream",
     "text": [
      "[0.99, 1.0, 1.0, 1.0]\n",
      "[1.0, 0.99, 1.0, 0.97]\n"
     ]
    }
   ],
   "source": [
    "from sklearn.model_selection import cross_val_score\n",
    "\n",
    "train_cross_scores = []\n",
    "test_cross_scores = []\n",
    "\n",
    "for key, classifier in classifiers.items():\n",
    "    classifier.fit(x_train, y_train)\n",
    "    train_score = cross_val_score(classifier, x_train, y_train, cv=5)\n",
    "    train_cross_scores.append(round(train_score.mean(),2))\n",
    "    test_score = cross_val_score(classifier, x_test, y_test, cv=5)\n",
    "    test_cross_scores.append(round(test_score.mean(),2))\n",
    "    \n",
    "print(train_cross_scores)\n",
    "print(test_cross_scores)"
   ]
  },
  {
   "cell_type": "code",
   "execution_count": 195,
   "metadata": {},
   "outputs": [],
   "source": [
    "# Perform stratified sampling in the train test split\n",
    "\n",
    "x1_train, x1_test, y1_train, y1_test = tts(X, Y, test_size = 0.3, random_state=1, stratify=Y)"
   ]
  },
  {
   "cell_type": "code",
   "execution_count": 196,
   "metadata": {},
   "outputs": [],
   "source": [
    "# Load and fit better performing models\n",
    "\n",
    "support_vector = SVC(probability=True).fit(x1_train, y1_train)\n",
    "random_forest = RandomForestClassifier().fit(x1_train,y1_train)\n",
    "\n",
    "y_pred_svc = support_vector.predict(x1_test)\n",
    "y_pred_forest = random_forest.predict(x1_test)\n"
   ]
  },
  {
   "cell_type": "code",
   "execution_count": 197,
   "metadata": {},
   "outputs": [
    {
     "name": "stdout",
     "output_type": "stream",
     "text": [
      " Support Vector Machine accuracy: 0.9928716904276986\n",
      " Random Forest accuracy: 0.9989816700610998\n"
     ]
    }
   ],
   "source": [
    "# Evaluate models\n",
    "from sklearn.metrics import roc_auc_score\n",
    "import sklearn.metrics as metrics\n",
    "\n",
    "print(\" Support Vector Machine accuracy:\",metrics.accuracy_score(y1_test, y_pred_svc))\n",
    "print(\" Random Forest accuracy:\",metrics.accuracy_score(y1_test, y_pred_forest))"
   ]
  },
  {
   "cell_type": "code",
   "execution_count": 198,
   "metadata": {},
   "outputs": [],
   "source": [
    "#get roc_auc_score for all\n",
    "\n",
    "y_prob_svc = support_vector.predict_proba(x1_test)\n",
    "y_prob_forest = random_forest.predict_proba(x1_test)\n"
   ]
  },
  {
   "cell_type": "code",
   "execution_count": 199,
   "metadata": {},
   "outputs": [
    {
     "name": "stdout",
     "output_type": "stream",
     "text": [
      "Support Vector Classifier: \n",
      "Good Loans:  0.9998600564641744\n",
      "Bad Loans:  0.00013994353582554497\n"
     ]
    }
   ],
   "source": [
    "#how svc predicts\n",
    "good_probs_svc = y_prob_svc[:, 1]\n",
    "bad_probs_svc = y_prob_svc[:, 0]\n",
    "# Prediction probabilties\n",
    "print('Support Vector Classifier: ')\n",
    "print(\"Good Loans: \", roc_auc_score(y1_test, good_probs_svc))\n",
    "print(\"Bad Loans: \", roc_auc_score(y1_test, bad_probs_svc))"
   ]
  },
  {
   "cell_type": "code",
   "execution_count": 200,
   "metadata": {},
   "outputs": [
    {
     "name": "stdout",
     "output_type": "stream",
     "text": [
      "Random Forest Classifier: \n",
      "Good Loans:  1.0\n",
      "Bad Loans:  0.0\n"
     ]
    }
   ],
   "source": [
    "#how random forest predicts\n",
    "good_probs_forest = y_prob_forest[:, 1]\n",
    "bad_probs_forest = y_prob_forest[:, 0]\n",
    "# Prediction probabilties\n",
    "print('Random Forest Classifier: ')\n",
    "print(\"Good Loans: \", roc_auc_score(y1_test, good_probs_forest))\n",
    "print(\"Bad Loans: \", roc_auc_score(y1_test, bad_probs_forest))"
   ]
  },
  {
   "cell_type": "code",
   "execution_count": 201,
   "metadata": {},
   "outputs": [],
   "source": [
    "#upsampling"
   ]
  },
  {
   "cell_type": "code",
   "execution_count": 202,
   "metadata": {},
   "outputs": [],
   "source": [
    "from sklearn.utils import resample\n",
    "\n",
    "df_good = final_df[final_df['good_bad_flag'] == 1]\n",
    "df_bad = final_df[final_df['good_bad_flag'] == 0]"
   ]
  },
  {
   "cell_type": "code",
   "execution_count": 203,
   "metadata": {},
   "outputs": [
    {
     "data": {
      "text/plain": [
       "1.0    2560\n",
       "Name: good_bad_flag, dtype: int64"
      ]
     },
     "execution_count": 203,
     "metadata": {},
     "output_type": "execute_result"
    }
   ],
   "source": [
    "# Check number of good loans\n",
    "df_good.good_bad_flag.value_counts()"
   ]
  },
  {
   "cell_type": "code",
   "execution_count": 204,
   "metadata": {},
   "outputs": [],
   "source": [
    "# Upsample minority class\n",
    "df_bad_upsampled = resample(df_bad, \n",
    "                                 replace=True,     # sample with replacement\n",
    "                                 n_samples=3416,    # to match majority class\n",
    "                                 random_state=24) # reproducible results"
   ]
  },
  {
   "cell_type": "code",
   "execution_count": 205,
   "metadata": {},
   "outputs": [
    {
     "data": {
      "text/plain": [
       "0.0    3416\n",
       "1.0    2560\n",
       "Name: good_bad_flag, dtype: int64"
      ]
     },
     "execution_count": 205,
     "metadata": {},
     "output_type": "execute_result"
    }
   ],
   "source": [
    "# Combine majority class with upsampled minority class\n",
    "train_data_upsampled = pd.concat([df_good, df_bad_upsampled])\n",
    " \n",
    "# Display new class counts\n",
    "train_data_upsampled.good_bad_flag.value_counts()"
   ]
  },
  {
   "cell_type": "code",
   "execution_count": 206,
   "metadata": {},
   "outputs": [],
   "source": [
    "X1 = train_data_upsampled.loc[:, train_data_upsampled.columns != 'good_bad_flag']\n",
    "Y1 = train_data_upsampled['good_bad_flag'].astype(np.int64)\n",
    "\n",
    "num_var1 = X1.select_dtypes(include=['float64']).columns\n",
    "num_data1 = X1[num_var1]\n",
    "\n",
    "column_names = num_data1.columns.to_list()\n",
    "obj_var1 = X1.select_dtypes(include=['object']).columns\n",
    "obj_data1 = X1[obj_var1]\n",
    "\n",
    "# Scale numerical features\n",
    "from sklearn.preprocessing import StandardScaler\n",
    "scaler = StandardScaler().fit(num_data1)\n",
    "num_data1 = scaler.transform(num_data1)\n",
    "\n",
    "# Encode categorical features\n",
    "obj_data1 = pd.get_dummies(obj_data1)\n",
    "column_names.extend(obj_data1.columns.to_list())\n",
    "\n",
    "#Concatenate scaled and encoded features\n",
    "X1 = np.concatenate((num_data1, obj_data1.to_numpy(dtype=np.float64)), axis=1)\n",
    "\n",
    "x2_train, x2_test, y2_train, y2_test = tts(X1, Y1, test_size = 0.2, random_state=1)"
   ]
  },
  {
   "cell_type": "code",
   "execution_count": 207,
   "metadata": {},
   "outputs": [],
   "source": [
    "support_vector = SVC(probability=True).fit(x2_train, y2_train)\n",
    "random_forest = RandomForestClassifier().fit(x2_train,y2_train)\n",
    "\n",
    "y_pred_svc = support_vector.predict(x2_test)\n",
    "y_pred_forest = random_forest.predict(x2_test)"
   ]
  },
  {
   "cell_type": "code",
   "execution_count": 100,
   "metadata": {},
   "outputs": [
    {
     "name": "stdout",
     "output_type": "stream",
     "text": [
      " Support Vector Machine accuracy: 0.7625418060200669\n",
      " Random Forest accuracy: 0.9506688963210702\n"
     ]
    }
   ],
   "source": [
    "# Evaluate models\n",
    "\n",
    "print(\" Support Vector Machine accuracy:\",metrics.accuracy_score(y2_test, y_pred_svc))\n",
    "print(\" Random Forest accuracy:\",metrics.accuracy_score(y2_test, y_pred_forest))"
   ]
  },
  {
   "cell_type": "code",
   "execution_count": 101,
   "metadata": {},
   "outputs": [
    {
     "name": "stdout",
     "output_type": "stream",
     "text": [
      "Roc_auc_score :  0.9920699384404925\n"
     ]
    }
   ],
   "source": [
    "# Evaluate roc_auc_score\n",
    "y_prob_forest = random_forest.predict_proba(x2_test)[:, 1]\n",
    "print(\"Roc_auc_score : \", roc_auc_score(y2_test, y_prob_forest))"
   ]
  },
  {
   "cell_type": "code",
   "execution_count": 102,
   "metadata": {},
   "outputs": [],
   "source": [
    "# Create confusion\n",
    "from sklearn.metrics import confusion_matrix\n",
    "matrix = pd.DataFrame(confusion_matrix(y2_test, y_pred_forest), \n",
    "             columns=['Predicted Negative', 'Predicted Positive'], \n",
    "             index=['Actual Negative', 'Actual Positive'])"
   ]
  },
  {
   "cell_type": "code",
   "execution_count": 103,
   "metadata": {},
   "outputs": [
    {
     "data": {
      "text/html": [
       "<div>\n",
       "<style scoped>\n",
       "    .dataframe tbody tr th:only-of-type {\n",
       "        vertical-align: middle;\n",
       "    }\n",
       "\n",
       "    .dataframe tbody tr th {\n",
       "        vertical-align: top;\n",
       "    }\n",
       "\n",
       "    .dataframe thead th {\n",
       "        text-align: right;\n",
       "    }\n",
       "</style>\n",
       "<table border=\"1\" class=\"dataframe\">\n",
       "  <thead>\n",
       "    <tr style=\"text-align: right;\">\n",
       "      <th></th>\n",
       "      <th>Predicted Negative</th>\n",
       "      <th>Predicted Positive</th>\n",
       "    </tr>\n",
       "  </thead>\n",
       "  <tbody>\n",
       "    <tr>\n",
       "      <th>Actual Negative</th>\n",
       "      <td>669</td>\n",
       "      <td>11</td>\n",
       "    </tr>\n",
       "    <tr>\n",
       "      <th>Actual Positive</th>\n",
       "      <td>48</td>\n",
       "      <td>468</td>\n",
       "    </tr>\n",
       "  </tbody>\n",
       "</table>\n",
       "</div>"
      ],
      "text/plain": [
       "                 Predicted Negative  Predicted Positive\n",
       "Actual Negative                 669                  11\n",
       "Actual Positive                  48                 468"
      ]
     },
     "execution_count": 103,
     "metadata": {},
     "output_type": "execute_result"
    }
   ],
   "source": [
    "matrix"
   ]
  },
  {
   "cell_type": "code",
   "execution_count": 104,
   "metadata": {},
   "outputs": [
    {
     "name": "stdout",
     "output_type": "stream",
     "text": [
      "Variable: longitude_gps         Importance: 0.09\n",
      "Variable: customerid            Importance: 0.06\n",
      "Variable: loanamount            Importance: 0.06\n",
      "Variable: totaldue              Importance: 0.06\n",
      "Variable: termdays              Importance: 0.05\n",
      "Variable: good_bad_flag         Importance: 0.05\n",
      "Variable: bank_name_clients     Importance: 0.04\n",
      "Variable: systemloanid          Importance: 0.03\n",
      "Variable: approveddate          Importance: 0.03\n",
      "Variable: latitude_gps          Importance: 0.03\n",
      "Variable: loannumber            Importance: 0.02\n",
      "Variable: bank_account_type     Importance: 0.02\n",
      "Variable: creationdate          Importance: 0.01\n",
      "Variable: employment_status_clients Importance: 0.0\n",
      "Variable: age                   Importance: 0.0\n",
      "Variable: loanapproval          Importance: 0.0\n",
      "Variable: avloanamount          Importance: 0.0\n",
      "Variable: num_loans             Importance: 0.0\n",
      "Variable: avdiff                Importance: 0.0\n",
      "Variable: avtermdays            Importance: 0.0\n",
      "Variable: avtotaldue            Importance: 0.0\n",
      "Variable: agecategory           Importance: 0.0\n"
     ]
    }
   ],
   "source": [
    "importance = list(random_forest.feature_importances_)\n",
    "test_features = complete_df.columns.to_list()\n",
    "feature_importances = [(feature, round(importance, 2)) for feature, importance in zip(test_features, importance)]\n",
    "feature_importances = sorted(feature_importances, key=lambda x: x[1], reverse=True)\n",
    "[print('Variable: {:21} Importance: {}'. format(*pair)) for pair in feature_importances];\n"
   ]
  }
 ],
 "metadata": {
  "kernelspec": {
   "display_name": "Python 3",
   "language": "python",
   "name": "python3"
  },
  "language_info": {
   "codemirror_mode": {
    "name": "ipython",
    "version": 3
   },
   "file_extension": ".py",
   "mimetype": "text/x-python",
   "name": "python",
   "nbconvert_exporter": "python",
   "pygments_lexer": "ipython3",
   "version": "3.7.4"
  }
 },
 "nbformat": 4,
 "nbformat_minor": 4
}
